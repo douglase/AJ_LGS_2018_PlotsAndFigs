{
 "cells": [
  {
   "cell_type": "code",
   "execution_count": null,
   "metadata": {
    "collapsed": true
   },
   "outputs": [],
   "source": []
  },
  {
   "cell_type": "code",
   "execution_count": 1,
   "metadata": {},
   "outputs": [
    {
     "name": "stderr",
     "output_type": "stream",
     "text": [
      "WARNING: AstropyDeprecationWarning: astropy.utils.compat.funcsigs is now deprecated - use inspect instead [astropy.utils.compat.funcsigs]\n",
      "/Users/edouglas/anaconda/envs/astroconda/lib/python3.6/site-packages/pysynphot/locations.py:46: UserWarning: PYSYN_CDBS is undefined; functionality will be SEVERELY crippled.\n",
      "  warnings.warn(\"PYSYN_CDBS is undefined; functionality will be SEVERELY \"\n",
      "/Users/edouglas/anaconda/envs/astroconda/lib/python3.6/site-packages/pysynphot/locations.py:329: UserWarning: Extinction files not found in extinction\n",
      "  warnings.warn('Extinction files not found in %s' % (extdir, ))\n",
      "/Users/edouglas/anaconda/envs/astroconda/lib/python3.6/site-packages/pysynphot/refs.py:118: UserWarning: No graph or component tables found; functionality will be SEVERELY crippled. No files found for ftp://ftp.stsci.edu/cdbs/mtab/*_tmg.fits\n",
      "  'functionality will be SEVERELY crippled. ' + str(e))\n",
      "/Users/edouglas/anaconda/envs/astroconda/lib/python3.6/site-packages/pysynphot/refs.py:125: UserWarning: No thermal tables found, no thermal calculations can be performed. No files found for ftp://ftp.stsci.edu/cdbs/mtab/*_tmt.fits\n",
      "  'no thermal calculations can be performed. ' + str(e))\n"
     ]
    }
   ],
   "source": [
    "import astropy.units as u\n",
    "import astropy.table as tabl\n",
    "import astropy.constants as c\n",
    "import astropy.io.votable as votab\n",
    "import astropy.io.ascii \n",
    "import astropy.units as u\n",
    "from lgs_utilties import zero_mag_Vband\n",
    "from mpl_toolkits.axes_grid1.inset_locator import inset_axes\n",
    "\n",
    "import matplotlib as mpl\n",
    "import os\n",
    "import poppy\n",
    "import numpy as np\n",
    "from lgs_utilties import parse_table\n",
    "\n",
    "%matplotlib inline\n",
    "import matplotlib.pyplot as plt\n",
    "plt.rc('pdf',fonttype = 42)\n",
    "home=os.path.expanduser(\"~/\")\n",
    "\n",
    "\n",
    "#plt.rcParams[\"font.size\"]=9\n",
    "import lgs_utilties as lgs"
   ]
  },
  {
   "cell_type": "code",
   "execution_count": 2,
   "metadata": {},
   "outputs": [
    {
     "data": {
      "text/latex": [
       "$43183.673 \\; \\mathrm{km}$"
      ],
      "text/plain": [
       "<Quantity 43183.67346939 km>"
      ]
     },
     "execution_count": 2,
     "metadata": {},
     "output_type": "execute_result"
    }
   ],
   "source": [
    "#Rx Params:\n",
    "D_t=9.20*u.m\n",
    "wavelength=980*u.nm\n",
    "sci_wavel=600*u.nm\n",
    "efficiency=0.37#QE, transmission, gaussian wings within telescope aperture\n",
    "\n",
    "r=1.15*u.m/2.0 #Eisenhower,  etal 2015. doi:10.1117/12.2188008. table 1\n",
    "\n",
    "tx_rx_separation=2*(D_t/2)**2/wavelength\n",
    "tx_rx_separation.to(u.km)"
   ]
  },
  {
   "cell_type": "code",
   "execution_count": 3,
   "metadata": {},
   "outputs": [
    {
     "data": {
      "text/latex": [
       "$30 \\; \\mathrm{mm}$"
      ],
      "text/plain": [
       "<Quantity 30. mm>"
      ]
     },
     "execution_count": 3,
     "metadata": {},
     "output_type": "execute_result"
    }
   ],
   "source": [
    "seg_pixels= 2*np.sqrt(3)*(30)**2\n",
    "seg_area= 2*np.sqrt(3)*r**2 #regular hexagon, r is inscribed circle, wikipedia...\n",
    "\n",
    "\n",
    "#Tx params\n",
    "U=u.mm*100\n",
    "\n",
    "output_waist=0.5*U/3. #radius of a U with an oversized optic to prevent diffraction on the edges\n",
    "\n",
    "from astropy.table import Table\n",
    "\n",
    "#try to get from fiber to collimator\n",
    "fiber_NA = 0.12 #SM600\n",
    "fiber_MFD = 4.5*u.um #SM600 or 980HP\n",
    "jitter_cubesat = 1.5*u.arcsec #half angle (3 sigma?)\n",
    "fl_collimator = 250*u.mm\n",
    "diam_beam=fiber_NA*fl_collimator\n",
    "\n",
    "wf_exit_aper=poppy.FresnelWavefront(beam_radius=output_waist,\n",
    "                         oversample=32,npix=128,\n",
    "                         wavelength=wavelength)\n",
    "\n",
    "diam_beam"
   ]
  },
  {
   "cell_type": "code",
   "execution_count": null,
   "metadata": {
    "collapsed": true
   },
   "outputs": [],
   "source": []
  },
  {
   "cell_type": "markdown",
   "metadata": {},
   "source": [
    "## Nominal Range"
   ]
  },
  {
   "cell_type": "code",
   "execution_count": 4,
   "metadata": {},
   "outputs": [
    {
     "name": "stdout",
     "output_type": "stream",
     "text": [
      "43183.67346938775 km\n",
      "43184.0 km\n"
     ]
    }
   ],
   "source": [
    "print(tx_rx_separation.decompose().to(u.km))\n",
    "tx_rx_separation = np.round(tx_rx_separation.decompose().to(u.km))\n",
    "print(tx_rx_separation.decompose().to(u.km))"
   ]
  },
  {
   "cell_type": "markdown",
   "metadata": {},
   "source": [
    "## Divergence"
   ]
  },
  {
   "cell_type": "code",
   "execution_count": 5,
   "metadata": {},
   "outputs": [
    {
     "name": "stdout",
     "output_type": "stream",
     "text": [
      "full angle MFD divergence: 3.7127665124477343 arcsec\n",
      "full angle guassian waist divergence: 7.721160535227622 arcsec\n",
      " Focal length to match MFD to waist: 120.21400460165026 mm\n",
      "minimum half angle divergence:3.860580267613811 arcsec\n"
     ]
    }
   ],
   "source": [
    "fl_2_5U=(2.5*100*u.mm)\n",
    "divergence_2_5U=fiber_MFD/fl_2_5U*u.radian\n",
    "fl_25U=(25*100*u.mm)\n",
    "divergence_25U=fiber_MFD/fl_25U*u.radian\n",
    "print(\"full angle MFD divergence: \"+str(divergence_2_5U.to(u.arcsec)))\n",
    "gaussian_diverge=(wf_exit_aper.divergence*u.rad).to(u.arcsec)\n",
    "print(\"full angle guassian waist divergence: \"+str((gaussian_diverge)))\n",
    "print(\" Focal length to match MFD to waist: \"+str(fiber_MFD.to(u.mm)/gaussian_diverge.to(u.radian).value))\n",
    "\n",
    "\n",
    "#find minimum half-angle divergence\n",
    "min_divergence=np.max([divergence_2_5U.to(u.arcsec).value,(wf_exit_aper.divergence*u.rad).to(u.arcsec).value])/2.0*u.arcsec\n",
    "print(\"minimum half angle divergence:\"+str(min_divergence))"
   ]
  },
  {
   "cell_type": "markdown",
   "metadata": {
    "collapsed": true
   },
   "source": [
    "## wfe/segment (ZWFS)\n",
    "\n",
    "via `laser_error_budget/WFE_budget.ipynb`"
   ]
  },
  {
   "cell_type": "markdown",
   "metadata": {},
   "source": [
    "$\\sqrt((0.5/photons))*\\lambda/(2\\pi)$"
   ]
  },
  {
   "cell_type": "code",
   "execution_count": 6,
   "metadata": {},
   "outputs": [
    {
     "data": {
      "text/latex": [
       "$1.2337006 \\times 10^{-10} \\; \\mathrm{}$"
      ],
      "text/plain": [
       "<Quantity 1.23370055e-10>"
      ]
     },
     "execution_count": 6,
     "metadata": {},
     "output_type": "execute_result"
    }
   ],
   "source": [
    "def wfe_per_photon(photons,wavel):\n",
    "    #for ZWFS, from WFE_budget.ipynb, N'Daiye eq. (?)\n",
    "    return np.sqrt((0.5*u.photon/photons))*wavel/(2*np.pi)\n",
    "def contrast_per_wfe(wfe,wavel):\n",
    "    '''\n",
    "    traub and oppenheimer eq. 123\n",
    "    rescaled to RMS wfe asssuming zero mean sine wave disturbance\n",
    "    \n",
    "    '''\n",
    "    \n",
    "    return (np.pi*wfe/wavel/(2*np.sqrt(2)))**2\n",
    "def t_exp_per_vmag(mag,sci_wavel,wavel,contrast=1e-10,efficiency=0.05):\n",
    "    t_exp=(sci_wavel**2/(16*wavel**2*contrast)/(efficiency*zero_mag_Vband/u.photon*10**(-mag/2.5)*seg_area))\n",
    "    return t_exp\n",
    "#,wfe_per_photon(seg_area*zero_mag_Vband*10**(mag/2.5),sci_wavel)/wavel/np.sqrt(2))**2/contrast\n",
    "\n",
    "\n",
    "#validate Jared's model, assuming RMS there is both positive and negative?\n",
    "contrast_per_wfe(5*u.pm,500*u.nm).decompose()"
   ]
  },
  {
   "cell_type": "code",
   "execution_count": 7,
   "metadata": {},
   "outputs": [
    {
     "name": "stdout",
     "output_type": "stream",
     "text": [
      "magnitudes:[-5  0  5 10]\n",
      "exposure times:[4.49565171e-02 4.49565171e+00 4.49565171e+02 4.49565171e+04] s\n"
     ]
    },
    {
     "data": {
      "image/png": "[encoded data removed]",
      "text/plain": [
       "<Figure size 432x288 with 1 Axes>"
      ]
     },
     "metadata": {
      "needs_background": "light"
     },
     "output_type": "display_data"
    }
   ],
   "source": [
    "key_mags=np.array([-5,0,5,10])\n",
    "\n",
    "key_times=t_exp_per_vmag(mag=key_mags,contrast=1e-11,sci_wavel=sci_wavel,wavel=wavelength).decompose()\n",
    "plt.plot(key_mags,key_times,'x')\n",
    "plt.yscale(\"log\")\n",
    "plt.xlabel(\"V mag\")\n",
    "plt.ylabel(key_times.unit)\n",
    "print(\"magnitudes:\"+str(key_mags))\n",
    "print('exposure times:'+str(key_times))\n",
    "plt.title(\"WFS exposure time for 1e-10 contrast sensing\")\n",
    "plt.savefig(\"figs/wfs_exp_vs_Vmag.png\",bbox_inches=\"tight\")"
   ]
  },
  {
   "cell_type": "code",
   "execution_count": 8,
   "metadata": {},
   "outputs": [
    {
     "name": "stdout",
     "output_type": "stream",
     "text": [
      "initing\n",
      "Tx power: 100.0 W\n",
      "1000.0 Hz\n",
      "WFE per pixel: 78.0 pm\n",
      "mean error per segment: 1.392 pm\n"
     ]
    },
    {
     "data": {
      "text/latex": [
       "$6.6399714 \\times 10^{-12} \\; \\mathrm{}$"
      ],
      "text/plain": [
       "<Quantity 6.63997137e-12>"
      ]
     },
     "execution_count": 8,
     "metadata": {},
     "output_type": "execute_result"
    }
   ],
   "source": [
    "link=lgs.link(tx_divergence=10*u.arcsec,\n",
    "                tx_laser_power=100*u.watt,\n",
    "              tx_wavel=wavelength,\n",
    "              tx_rx_separation=tx_rx_separation,)\n",
    "def contrast(link,\n",
    "             sample_freq=1000*u.hertz):\n",
    "    incident = np.median(link.rx_phot_sec)*efficiency\n",
    "    print(\"Tx power: \"+str(link.tx_laser_power))\n",
    "    print(sample_freq)\n",
    "    \n",
    "    seg_incident = incident*seg_area/link.rx_Area\n",
    "    wfe_segment=(wfe_per_photon(seg_incident/sample_freq,wavelength)).to(u.pm)\n",
    "    #just using same sampling as Jared, is this realistic?\n",
    "    phot_per_pix = seg_incident/seg_pixels\n",
    "    wfe_sigma_pix=np.sqrt((0.5*u.photon/phot_per_pix*sample_freq))*link.tx_wavel/(2*np.pi)\n",
    "    print(\"WFE per pixel: \"+str(np.round(wfe_sigma_pix.to(u.picometer))))\n",
    "    wfe_segment=np.sqrt(wfe_sigma_pix**2/seg_pixels)\n",
    "    print(\"mean error per segment: \"+str(np.round(wfe_segment.to(u.picometer),3)))\n",
    "\n",
    "    return contrast_per_wfe(wfe_segment,sci_wavel)\n",
    "\n",
    "contrast(link).decompose()\n"
   ]
  },
  {
   "cell_type": "code",
   "execution_count": 9,
   "metadata": {},
   "outputs": [
    {
     "name": "stdout",
     "output_type": "stream",
     "text": [
      "initing\n",
      "z'\n"
     ]
    },
    {
     "data": {
      "text/latex": [
       "$-8.2371609 \\; \\mathrm{}$"
      ],
      "text/plain": [
       "<Quantity -8.23716089>"
      ]
     },
     "execution_count": 9,
     "metadata": {},
     "output_type": "execute_result"
    }
   ],
   "source": [
    "import importlib \n",
    "importlib.reload(lgs)\n",
    "link=lgs.link(tx_divergence=10*u.arcsec,\n",
    "                tx_laser_power=100*u.watt,\n",
    "              tx_wavel=wavelength,\n",
    "              tx_rx_separation=tx_rx_separation,)\n",
    "link.force_band='z\\''\n",
    "\n",
    "link.magnitude"
   ]
  },
  {
   "cell_type": "code",
   "execution_count": 10,
   "metadata": {},
   "outputs": [
    {
     "name": "stderr",
     "output_type": "stream",
     "text": [
      "WARNING: W50: data/mission_stars.votable:23:3: W50: Invalid unit string 'mags' [astropy.io.votable.tree]\n",
      "WARNING: W06: data/mission_stars.votable:24:3: W06: Invalid UCD 'POS_EQ_RA_MAIN': Unknown word 'POS_EQ_RA_MAIN' [astropy.io.votable.tree]\n",
      "WARNING: W50: data/mission_stars.votable:25:3: W50: Invalid unit string 'degrees' [astropy.io.votable.tree]\n",
      "WARNING: W06: data/mission_stars.votable:27:3: W06: Invalid UCD 'POS_EQ_DEC_MAIN': Unknown word 'POS_EQ_DEC_MAIN' [astropy.io.votable.tree]\n",
      "WARNING: W50: data/mission_stars.votable:28:3: W50: Invalid unit string 'degrees' [astropy.io.votable.tree]\n",
      "WARNING: W50: data/mission_stars.votable:30:3: W50: Invalid unit string 'degrees' [astropy.io.votable.tree]\n",
      "WARNING: W50: data/mission_stars.votable:31:3: W50: Invalid unit string 'degrees' [astropy.io.votable.tree]\n",
      "WARNING: W50: data/mission_stars.votable:32:3: W50: Invalid unit string 'degrees' [astropy.io.votable.tree]\n",
      "WARNING: W50: data/mission_stars.votable:33:3: W50: Invalid unit string 'degrees' [astropy.io.votable.tree]\n",
      "WARNING: W50: data/mission_stars.votable:42:3: W50: Invalid unit string 'mags' [astropy.io.votable.tree]\n",
      "WARNING: W50: data/mission_stars.votable:43:3: W50: Invalid unit string 'mags' [astropy.io.votable.tree]\n",
      "WARNING: W50: data/mission_stars.votable:46:3: W50: Invalid unit string 'mags' (suppressing further warnings of this type...) [astropy.io.votable.tree]\n",
      "WARNING: W06: data/mission_stars.votable:119:3: W06: Invalid UCD 'ID_MAIN': Unknown word 'ID_MAIN' [astropy.io.votable.tree]\n",
      "WARNING: W50: data/exocat_stars.votable:23:3: W50: Invalid unit string 'mags' [astropy.io.votable.tree]\n",
      "WARNING: W06: data/exocat_stars.votable:24:3: W06: Invalid UCD 'POS_EQ_RA_MAIN': Unknown word 'POS_EQ_RA_MAIN' [astropy.io.votable.tree]\n",
      "WARNING: W50: data/exocat_stars.votable:25:3: W50: Invalid unit string 'degrees' [astropy.io.votable.tree]\n",
      "WARNING: W06: data/exocat_stars.votable:27:3: W06: Invalid UCD 'POS_EQ_DEC_MAIN': Unknown word 'POS_EQ_DEC_MAIN' [astropy.io.votable.tree]\n",
      "WARNING: W50: data/exocat_stars.votable:28:3: W50: Invalid unit string 'degrees' [astropy.io.votable.tree]\n",
      "WARNING: W50: data/exocat_stars.votable:30:3: W50: Invalid unit string 'degrees' [astropy.io.votable.tree]\n",
      "WARNING: W50: data/exocat_stars.votable:31:3: W50: Invalid unit string 'degrees' [astropy.io.votable.tree]\n",
      "WARNING: W50: data/exocat_stars.votable:32:3: W50: Invalid unit string 'degrees' [astropy.io.votable.tree]\n",
      "WARNING: W50: data/exocat_stars.votable:33:3: W50: Invalid unit string 'degrees' [astropy.io.votable.tree]\n",
      "WARNING: W50: data/exocat_stars.votable:42:3: W50: Invalid unit string 'mags' [astropy.io.votable.tree]\n",
      "WARNING: W50: data/exocat_stars.votable:43:3: W50: Invalid unit string 'mags' [astropy.io.votable.tree]\n",
      "WARNING: W50: data/exocat_stars.votable:46:3: W50: Invalid unit string 'mags' (suppressing further warnings of this type...) [astropy.io.votable.tree]\n",
      "WARNING: W06: data/exocat_stars.votable:119:3: W06: Invalid UCD 'ID_MAIN': Unknown word 'ID_MAIN' [astropy.io.votable.tree]\n"
     ]
    },
    {
     "data": {
      "text/html": [
       "<i>Table masked=True length=2396</i>\n",
       "<table id=\"table112370389456\" class=\"table-striped table-bordered table-condensed\">\n",
       "<thead><tr><th>hip_name</th><th>hd_name</th><th>gj_name</th><th>tm_name</th><th>st_exocatflag</th><th>st_coronagflag</th><th>st_starshadeflag</th><th>st_wfirstflag</th><th>st_rvflag</th><th>st_lbtiflag</th><th>st_probeflag</th><th>st_k2flag</th><th>st_k2campaign</th><th>st_ppnum</th><th>wds_designation</th><th>wds_sep</th><th>wds_deltamag</th><th>ra</th><th>raerr</th><th>rastr</th><th>dec</th><th>decerr</th><th>decstr</th><th>st_glon</th><th>st_glonerr</th><th>st_glat</th><th>st_glaterr</th><th>st_fracplxunc</th><th>st_dist</th><th>st_disterr1</th><th>st_disterr2</th><th>st_pmra</th><th>st_pmraerr</th><th>st_pmdec</th><th>st_pmdecerr</th><th>st_vmag</th><th>st_vmagerr</th><th>st_vmagsrc</th><th>st_kmagsrc</th><th>st_bmv</th><th>st_bmverr</th><th>st_bmvsrc</th><th>st_vmk</th><th>st_vmkerr</th><th>st_vmksrc</th><th>st_spttype</th><th>st_lumclass</th><th>st_spttag</th><th>st_mbol</th><th>st_mbolerr</th><th>st_mbolsrc</th><th>st_mbolflag</th><th>st_lbol</th><th>st_lbolerr</th><th>st_lbolsrc</th><th>st_teff</th><th>st_tefferr</th><th>st_teffsrc</th><th>st_logg</th><th>st_loggerr</th><th>st_loggsrc</th><th>st_metfe</th><th>st_metfeerr</th><th>st_metfesrc</th><th>st_metratio</th><th>st_rad</th><th>st_raderr</th><th>st_radsrc</th><th>st_mass</th><th>st_masserr</th><th>st_masssrc</th><th>st_age</th><th>st_ageerr</th><th>st_agesrc</th><th>st_actclass</th><th>st_eeidau</th><th>st_eeidauerr</th><th>st_eeidmas</th><th>st_eeidmaserr</th><th>st_fpbearth</th><th>st_fpbeartherr</th><th>st_vmagearth</th><th>st_vmageartherr</th><th>st_nts</th><th>st_nplc</th><th>st_nglc</th><th>st_nrvc</th><th>st_naxa</th><th>st_nimg</th><th>st_nspec</th><th>st_j2m</th><th>st_j2merr</th><th>st_j2mlim</th><th>st_h2m</th><th>st_h2merr</th><th>st_h2mlim</th><th>st_ks2m</th><th>st_ks2merr</th><th>st_ks2mlim</th><th>st_wise1</th><th>st_wise1err</th><th>st_wise1lim</th><th>st_wise2</th><th>st_wise2err</th><th>st_wise2lim</th><th>st_wise3</th><th>st_wise3err</th><th>st_wise3lim</th><th>st_wise4</th><th>st_wise4err</th><th>st_wise4lim</th><th>star_name</th><th>id</th></tr></thead>\n",
       "<thead><tr><th></th><th></th><th></th><th></th><th></th><th></th><th></th><th></th><th></th><th></th><th></th><th></th><th></th><th></th><th></th><th>arcs</th><th>mags</th><th>deg</th><th>degrees</th><th></th><th>deg</th><th>degrees</th><th></th><th>degrees</th><th>degrees</th><th>degrees</th><th>degrees</th><th></th><th>pc</th><th>pc</th><th>pc</th><th>mas / yr</th><th>mas / yr</th><th>mas / yr</th><th>mas / yr</th><th>mags</th><th>mags</th><th></th><th></th><th>mags</th><th>mags</th><th></th><th>mags</th><th>mags</th><th></th><th></th><th></th><th></th><th>mags</th><th>mags</th><th></th><th></th><th>Lsun</th><th>Lsun</th><th></th><th>K</th><th>K</th><th></th><th>cm/s**2</th><th>cm/s**2</th><th></th><th>dex</th><th>dex</th><th></th><th></th><th>Rsun</th><th>Rsun</th><th></th><th>Msun</th><th>Msun</th><th></th><th>Gyr</th><th>Gyr</th><th></th><th></th><th>AU</th><th>AU</th><th>mas</th><th>mas</th><th></th><th></th><th>mag</th><th>mag</th><th></th><th></th><th></th><th></th><th></th><th></th><th></th><th>mags</th><th>mags</th><th></th><th>mags</th><th>mags</th><th></th><th>mags</th><th>mags</th><th></th><th>mags</th><th>mags</th><th></th><th>mags</th><th>mags</th><th></th><th>mags</th><th>mags</th><th></th><th>mags</th><th>mags</th><th></th><th></th><th></th></tr></thead>\n",
       "<thead><tr><th>object</th><th>object</th><th>object</th><th>object</th><th>int32</th><th>int32</th><th>int32</th><th>int32</th><th>int32</th><th>int32</th><th>int32</th><th>int32</th><th>int32</th><th>int32</th><th>object</th><th>float64</th><th>float64</th><th>float64</th><th>float64</th><th>object</th><th>float64</th><th>float64</th><th>object</th><th>float64</th><th>float64</th><th>float64</th><th>float64</th><th>float64</th><th>float64</th><th>float64</th><th>float64</th><th>float64</th><th>float64</th><th>float64</th><th>float64</th><th>float64</th><th>float64</th><th>object</th><th>object</th><th>float64</th><th>float64</th><th>object</th><th>float64</th><th>float64</th><th>object</th><th>object</th><th>object</th><th>object</th><th>float64</th><th>float64</th><th>object</th><th>int32</th><th>float64</th><th>float64</th><th>object</th><th>float64</th><th>float64</th><th>object</th><th>float64</th><th>float64</th><th>object</th><th>float64</th><th>float64</th><th>object</th><th>object</th><th>float64</th><th>float64</th><th>object</th><th>float64</th><th>float64</th><th>object</th><th>float64</th><th>float64</th><th>object</th><th>object</th><th>float64</th><th>float64</th><th>float64</th><th>float64</th><th>float64</th><th>float64</th><th>float64</th><th>float64</th><th>object</th><th>object</th><th>object</th><th>object</th><th>object</th><th>object</th><th>object</th><th>float64</th><th>float64</th><th>int32</th><th>float64</th><th>float64</th><th>int32</th><th>float64</th><th>float64</th><th>int32</th><th>float64</th><th>float64</th><th>int32</th><th>float64</th><th>float64</th><th>int32</th><th>float64</th><th>float64</th><th>int32</th><th>float64</th><th>float64</th><th>int32</th><th>object</th><th>object</th></tr></thead>\n",
       "<tr><td>HIP 3185</td><td>HD 3795</td><td>GJ 27.2</td><td>2MASS J00403279-2348172</td><td>1</td><td>0</td><td>0</td><td>0</td><td>0</td><td>0</td><td>0</td><td>0</td><td>--</td><td>0</td><td></td><td>--</td><td>--</td><td>10.135</td><td>--</td><td>00h40m32.40s</td><td>-23.804</td><td>--</td><td>-23d48m14.4s</td><td>85.837351</td><td>--</td><td>-85.86506</td><td>--</td><td>0.01</td><td>28.89</td><td>0.29</td><td>-0.29</td><td>635.5</td><td>--</td><td>-363.3</td><td>--</td><td>6.14</td><td>0.01</td><td>G</td><td></td><td>0.72</td><td>0.01</td><td>G</td><td>--</td><td>--</td><td></td><td>G3/5V</td><td>MAINSEQ</td><td>G</td><td>3.84</td><td>0.04</td><td></td><td>0</td><td>2.76</td><td>0.11</td><td>B-V</td><td>5369.0</td><td>--</td><td>2005ApJS..159..141V</td><td>4.06</td><td>--</td><td>2007ApJS..168..297T</td><td>-0.58</td><td>--</td><td></td><td>[Fe/H]</td><td>1.9</td><td>--</td><td>2007ApJS..168..297T</td><td>1.46</td><td>--</td><td>2007ApJS..168..297T</td><td>11.6</td><td>--</td><td>2007ApJS..168..297T</td><td>VI</td><td>1.66</td><td>--</td><td>57.55</td><td>--</td><td>0.0</td><td>--</td><td>32.09</td><td>--</td><td>1</td><td>0</td><td>1</td><td>0</td><td>0</td><td>1</td><td>2</td><td>5.13</td><td>0.288</td><td>0</td><td>4.545</td><td>0.214</td><td>0</td><td>4.333</td><td>0.02</td><td>0</td><td>--</td><td>--</td><td>--</td><td>--</td><td>--</td><td>--</td><td>--</td><td>--</td><td>--</td><td>--</td><td>--</td><td>--</td><td>HIP 3185</td><td>0</td></tr>\n",
       "<tr><td>HIP 3203 A</td><td>HD 3821</td><td>GJ 9020 A</td><td>2MASS J00404747-0713574</td><td>1</td><td>0</td><td>0</td><td>0</td><td>0</td><td>0</td><td>0</td><td>0</td><td>--</td><td>0</td><td>00408-0714</td><td>--</td><td>--</td><td>10.198</td><td>--</td><td>00h40m47.48s</td><td>-7.232</td><td>--</td><td>-07d13m56.6s</td><td>115.211641</td><td>--</td><td>-69.944399</td><td>--</td><td>0.02</td><td>26.5</td><td>0.54</td><td>-0.52</td><td>0.6</td><td>--</td><td>-91.6</td><td>--</td><td>7.02</td><td>0.01</td><td>G</td><td>2MASS</td><td>0.62</td><td>0.02</td><td>G</td><td>1.5</td><td>0.03</td><td></td><td>G2/3V</td><td>MAINSEQ</td><td>G</td><td>4.9</td><td>0.05</td><td></td><td>1</td><td>0.98</td><td>0.06</td><td>V-K</td><td>5828.0</td><td>--</td><td>2005ApJS..159..141V</td><td>4.51</td><td>--</td><td>2007ApJS..168..297T</td><td>-0.06</td><td>--</td><td></td><td>[Fe/H]</td><td>0.95</td><td>--</td><td>2007ApJS..168..297T</td><td>1.01</td><td>--</td><td>2007ApJS..168..297T</td><td>5.0</td><td>--</td><td>2005ApJS..159..141V</td><td>A</td><td>0.99</td><td>--</td><td>37.3</td><td>--</td><td>0.0</td><td>--</td><td>31.84</td><td>--</td><td>1</td><td>0</td><td>1</td><td>0</td><td>0</td><td>1</td><td>0</td><td>5.911</td><td>0.019</td><td>0</td><td>5.604</td><td>0.038</td><td>0</td><td>5.522</td><td>0.026</td><td>0</td><td>--</td><td>--</td><td>--</td><td>--</td><td>--</td><td>--</td><td>--</td><td>--</td><td>--</td><td>--</td><td>--</td><td>--</td><td>HIP 3203 A</td><td>1</td></tr>\n",
       "<tr><td>HIP 3206</td><td>HD 3765</td><td>GJ 28</td><td>2MASS J00404929+4011133</td><td>1</td><td>0</td><td>0</td><td>0</td><td>0</td><td>0</td><td>0</td><td>0</td><td>--</td><td>0</td><td></td><td>--</td><td>--</td><td>10.204</td><td>--</td><td>00h40m49.00s</td><td>40.189</td><td>--</td><td>+40d11m19.7s</td><td>120.734384</td><td>--</td><td>-22.637565</td><td>--</td><td>0.01</td><td>17.33</td><td>0.18</td><td>-0.17</td><td>355.7</td><td>--</td><td>-668.9</td><td>--</td><td>7.36</td><td>0.01</td><td>G</td><td>2MASS</td><td>0.94</td><td>0.02</td><td>G</td><td>2.2</td><td>0.02</td><td></td><td>K2V</td><td>MAINSEQ</td><td>K</td><td>6.17</td><td>0.04</td><td></td><td>0</td><td>0.37</td><td>0.05</td><td>V-K</td><td>5032.0</td><td>--</td><td>2005ApJS..159..141V</td><td>4.58</td><td>--</td><td>2007ApJS..168..297T</td><td>0.18</td><td>--</td><td></td><td>[Fe/H]</td><td>0.79</td><td>--</td><td>2007ApJS..168..297T</td><td>0.85</td><td>--</td><td>2007ApJS..168..297T</td><td>2.0</td><td>--</td><td>2007ApJS..168..297T</td><td>VI</td><td>0.61</td><td>--</td><td>35.18</td><td>--</td><td>0.0</td><td>--</td><td>31.13</td><td>--</td><td>1</td><td>0</td><td>1</td><td>0</td><td>0</td><td>2</td><td>6</td><td>5.694</td><td>0.024</td><td>0</td><td>5.272</td><td>0.051</td><td>0</td><td>5.164</td><td>0.016</td><td>0</td><td>--</td><td>--</td><td>--</td><td>--</td><td>--</td><td>--</td><td>--</td><td>--</td><td>--</td><td>--</td><td>--</td><td>--</td><td>HIP 3206</td><td>2</td></tr>\n",
       "<tr><td>HIP 3261</td><td></td><td>GJ 1016</td><td>2MASS J00413051-3337317</td><td>1</td><td>0</td><td>0</td><td>0</td><td>0</td><td>0</td><td>0</td><td>0</td><td>--</td><td>0</td><td></td><td>--</td><td>--</td><td>10.378</td><td>--</td><td>00h41m30.72s</td><td>-33.625</td><td>--</td><td>-33d37m29.8s</td><td>320.553419</td><td>--</td><td>-83.160339</td><td>--</td><td>0.04</td><td>19.53</td><td>0.81</td><td>-0.75</td><td>-348.1</td><td>--</td><td>-249.4</td><td>--</td><td>10.53</td><td>0.01</td><td>Koen</td><td>2MASS</td><td>1.44</td><td>0.01</td><td>Koen</td><td>3.7</td><td>0.02</td><td></td><td></td><td>MAINSEQ</td><td>M</td><td>9.07</td><td>0.11</td><td></td><td>0</td><td>0.06</td><td>0.11</td><td>V-K</td><td>3885.0</td><td>--</td><td>V-K</td><td>--</td><td>--</td><td></td><td>--</td><td>--</td><td></td><td></td><td>0.52</td><td>--</td><td>Turnbull</td><td>0.48</td><td>--</td><td>Turnbull</td><td>--</td><td>--</td><td></td><td>I</td><td>0.24</td><td>--</td><td>12.15</td><td>--</td><td>0.0</td><td>--</td><td>32.24</td><td>--</td><td>1</td><td>0</td><td>1</td><td>0</td><td>0</td><td>2</td><td>0</td><td>7.708</td><td>0.02</td><td>0</td><td>7.1</td><td>0.038</td><td>0</td><td>6.884</td><td>0.016</td><td>0</td><td>--</td><td>--</td><td>--</td><td>--</td><td>--</td><td>--</td><td>--</td><td>--</td><td>--</td><td>--</td><td>--</td><td>--</td><td>HIP 3261</td><td>3</td></tr>\n",
       "<tr><td>HIP 3362</td><td></td><td>GJ 29.1</td><td>2MASS J00424820+3532554</td><td>1</td><td>0</td><td>0</td><td>0</td><td>0</td><td>0</td><td>0</td><td>0</td><td>--</td><td>0</td><td>00428+3533</td><td>--</td><td>--</td><td>10.700</td><td>--</td><td>00h42m48.06s</td><td>35.549</td><td>--</td><td>+35d32m55.0s</td><td>120.955172</td><td>--</td><td>-27.28994</td><td>--</td><td>0.07</td><td>23.3</td><td>1.75</td><td>-1.52</td><td>265.0</td><td>--</td><td>74.5</td><td>--</td><td>10.44</td><td>0.23</td><td>VT</td><td>2MASS</td><td>1.54</td><td>0.23</td><td>BVT-G-Red</td><td>4.12</td><td>0.23</td><td></td><td>M1Ve+...</td><td></td><td></td><td>8.61</td><td>0.38</td><td></td><td>0</td><td>0.12</td><td>0.44</td><td>V-K</td><td>3650.0</td><td>--</td><td>V-K</td><td>--</td><td>--</td><td></td><td>--</td><td>--</td><td></td><td></td><td>0.88</td><td>--</td><td>Turnbull</td><td>0.58</td><td>--</td><td>Turnbull</td><td>--</td><td>--</td><td></td><td></td><td>0.35</td><td>--</td><td>15.08</td><td>--</td><td>0.0</td><td>--</td><td>33.02</td><td>--</td><td>1</td><td>0</td><td>1</td><td>0</td><td>0</td><td>2</td><td>0</td><td>7.164</td><td>0.021</td><td>0</td><td>6.506</td><td>0.018</td><td>0</td><td>6.321</td><td>0.02</td><td>0</td><td>--</td><td>--</td><td>--</td><td>--</td><td>--</td><td>--</td><td>--</td><td>--</td><td>--</td><td>--</td><td>--</td><td>--</td><td>HIP 3362</td><td>4</td></tr>\n",
       "<tr><td>HIP 3378</td><td></td><td></td><td>2MASS J00425668+2239350</td><td>1</td><td>0</td><td>0</td><td>0</td><td>0</td><td>0</td><td>0</td><td>0</td><td>--</td><td>0</td><td>00429+2240</td><td>--</td><td>--</td><td>10.735</td><td>--</td><td>00h42m56.51s</td><td>22.660</td><td>--</td><td>+22d39m34.5s</td><td>120.366559</td><td>--</td><td>-40.169812</td><td>--</td><td>0.09</td><td>28.93</td><td>2.86</td><td>-2.39</td><td>400.6</td><td>--</td><td>18.1</td><td>--</td><td>11.55</td><td>0.01</td><td>G</td><td>2MASS</td><td>1.44</td><td>0.02</td><td>G</td><td>3.73</td><td>0.02</td><td></td><td>M1</td><td>MAINSEQ</td><td>M</td><td>9.24</td><td>0.21</td><td></td><td>0</td><td>0.05</td><td>0.22</td><td>V-K</td><td>3864.0</td><td>--</td><td>V-K</td><td>--</td><td>--</td><td></td><td>--</td><td>--</td><td></td><td></td><td>0.51</td><td>--</td><td>Turnbull</td><td>0.47</td><td>--</td><td>Turnbull</td><td>--</td><td>--</td><td></td><td></td><td>0.23</td><td>--</td><td>7.88</td><td>--</td><td>0.0</td><td>--</td><td>33.18</td><td>--</td><td>1</td><td>0</td><td>1</td><td>0</td><td>0</td><td>1</td><td>0</td><td>8.616</td><td>0.027</td><td>0</td><td>8.013</td><td>0.017</td><td>0</td><td>7.818</td><td>0.02</td><td>0</td><td>--</td><td>--</td><td>--</td><td>--</td><td>--</td><td>--</td><td>--</td><td>--</td><td>--</td><td>--</td><td>--</td><td>--</td><td>HIP 3378</td><td>5</td></tr>\n",
       "<tr><td>HIP 3418</td><td></td><td>GJ 30</td><td>2MASS J00433289+3350412</td><td>1</td><td>0</td><td>0</td><td>0</td><td>0</td><td>0</td><td>0</td><td>0</td><td>--</td><td>0</td><td>00435+3351</td><td>--</td><td>--</td><td>10.888</td><td>--</td><td>00h43m33.00s</td><td>33.845</td><td>--</td><td>+33d50m43.6s</td><td>121.059404</td><td>--</td><td>-28.997584</td><td>--</td><td>0.02</td><td>20.57</td><td>0.42</td><td>-0.4</td><td>-203.0</td><td>--</td><td>-356.2</td><td>--</td><td>8.73</td><td>0.01</td><td>G</td><td>2MASS</td><td>1.13</td><td>0.02</td><td>G</td><td>2.79</td><td>0.02</td><td></td><td>K8</td><td>MAINSEQ</td><td>K</td><td>7.16</td><td>0.05</td><td></td><td>0</td><td>0.2</td><td>0.06</td><td>V-K</td><td>4502.0</td><td>--</td><td>V-K</td><td>--</td><td>--</td><td></td><td>--</td><td>--</td><td></td><td></td><td>0.73</td><td>--</td><td>Turnbull</td><td>0.66</td><td>--</td><td>Turnbull</td><td>--</td><td>--</td><td></td><td>I</td><td>0.45</td><td>--</td><td>21.66</td><td>--</td><td>0.0</td><td>--</td><td>31.82</td><td>--</td><td>1</td><td>0</td><td>1</td><td>0</td><td>0</td><td>2</td><td>1</td><td>6.592</td><td>0.018</td><td>0</td><td>6.051</td><td>0.02</td><td>0</td><td>5.938</td><td>0.016</td><td>0</td><td>--</td><td>--</td><td>--</td><td>--</td><td>--</td><td>--</td><td>--</td><td>--</td><td>--</td><td>--</td><td>--</td><td>--</td><td>HIP 3418</td><td>6</td></tr>\n",
       "<tr><td>HIP 3419</td><td>HD 4128</td><td>GJ 31</td><td>2MASS J00433536-1759117</td><td>1</td><td>1</td><td>0</td><td>0</td><td>0</td><td>0</td><td>1</td><td>0</td><td>--</td><td>0</td><td></td><td>--</td><td>--</td><td>10.897</td><td>--</td><td>00h43m35.23s</td><td>-17.987</td><td>--</td><td>-17d59m12.1s</td><td>111.32662</td><td>--</td><td>-80.681076</td><td>--</td><td>0.0</td><td>29.53</td><td>--</td><td>--</td><td>232.8</td><td>--</td><td>32.7</td><td>--</td><td>2.02</td><td>0.02</td><td>VT-G</td><td>Koornneef</td><td>1.04</td><td>0.02</td><td>BVT-G-Red</td><td>2.28</td><td>0.05</td><td></td><td>K0III</td><td>GIANT</td><td>GIANT</td><td>-0.33</td><td>0.03</td><td></td><td>0</td><td>151.95</td><td>0.06</td><td>V-K</td><td>4944.0</td><td>--</td><td>V-K</td><td>--</td><td>--</td><td></td><td>--</td><td>--</td><td></td><td></td><td>16.79</td><td>--</td><td>Turnbull</td><td>3.63</td><td>--</td><td>Turnbull</td><td>--</td><td>--</td><td></td><td></td><td>12.33</td><td>--</td><td>417.38</td><td>--</td><td>0.0</td><td>--</td><td>32.32</td><td>--</td><td>1</td><td>0</td><td>1</td><td>0</td><td>0</td><td>1</td><td>0</td><td>0.37</td><td>0.198</td><td>0</td><td>-0.219</td><td>0.28</td><td>0</td><td>-0.274</td><td>0.37</td><td>0</td><td>--</td><td>--</td><td>--</td><td>--</td><td>--</td><td>--</td><td>--</td><td>--</td><td>--</td><td>--</td><td>--</td><td>--</td><td>HIP 3419</td><td>7</td></tr>\n",
       "<tr><td>HIP 3497</td><td>HD 4308</td><td>GJ 31.5</td><td>2MASS J00443925-6538581</td><td>1</td><td>0</td><td>0</td><td>0</td><td>1</td><td>0</td><td>0</td><td>0</td><td>--</td><td>1</td><td></td><td>--</td><td>--</td><td>11.163</td><td>--</td><td>00h44m39.04s</td><td>-65.648</td><td>--</td><td>-65d38m51.8s</td><td>304.054826</td><td>--</td><td>-51.465636</td><td>--</td><td>0.01</td><td>22.06</td><td>0.22</td><td>-0.22</td><td>157.9</td><td>--</td><td>-742.4</td><td>--</td><td>6.55</td><td>0.0</td><td>G</td><td>2MASS</td><td>0.66</td><td>0.01</td><td>G</td><td>1.61</td><td>0.02</td><td></td><td>G5V</td><td>MAINSEQ</td><td>G</td><td>4.83</td><td>0.02</td><td></td><td>0</td><td>1.07</td><td>0.03</td><td>V-K</td><td>5695.0</td><td>--</td><td>2005ApJS..159..141V</td><td>4.41</td><td>--</td><td>2007ApJS..168..297T</td><td>-0.31</td><td>--</td><td></td><td>[Fe/H]</td><td>1.02</td><td>--</td><td>2007ApJS..168..297T</td><td>0.93</td><td>--</td><td>2007ApJS..168..297T</td><td>8.68</td><td>--</td><td>2007ApJS..168..297T</td><td>I</td><td>1.03</td><td>--</td><td>46.86</td><td>--</td><td>0.0</td><td>--</td><td>31.47</td><td>--</td><td>3</td><td>0</td><td>1</td><td>2</td><td>0</td><td>2</td><td>1</td><td>5.366</td><td>0.024</td><td>0</td><td>5.101</td><td>0.016</td><td>0</td><td>4.945</td><td>0.02</td><td>0</td><td>4.943</td><td>0.236</td><td>0</td><td>4.675</td><td>0.122</td><td>0</td><td>4.942</td><td>0.018</td><td>0</td><td>4.886</td><td>0.033</td><td>0</td><td>HD 4308</td><td>8</td></tr>\n",
       "<tr><td>...</td><td>...</td><td>...</td><td>...</td><td>...</td><td>...</td><td>...</td><td>...</td><td>...</td><td>...</td><td>...</td><td>...</td><td>...</td><td>...</td><td>...</td><td>...</td><td>...</td><td>...</td><td>...</td><td>...</td><td>...</td><td>...</td><td>...</td><td>...</td><td>...</td><td>...</td><td>...</td><td>...</td><td>...</td><td>...</td><td>...</td><td>...</td><td>...</td><td>...</td><td>...</td><td>...</td><td>...</td><td>...</td><td>...</td><td>...</td><td>...</td><td>...</td><td>...</td><td>...</td><td>...</td><td>...</td><td>...</td><td>...</td><td>...</td><td>...</td><td>...</td><td>...</td><td>...</td><td>...</td><td>...</td><td>...</td><td>...</td><td>...</td><td>...</td><td>...</td><td>...</td><td>...</td><td>...</td><td>...</td><td>...</td><td>...</td><td>...</td><td>...</td><td>...</td><td>...</td><td>...</td><td>...</td><td>...</td><td>...</td><td>...</td><td>...</td><td>...</td><td>...</td><td>...</td><td>...</td><td>...</td><td>...</td><td>...</td><td>...</td><td>...</td><td>...</td><td>...</td><td>...</td><td>...</td><td>...</td><td>...</td><td>...</td><td>...</td><td>...</td><td>...</td><td>...</td><td>...</td><td>...</td><td>...</td><td>...</td><td>...</td><td>...</td><td>...</td><td>...</td><td>...</td><td>...</td><td>...</td><td>...</td><td>...</td><td>...</td><td>...</td><td>...</td><td>...</td></tr>\n",
       "<tr><td>HIP 116384</td><td></td><td>GJ 900</td><td>2MASS J23350028+0136193</td><td>1</td><td>0</td><td>0</td><td>0</td><td>0</td><td>0</td><td>0</td><td>0</td><td>--</td><td>0</td><td>23350+0136</td><td>--</td><td>--</td><td>353.750</td><td>--</td><td>23h35m00.08s</td><td>1.605</td><td>--</td><td>+01d36m19.2s</td><td>87.244873</td><td>--</td><td>-55.877708</td><td>--</td><td>0.02</td><td>19.03</td><td>0.39</td><td>-0.37</td><td>343.0</td><td>--</td><td>26.8</td><td>--</td><td>9.55</td><td>0.01</td><td>Koen</td><td>2MASS</td><td>1.35</td><td>0.01</td><td>Koen</td><td>3.55</td><td>0.02</td><td></td><td>M0</td><td>MAINSEQ</td><td>M</td><td>8.15</td><td>0.07</td><td></td><td>0</td><td>0.12</td><td>0.07</td><td>V-K</td><td>3976.0</td><td>--</td><td>V-K</td><td>--</td><td>--</td><td></td><td>--</td><td>--</td><td></td><td></td><td>0.73</td><td>--</td><td>Turnbull</td><td>0.58</td><td>--</td><td>Turnbull</td><td>--</td><td>--</td><td></td><td></td><td>0.35</td><td>--</td><td>18.14</td><td>--</td><td>0.0</td><td>--</td><td>32.08</td><td>--</td><td>1</td><td>0</td><td>1</td><td>0</td><td>0</td><td>2</td><td>0</td><td>6.881</td><td>0.02</td><td>0</td><td>6.28</td><td>0.045</td><td>0</td><td>6.044</td><td>0.018</td><td>0</td><td>--</td><td>--</td><td>--</td><td>--</td><td>--</td><td>--</td><td>--</td><td>--</td><td>--</td><td>--</td><td>--</td><td>--</td><td>HIP 116384</td><td>2386</td></tr>\n",
       "<tr><td>HIP 116416</td><td>HD 221851</td><td>GJ 4343</td><td>2MASS J23352560+3109408</td><td>1</td><td>0</td><td>0</td><td>0</td><td>0</td><td>0</td><td>0</td><td>0</td><td>--</td><td>0</td><td></td><td>--</td><td>--</td><td>353.857</td><td>--</td><td>23h35m25.74s</td><td>31.162</td><td>--</td><td>+31d09m43.2s</td><td>104.364255</td><td>--</td><td>-28.95449</td><td>--</td><td>0.02</td><td>23.81</td><td>0.49</td><td>-0.47</td><td>-196.7</td><td>--</td><td>-281.4</td><td>--</td><td>7.9</td><td>0.0</td><td>G</td><td>2MASS</td><td>0.85</td><td>0.01</td><td>G</td><td>1.99</td><td>0.02</td><td></td><td>G5</td><td>MAINSEQ</td><td>G</td><td>6.02</td><td>0.04</td><td></td><td>0</td><td>0.4</td><td>0.05</td><td>V-K</td><td>5148.0</td><td>--</td><td>Gray</td><td>4.53</td><td>--</td><td>Gray</td><td>--</td><td>--</td><td></td><td></td><td>0.79</td><td>--</td><td>Turnbull</td><td>0.79</td><td>--</td><td>Turnbull</td><td>--</td><td>--</td><td></td><td>A</td><td>0.63</td><td>--</td><td>26.57</td><td>--</td><td>0.0</td><td>--</td><td>31.75</td><td>--</td><td>1</td><td>0</td><td>1</td><td>0</td><td>0</td><td>2</td><td>1</td><td>6.408</td><td>0.037</td><td>0</td><td>5.996</td><td>0.038</td><td>0</td><td>5.91</td><td>0.024</td><td>0</td><td>--</td><td>--</td><td>--</td><td>--</td><td>--</td><td>--</td><td>--</td><td>--</td><td>--</td><td>--</td><td>--</td><td>--</td><td>HIP 116416</td><td>2387</td></tr>\n",
       "<tr><td>HIP 116443</td><td></td><td>GJ 4346</td><td>2MASS J23354444+4158038</td><td>1</td><td>0</td><td>0</td><td>0</td><td>0</td><td>0</td><td>0</td><td>0</td><td>--</td><td>0</td><td></td><td>--</td><td>--</td><td>353.933</td><td>--</td><td>23h35m43.92s</td><td>41.967</td><td>--</td><td>+41d58m02.5s</td><td>108.179372</td><td>--</td><td>-18.725381</td><td>--</td><td>0.06</td><td>27.01</td><td>1.72</td><td>-1.53</td><td>701.3</td><td>--</td><td>151.6</td><td>--</td><td>11.17</td><td>0.01</td><td>G</td><td>2MASS</td><td>1.37</td><td>0.02</td><td>G</td><td>3.92</td><td>0.03</td><td></td><td>M:</td><td>MAINSEQ</td><td>M</td><td>9.01</td><td>0.16</td><td></td><td>0</td><td>0.07</td><td>0.18</td><td>V-K</td><td>3761.0</td><td>--</td><td>V-K</td><td>--</td><td>--</td><td></td><td>--</td><td>--</td><td></td><td></td><td>0.64</td><td>--</td><td>Turnbull</td><td>0.51</td><td>--</td><td>Turnbull</td><td>--</td><td>--</td><td></td><td></td><td>0.27</td><td>--</td><td>10.02</td><td>--</td><td>0.0</td><td>--</td><td>33.18</td><td>--</td><td>1</td><td>0</td><td>1</td><td>0</td><td>0</td><td>1</td><td>0</td><td>8.108</td><td>0.029</td><td>0</td><td>7.449</td><td>0.047</td><td>0</td><td>7.255</td><td>0.024</td><td>0</td><td>--</td><td>--</td><td>--</td><td>--</td><td>--</td><td>--</td><td>--</td><td>--</td><td>--</td><td>--</td><td>--</td><td>--</td><td>HIP 116443</td><td>2388</td></tr>\n",
       "<tr><td>HIP 116491</td><td></td><td>GJ 4347</td><td>2MASS J23361827-4835169</td><td>1</td><td>0</td><td>0</td><td>0</td><td>0</td><td>0</td><td>0</td><td>0</td><td>--</td><td>0</td><td>23363-4835</td><td>--</td><td>--</td><td>354.077</td><td>--</td><td>23h36m18.39s</td><td>-48.588</td><td>--</td><td>-48d35m16.8s</td><td>332.079127</td><td>--</td><td>-64.069266</td><td>--</td><td>0.04</td><td>23.03</td><td>0.96</td><td>-0.89</td><td>-125.6</td><td>--</td><td>-25.1</td><td>--</td><td>10.08</td><td>0.01</td><td>Koen</td><td>2MASS</td><td>1.38</td><td>0.01</td><td>Koen</td><td>3.44</td><td>0.02</td><td></td><td>M0</td><td>MAINSEQ</td><td>M</td><td>8.27</td><td>0.09</td><td></td><td>0</td><td>0.1</td><td>0.09</td><td>V-K</td><td>4046.0</td><td>--</td><td>V-K</td><td>--</td><td>--</td><td></td><td>--</td><td>--</td><td></td><td></td><td>0.65</td><td>--</td><td>Turnbull</td><td>0.56</td><td>--</td><td>Turnbull</td><td>--</td><td>--</td><td></td><td></td><td>0.32</td><td>--</td><td>13.87</td><td>--</td><td>0.0</td><td>--</td><td>32.44</td><td>--</td><td>1</td><td>0</td><td>1</td><td>0</td><td>0</td><td>2</td><td>0</td><td>7.444</td><td>0.023</td><td>0</td><td>6.791</td><td>0.038</td><td>0</td><td>6.655</td><td>0.021</td><td>0</td><td>6.549</td><td>0.077</td><td>0</td><td>6.549</td><td>0.024</td><td>0</td><td>6.54</td><td>0.016</td><td>0</td><td>6.422</td><td>0.061</td><td>0</td><td>HIP 116491</td><td>2389</td></tr>\n",
       "<tr><td>HIP 116497</td><td></td><td>GJ 4349</td><td>2MASS J23362553+5529436</td><td>1</td><td>0</td><td>0</td><td>0</td><td>0</td><td>0</td><td>0</td><td>0</td><td>--</td><td>0</td><td></td><td>--</td><td>--</td><td>354.105</td><td>--</td><td>23h36m25.10s</td><td>55.496</td><td>--</td><td>+55d29m44.4s</td><td>112.382778</td><td>--</td><td>-5.831949</td><td>--</td><td>0.06</td><td>24.89</td><td>1.59</td><td>-1.41</td><td>492.0</td><td>--</td><td>-94.9</td><td>--</td><td>11.72</td><td>0.01</td><td>G</td><td>2MASS</td><td>1.46</td><td>0.02</td><td>G</td><td>4.14</td><td>0.02</td><td></td><td>M:</td><td>MAINSEQ</td><td>M</td><td>9.74</td><td>0.15</td><td></td><td>0</td><td>0.04</td><td>0.17</td><td>V-K</td><td>3643.0</td><td>--</td><td>V-K</td><td>--</td><td>--</td><td></td><td>--</td><td>--</td><td></td><td></td><td>0.53</td><td>--</td><td>Turnbull</td><td>0.45</td><td>--</td><td>Turnbull</td><td>--</td><td>--</td><td></td><td></td><td>0.21</td><td>--</td><td>8.43</td><td>--</td><td>0.0</td><td>--</td><td>33.17</td><td>--</td><td>1</td><td>0</td><td>1</td><td>0</td><td>0</td><td>1</td><td>0</td><td>8.448</td><td>0.019</td><td>0</td><td>7.81</td><td>0.018</td><td>0</td><td>7.582</td><td>0.018</td><td>0</td><td>--</td><td>--</td><td>--</td><td>--</td><td>--</td><td>--</td><td>--</td><td>--</td><td>--</td><td>--</td><td>--</td><td>--</td><td>HIP 116497</td><td>2390</td></tr>\n",
       "<tr><td>HIP 116584</td><td>HD 222107</td><td>GJ 9832</td><td>2MASS J23373382+4627298</td><td>1</td><td>1</td><td>0</td><td>0</td><td>0</td><td>0</td><td>1</td><td>0</td><td>--</td><td>0</td><td>23376+4627</td><td>--</td><td>--</td><td>354.390</td><td>--</td><td>23h37m33.71s</td><td>46.459</td><td>--</td><td>+46d27m33.0s</td><td>109.902895</td><td>--</td><td>-14.535139</td><td>--</td><td>0.01</td><td>26.41</td><td>0.27</td><td>-0.26</td><td>159.2</td><td>--</td><td>-421.5</td><td>--</td><td>3.85</td><td>0.02</td><td>VT</td><td>1966CoLPL...4...99J</td><td>0.99</td><td>0.02</td><td>BVT-Red</td><td>2.53</td><td>0.05</td><td></td><td>G8III-IV</td><td>GIANT</td><td>GIANT</td><td>1.75</td><td>0.03</td><td></td><td>0</td><td>25.57</td><td>0.06</td><td>V-K</td><td>4636.0</td><td>--</td><td>Gray</td><td>2.79</td><td>--</td><td>Gray</td><td>--</td><td>--</td><td></td><td></td><td>7.83</td><td>--</td><td>Turnbull</td><td>2.3</td><td>--</td><td>Turnbull</td><td>--</td><td>--</td><td></td><td>A</td><td>5.06</td><td>--</td><td>191.49</td><td>--</td><td>0.0</td><td>--</td><td>32.22</td><td>--</td><td>1</td><td>0</td><td>1</td><td>0</td><td>0</td><td>1</td><td>0</td><td>2.101</td><td>0.236</td><td>0</td><td>1.501</td><td>0.188</td><td>0</td><td>1.466</td><td>0.224</td><td>0</td><td>--</td><td>--</td><td>--</td><td>--</td><td>--</td><td>--</td><td>--</td><td>--</td><td>--</td><td>--</td><td>--</td><td>--</td><td>HIP 116584</td><td>2391</td></tr>\n",
       "<tr><td>HIP 116613</td><td>HD 222143</td><td>GJ 4351</td><td>2MASS J23375844+4611579</td><td>1</td><td>0</td><td>0</td><td>0</td><td>0</td><td>0</td><td>0</td><td>0</td><td>--</td><td>0</td><td></td><td>--</td><td>--</td><td>354.492</td><td>--</td><td>23h37m58.19s</td><td>46.199</td><td>--</td><td>+46d11m58.1s</td><td>109.894522</td><td>--</td><td>-14.804111</td><td>--</td><td>0.01</td><td>23.33</td><td>0.24</td><td>-0.23</td><td>357.3</td><td>--</td><td>-11.1</td><td>--</td><td>6.58</td><td>0.02</td><td>VT</td><td>2MASS</td><td>0.65</td><td>0.02</td><td>BVT-Red</td><td>1.51</td><td>0.03</td><td></td><td>G5</td><td>MAINSEQ</td><td>G</td><td>4.74</td><td>0.04</td><td></td><td>0</td><td>1.13</td><td>0.05</td><td>V-K</td><td>5869.0</td><td>--</td><td>2005ApJS..159..141V</td><td>4.47</td><td>--</td><td>2007ApJS..168..297T</td><td>0.15</td><td>--</td><td></td><td>[Fe/H]</td><td>1.01</td><td>--</td><td>2007ApJS..168..297T</td><td>1.08</td><td>--</td><td>2007ApJS..168..297T</td><td>1.16</td><td>--</td><td>2007ApJS..168..297T</td><td>A</td><td>1.06</td><td>--</td><td>45.63</td><td>--</td><td>0.0</td><td>--</td><td>31.56</td><td>--</td><td>1</td><td>0</td><td>1</td><td>0</td><td>0</td><td>2</td><td>0</td><td>5.406</td><td>0.034</td><td>0</td><td>5.123</td><td>8.888</td><td>0</td><td>5.076</td><td>0.022</td><td>0</td><td>--</td><td>--</td><td>--</td><td>--</td><td>--</td><td>--</td><td>--</td><td>--</td><td>--</td><td>--</td><td>--</td><td>--</td><td>HIP 116613</td><td>2392</td></tr>\n",
       "<tr><td>HIP 116645</td><td></td><td>GJ 4353</td><td>2MASS J23381743-4131037</td><td>1</td><td>0</td><td>0</td><td>0</td><td>0</td><td>0</td><td>0</td><td>0</td><td>--</td><td>0</td><td></td><td>--</td><td>--</td><td>354.572</td><td>--</td><td>23h38m17.26s</td><td>-41.517</td><td>--</td><td>-41d31m02.0s</td><td>344.412018</td><td>--</td><td>-69.223921</td><td>--</td><td>0.07</td><td>18.68</td><td>1.41</td><td>-1.22</td><td>210.1</td><td>--</td><td>-198.1</td><td>--</td><td>11.93</td><td>0.01</td><td>Koen</td><td>2MASS</td><td>1.55</td><td>0.01</td><td>Koen</td><td>4.46</td><td>0.03</td><td></td><td>M3</td><td>MAINSEQ</td><td>M</td><td>10.58</td><td>0.16</td><td></td><td>0</td><td>0.03</td><td>0.18</td><td>V-K</td><td>3491.0</td><td>--</td><td>V-K</td><td>--</td><td>--</td><td></td><td>--</td><td>--</td><td></td><td></td><td>0.44</td><td>--</td><td>Turnbull</td><td>0.39</td><td>--</td><td>Turnbull</td><td>--</td><td>--</td><td></td><td></td><td>0.16</td><td>--</td><td>8.55</td><td>--</td><td>0.0</td><td>--</td><td>32.79</td><td>--</td><td>1</td><td>0</td><td>1</td><td>0</td><td>0</td><td>2</td><td>0</td><td>8.361</td><td>0.03</td><td>0</td><td>7.733</td><td>0.042</td><td>0</td><td>7.494</td><td>0.022</td><td>0</td><td>--</td><td>--</td><td>--</td><td>--</td><td>--</td><td>--</td><td>--</td><td>--</td><td>--</td><td>--</td><td>--</td><td>--</td><td>HIP 116645</td><td>2393</td></tr>\n",
       "<tr><td>HIP 116727</td><td>HD 222404</td><td>GJ 903</td><td>2MASS J23392083+7737563</td><td>1</td><td>1</td><td>1</td><td>0</td><td>1</td><td>0</td><td>1</td><td>0</td><td>--</td><td>1</td><td>23393+7738</td><td>--</td><td>--</td><td>354.837</td><td>--</td><td>23h39m20.98s</td><td>77.632</td><td>--</td><td>+77d37m55.1s</td><td>118.992203</td><td>--</td><td>15.315201</td><td>--</td><td>0.01</td><td>14.1</td><td>0.14</td><td>-0.14</td><td>-48.9</td><td>--</td><td>127.2</td><td>--</td><td>3.21</td><td>0.01</td><td>G</td><td>1969tmss.book.....N</td><td>1.03</td><td>0.01</td><td>G</td><td>2.32</td><td>0.1</td><td></td><td>K1IV</td><td>GIANT</td><td>GIANT</td><td>2.46</td><td>0.02</td><td></td><td>0</td><td>11.84</td><td>0.1</td><td>V-K</td><td>4761.0</td><td>--</td><td>Gray</td><td>3.21</td><td>--</td><td>Gray</td><td>--</td><td>--</td><td></td><td></td><td>5.05</td><td>--</td><td>Turnbull</td><td>1.88</td><td>--</td><td>Turnbull</td><td>--</td><td>--</td><td></td><td></td><td>3.44</td><td>--</td><td>244.02</td><td>--</td><td>0.0</td><td>--</td><td>30.74</td><td>--</td><td>13</td><td>0</td><td>1</td><td>12</td><td>0</td><td>2</td><td>2</td><td>1.661</td><td>0.348</td><td>0</td><td>1.19</td><td>0.176</td><td>0</td><td>1.038</td><td>0.206</td><td>0</td><td>-1.808</td><td>--</td><td>-1</td><td>-1.126</td><td>--</td><td>-1</td><td>0.9</td><td>0.058</td><td>0</td><td>0.839</td><td>0.017</td><td>0</td><td>gam Cep</td><td>2394</td></tr>\n",
       "<tr><td>HIP 116745</td><td>HD 222237</td><td>GJ 902</td><td>2MASS J23393736-7243197</td><td>1</td><td>0</td><td>0</td><td>0</td><td>0</td><td>0</td><td>0</td><td>0</td><td>--</td><td>0</td><td></td><td>--</td><td>--</td><td>354.905</td><td>--</td><td>23h39m37.11s</td><td>-72.720</td><td>--</td><td>-72d43m13.3s</td><td>310.169878</td><td>--</td><td>-43.384138</td><td>--</td><td>0.01</td><td>11.42</td><td>0.12</td><td>-0.11</td><td>141.1</td><td>--</td><td>-736.9</td><td>--</td><td>7.09</td><td>0.01</td><td>Koen</td><td>2MASS</td><td>1.0</td><td>0.01</td><td>Koen</td><td>2.51</td><td>0.03</td><td></td><td>K4V</td><td>MAINSEQ</td><td>K</td><td>6.8</td><td>0.02</td><td></td><td>0</td><td>0.24</td><td>0.04</td><td>V-K</td><td>4723.0</td><td>--</td><td>2005ApJS..159..141V</td><td>4.63</td><td>--</td><td>2007ApJS..168..297T</td><td>-0.29</td><td>--</td><td></td><td>[Fe/H]</td><td>0.72</td><td>--</td><td>2007ApJS..168..297T</td><td>0.74</td><td>--</td><td>2007ApJS..168..297T</td><td>8.8</td><td>--</td><td>2005ApJS..159..141V</td><td>I</td><td>0.49</td><td>--</td><td>42.88</td><td>--</td><td>0.0</td><td>--</td><td>30.38</td><td>--</td><td>1</td><td>0</td><td>1</td><td>0</td><td>0</td><td>2</td><td>1</td><td>5.249</td><td>0.018</td><td>0</td><td>4.745</td><td>0.061</td><td>0</td><td>4.581</td><td>0.029</td><td>0</td><td>--</td><td>--</td><td>--</td><td>--</td><td>--</td><td>--</td><td>--</td><td>--</td><td>--</td><td>--</td><td>--</td><td>--</td><td>HIP 116745</td><td>2395</td></tr>\n",
       "</table>"
      ],
      "text/plain": [
       "<Table masked=True length=2396>\n",
       " hip_name   hd_name   gj_name  ... st_wise4lim star_name    id  \n",
       "                               ...                              \n",
       "  object     object    object  ...    int32      object   object\n",
       "---------- --------- --------- ... ----------- ---------- ------\n",
       "  HIP 3185   HD 3795   GJ 27.2 ...          --   HIP 3185      0\n",
       "HIP 3203 A   HD 3821 GJ 9020 A ...          -- HIP 3203 A      1\n",
       "  HIP 3206   HD 3765     GJ 28 ...          --   HIP 3206      2\n",
       "  HIP 3261             GJ 1016 ...          --   HIP 3261      3\n",
       "  HIP 3362             GJ 29.1 ...          --   HIP 3362      4\n",
       "  HIP 3378                     ...          --   HIP 3378      5\n",
       "  HIP 3418               GJ 30 ...          --   HIP 3418      6\n",
       "  HIP 3419   HD 4128     GJ 31 ...          --   HIP 3419      7\n",
       "  HIP 3497   HD 4308   GJ 31.5 ...           0    HD 4308      8\n",
       "       ...       ...       ... ...         ...        ...    ...\n",
       "HIP 116384              GJ 900 ...          -- HIP 116384   2386\n",
       "HIP 116416 HD 221851   GJ 4343 ...          -- HIP 116416   2387\n",
       "HIP 116443             GJ 4346 ...          -- HIP 116443   2388\n",
       "HIP 116491             GJ 4347 ...           0 HIP 116491   2389\n",
       "HIP 116497             GJ 4349 ...          -- HIP 116497   2390\n",
       "HIP 116584 HD 222107   GJ 9832 ...          -- HIP 116584   2391\n",
       "HIP 116613 HD 222143   GJ 4351 ...          -- HIP 116613   2392\n",
       "HIP 116645             GJ 4353 ...          -- HIP 116645   2393\n",
       "HIP 116727 HD 222404    GJ 903 ...           0    gam Cep   2394\n",
       "HIP 116745 HD 222237    GJ 902 ...          -- HIP 116745   2395"
      ]
     },
     "execution_count": 10,
     "metadata": {},
     "output_type": "execute_result"
    }
   ],
   "source": [
    "exoarch_mission = \"http://exoplanetarchive.ipac.caltech.edu/cgi-bin/nstedAPI/nph-nstedAPI?table=missionstars&format=votable&select=*\"\n",
    "exoarch_exocat = \"http://exoplanetarchive.ipac.caltech.edu/cgi-bin/nstedAPI/nph-nstedAPI?table=mission_exocat&format=votable&select=*\"\n",
    "\n",
    "\n",
    "#if you need to update votable:\n",
    "#mission_stars_file=astropy.utils.data.download_file(exoarch_mission, \n",
    "#                                                        cache=False,\n",
    "#                                                        show_progress=True,\n",
    "#                                                        timeout=10) #regular call was timing out\n",
    "#exocat_stars_file=astropy.utils.data.download_file(exoarch_exocat, \n",
    "#                                                        cache=False,\n",
    "#                                                        show_progress=True,\n",
    "#                                                        timeout=10) #regular call was timing out\n",
    "\n",
    "#exocat_stars = votab.parse(exocat_stars_file,\n",
    "#datatype_mapping={\"char\": \"unicodeChar\"}).get_first_table().to_table()\n",
    "#mission_stars = votab.parse(mission_stars_file,\n",
    "#datatype_mapping={\"char\": \"unicodeChar\"}).get_first_table().to_table()#exocat_stars.write(\"exocat_stars.votable\",format=\"votable\")\n",
    "#mission_stars.write(\"data/mission_stars.votable\",format=\"votable\")\n",
    "#exocat_stars.write(\"data/exocat_stars.votable\",format=\"votable\")\n",
    "\n",
    "\n",
    "mission_stars = votab.parse(\"data/mission_stars.votable\",\n",
    "                            datatype_mapping={\"char\": \"unicodeChar\"}).get_first_table().to_table()\n",
    "\n",
    "exocat_stars = votab.parse(\"data/exocat_stars.votable\",\n",
    "                           datatype_mapping={\"char\": \"unicodeChar\"}).get_first_table().to_table()\n",
    "\n",
    "exocat_stars\n",
    "\n"
   ]
  },
  {
   "cell_type": "code",
   "execution_count": null,
   "metadata": {
    "collapsed": true,
    "scrolled": true
   },
   "outputs": [],
   "source": [
    "\n"
   ]
  },
  {
   "cell_type": "code",
   "execution_count": null,
   "metadata": {
    "collapsed": true
   },
   "outputs": [],
   "source": []
  },
  {
   "cell_type": "code",
   "execution_count": 11,
   "metadata": {},
   "outputs": [
    {
     "name": "stderr",
     "output_type": "stream",
     "text": [
      "/Users/edouglas/anaconda/envs/astroconda/lib/python3.6/site-packages/ipykernel/__main__.py:7: ParserWarning: Falling back to the 'python' engine because the 'c' engine does not support skipfooter; you can avoid this warning by specifying engine='python'.\n"
     ]
    }
   ],
   "source": [
    "\n",
    "import pandas as pd\n",
    "#http://www.recons.org/TOP100.posted.htm (converted to CSV with LibreOffice)\n",
    "recons2012=pd.read_csv('data/recons2012.csv',header=0,\n",
    "                       comment=\"#\",\n",
    "                       skiprows=[1,2,3,4,5],\n",
    "                       skipfooter=100,na_values=[\"_________\"])#, delimiter=\"  \")"
   ]
  },
  {
   "cell_type": "code",
   "execution_count": 12,
   "metadata": {
    "collapsed": true
   },
   "outputs": [],
   "source": [
    "mags=np.arange(0,50)\n"
   ]
  },
  {
   "cell_type": "code",
   "execution_count": 13,
   "metadata": {
    "collapsed": true
   },
   "outputs": [],
   "source": [
    "\n",
    "def quant_hist(param,**kwargs):\n",
    "    plt.hist(param,normed=True,bins=\"auto\",linewidth=.1,**kwargs)\n",
    "    plt.xlabel(param.unit)\n",
    "    plt.ylabel(\"Probability Density\")\n",
    "    plt.ticklabel_format(style='sci', axis='x', scilimits=(0,0))\n"
   ]
  },
  {
   "cell_type": "markdown",
   "metadata": {},
   "source": [
    "### find power necessary to sense at 1 minute cadence"
   ]
  },
  {
   "cell_type": "code",
   "execution_count": 14,
   "metadata": {},
   "outputs": [
    {
     "name": "stdout",
     "output_type": "stream",
     "text": [
      "Tx power: 0.0016666666666666668 W\n",
      "WFE per pixel: 78.0 pm\n",
      "mean error per segment: 1.392 pm\n"
     ]
    }
   ],
   "source": [
    "import copy\n",
    "sample_freq=1/u.min\n",
    "sample_ratio =((1000 *u.hertz/sample_freq).decompose().value)\n",
    "link_slow=copy.copy(link)\n",
    "link_slow.tx_laser_power=link.tx_laser_power/(sample_ratio)\n",
    "print(\"Tx power: \"+str(link_slow.tx_laser_power))\n",
    "incident = np.median(link_slow.rx_phot_sec)*efficiency\n",
    "seg_incident = incident*seg_area/link_slow.rx_Area\n",
    "phot_per_pix = seg_incident/seg_pixels\n",
    "wfe_sigma_pix=np.sqrt((0.5*u.photon/phot_per_pix*sample_freq))*link_slow.tx_wavel/(2*np.pi)\n",
    "print(\"WFE per pixel: \"+str(np.round(wfe_sigma_pix.to(u.picometer))))\n",
    "print(\"mean error per segment: \"+str(np.round(np.sqrt(wfe_sigma_pix**2/seg_pixels).to(u.picometer),3)))"
   ]
  },
  {
   "cell_type": "code",
   "execution_count": null,
   "metadata": {
    "collapsed": true
   },
   "outputs": [],
   "source": []
  },
  {
   "cell_type": "code",
   "execution_count": null,
   "metadata": {
    "collapsed": true
   },
   "outputs": [],
   "source": []
  },
  {
   "cell_type": "markdown",
   "metadata": {},
   "source": [
    "## Link Budget Scenerios"
   ]
  },
  {
   "cell_type": "markdown",
   "metadata": {},
   "source": [
    "The \n",
    "$dS/I=\\frac{I_1-I_2}{I_0}= e^{\\frac{-2x^2}{w^2}}-e^{\\frac{-2(x+x_0)^2}{w^2}}$\n",
    "Where $x_0$ is pointing error, and $\\sigma$ is the beamwidth, and $I_0$ is the gaussian intensity. "
   ]
  },
  {
   "cell_type": "markdown",
   "metadata": {},
   "source": [
    "if x=0, then $1-e^{\\frac{-2(x_0)^2}{\\sigma^2}}$ which taylor expands to $dS=1-(1-\\frac{2(x_0)^2}{\\sigma^2})=\\frac{2x_0^2}{\\sigma^2}=d\\phi$\n",
    "if our requirement is 10 pm."
   ]
  },
  {
   "cell_type": "markdown",
   "metadata": {},
   "source": [
    "## CubeSat Pointing"
   ]
  },
  {
   "cell_type": "code",
   "execution_count": 15,
   "metadata": {},
   "outputs": [
    {
     "name": "stdout",
     "output_type": "stream",
     "text": [
      "20.814781355115667 arcmin\n",
      "initing\n",
      "z'\n"
     ]
    },
    {
     "data": {
      "text/latex": [
       "$2.9982248 \\; \\mathrm{}$"
      ],
      "text/plain": [
       "<Quantity 2.99822484>"
      ]
     },
     "execution_count": 15,
     "metadata": {},
     "output_type": "execute_result"
    }
   ],
   "source": [
    "import importlib \n",
    "importlib.reload(lgs)\n",
    "\n",
    "dphi=2*(10*u.pm*2*np.pi)/link.tx_wavel\n",
    "x_0_cubesat=(10*u.arcsecond).to(u.radian)\n",
    "w_cubesat=(np.sqrt(2*x_0_cubesat**2/(dphi))).decompose()\n",
    "print(w_cubesat.to(u.arcmin))\n",
    "pt=tabl.QTable()\n",
    "pt[\"name\"]=[\"mean\",\"stdev\"]\n",
    "pt[\"tx_laser_power\"]=[50,0]*u.watt\n",
    "pt[\"tx_wavel\"]=[link.tx_wavel.to(u.nm).value,0]*u.nm\n",
    "wl = pt[\"tx_wavel\"][0]\n",
    "#pt[\"rx_radius\"]=[D_t.value/2,0]*u.nm\n",
    "\n",
    "pt[\"tx_rx_separation\"]=(np.array([tx_rx_separation.value,0])*tx_rx_separation.unit).to(u.km)\n",
    "#pt[\"tx_jitter\"]=[10,5]*u.arcsec\n",
    "pt[\"rx_throughput\"]=[efficiency,0] #because of monitoring channel\n",
    "pt[\"tx_divergence\"]=[np.round(w_cubesat.to(u.arcsec).value),0]*u.arcsec\n",
    "\n",
    "\n",
    "\n",
    "\n",
    "#print(parse_table(pt,n=1))\n",
    "table_link=lgs.link(**parse_table(pt,n=1))\n",
    "table_link.force_band=\"z\\'\"\n",
    "\n",
    "table_link.magnitude"
   ]
  },
  {
   "cell_type": "code",
   "execution_count": null,
   "metadata": {
    "collapsed": true
   },
   "outputs": [],
   "source": []
  },
  {
   "cell_type": "code",
   "execution_count": 16,
   "metadata": {},
   "outputs": [
    {
     "name": "stdout",
     "output_type": "stream",
     "text": [
      "z'\n",
      "2.998 mag\n"
     ]
    },
    {
     "data": {
      "text/html": [
       "<i>QTable length=2</i>\n",
       "<table id=\"table112370600144-630150\" class=\"table-striped table-bordered table-condensed\">\n",
       "<thead><tr><th>idx</th><th>name</th><th>tx_laser_power</th><th>tx_wavel</th><th>tx_rx_separation</th><th>rx_throughput</th><th>tx_divergence</th><th>tx jitter</th></tr></thead>\n",
       "<thead><tr><th></th><th></th><th>W</th><th>nm</th><th>km</th><th></th><th>arcsec</th><th>arcsec</th></tr></thead>\n",
       "<tr><td>0</td><td>mean</td><td>50.0</td><td>980.0</td><td>43184.0</td><td>0.37</td><td>1249.0</td><td>10.0</td></tr>\n",
       "<tr><td>1</td><td>stdev</td><td>0.0</td><td>0.0</td><td>0.0</td><td>0.0</td><td>0.0</td><td>10.0</td></tr>\n",
       "</table><style>table.dataTable {clear: both; width: auto !important; margin: 0 !important;}\n",
       ".dataTables_info, .dataTables_length, .dataTables_filter, .dataTables_paginate{\n",
       "display: inline-block; margin-right: 1em; }\n",
       ".paginate_button { margin-right: 5px; }\n",
       "</style>\n",
       "<script>\n",
       "\n",
       "var astropy_sort_num = function(a, b) {\n",
       "    var a_num = parseFloat(a);\n",
       "    var b_num = parseFloat(b);\n",
       "\n",
       "    if (isNaN(a_num) && isNaN(b_num))\n",
       "        return ((a < b) ? -1 : ((a > b) ? 1 : 0));\n",
       "    else if (!isNaN(a_num) && !isNaN(b_num))\n",
       "        return ((a_num < b_num) ? -1 : ((a_num > b_num) ? 1 : 0));\n",
       "    else\n",
       "        return isNaN(a_num) ? -1 : 1;\n",
       "}\n",
       "\n",
       "require.config({paths: {\n",
       "    datatables: 'https://cdn.datatables.net/1.10.12/js/jquery.dataTables.min'\n",
       "}});\n",
       "require([\"datatables\"], function(){\n",
       "    console.log(\"$('#table112370600144-630150').dataTable()\");\n",
       "    \n",
       "jQuery.extend( jQuery.fn.dataTableExt.oSort, {\n",
       "    \"optionalnum-asc\": astropy_sort_num,\n",
       "    \"optionalnum-desc\": function (a,b) { return -astropy_sort_num(a, b); }\n",
       "});\n",
       "\n",
       "    $('#table112370600144-630150').dataTable({\n",
       "        order: [],\n",
       "        pageLength: 50,\n",
       "        lengthMenu: [[10, 25, 50, 100, 500, 1000, -1], [10, 25, 50, 100, 500, 1000, 'All']],\n",
       "        pagingType: \"full_numbers\",\n",
       "        columnDefs: [{targets: [0, 2, 3, 4, 5, 6, 7], type: \"optionalnum\"}]\n",
       "    });\n",
       "});\n",
       "</script>\n"
      ],
      "text/plain": [
       "<IPython.core.display.HTML object>"
      ]
     },
     "execution_count": 16,
     "metadata": {},
     "output_type": "execute_result"
    }
   ],
   "source": [
    "\n",
    "try:\n",
    "    print(\"\"+str(table_link.magnitude.round(3))+\" mag\")\n",
    "except Exception as err:\n",
    "    print(err)\n",
    "    \n",
    "\n",
    "pt[\"tx jitter\"] = x_0_cubesat.to(u.arcsecond)\n",
    "table_link.force_band=\"z\\'\"\n",
    "\n",
    "\n",
    "pt.write(\"cubesat_pointing_table.tex\",format=\"latex\",overwrite=True)\n",
    "pt.show_in_notebook()"
   ]
  },
  {
   "cell_type": "code",
   "execution_count": null,
   "metadata": {
    "collapsed": true
   },
   "outputs": [],
   "source": []
  },
  {
   "cell_type": "markdown",
   "metadata": {},
   "source": [
    "## precision pointing"
   ]
  },
  {
   "cell_type": "code",
   "execution_count": 17,
   "metadata": {},
   "outputs": [
    {
     "name": "stdout",
     "output_type": "stream",
     "text": [
      "1.87333032196041 arcsec\n",
      "3.860580267613811 arcsec\n"
     ]
    }
   ],
   "source": [
    "\n",
    "x_0=(15*u.milliarcsecond).to(u.radian)\n",
    "sigma=(np.sqrt(2*x_0**2/(dphi))).decompose()\n",
    "print(sigma.to(u.arcsec))\n",
    "\n",
    "\n",
    "if sigma <min_divergence:\n",
    "    sigma=min_divergence\n",
    "print(sigma.to(u.arcsec))"
   ]
  },
  {
   "cell_type": "code",
   "execution_count": null,
   "metadata": {
    "collapsed": true
   },
   "outputs": [],
   "source": []
  },
  {
   "cell_type": "code",
   "execution_count": 18,
   "metadata": {},
   "outputs": [
    {
     "name": "stdout",
     "output_type": "stream",
     "text": [
      "initing\n",
      "wavelength (980.0 nm) has no specified filter\n",
      "unknown band\n",
      "wavelength (980.0 nm) has no specified filter\n",
      "wavelength (980.0 nm) has no specified filter\n",
      "wavelength (980.0 nm) has no specified filter\n",
      "wavelength (980.0 nm) has no specified filter\n",
      "wavelength (980.0 nm) has no specified filter\n",
      "'NoneType' object has no attribute 'round'\n",
      "z'\n",
      "Tx power: 5.0 W\n",
      "1000.0 Hz\n",
      "WFE per pixel: 221.0 pm\n",
      "mean error per segment: 3.951 pm\n",
      "5.3505382966538704e-11\n"
     ]
    }
   ],
   "source": [
    "tx_rx_separation = np.round(tx_rx_separation.decompose().to(u.km))\n",
    "\n",
    "\n",
    "pt=tabl.QTable()\n",
    "pt[\"name\"]=[\"mean\",\"stdev\"]\n",
    "pt[\"tx_laser_power\"]=[5,0]*u.watt\n",
    "pt[\"tx_wavel\"]=[link.tx_wavel.to(u.nm).value,0]*u.nm\n",
    "wl = pt[\"tx_wavel\"][0]\n",
    "#pt[\"rx_radius\"]=[16.8/2,0]*u.nm\n",
    "\n",
    "pt[\"tx_rx_separation\"]=(np.array([tx_rx_separation.to(u.km).value,0])*tx_rx_separation.unit).to(u.km)\n",
    "#pt[\"tx_jitter\"]=[10,5]*u.arcsec\n",
    "pt[\"rx_throughput\"]=[efficiency,0] \n",
    "pt[\"tx_divergence\"]=np.round([sigma.to(u.arcsec).value,0]*u.arcsec,3)\n",
    "\n",
    "\n",
    "\n",
    "#print(parse_table(pt,n=1))\n",
    "table_link=lgs.link(**parse_table(pt,n=1))\n",
    "\n",
    "try:\n",
    "    print(\"V=\"+str(table_link.magnitude.round(3))+\" mag\")\n",
    "except Exception as err:\n",
    "    print(err)\n",
    "pt[\"tx jitter\"] = x_0.to(u.arcsecond)\n",
    "#pt[\"t_exp\"] = .01*u.second\n",
    "#pt[\"$\\lambda/D$ Contrast\"] = np.round(contrast(table_link,sample_freq=1/(pt[\"t_exp\"])),11)\n",
    "table_link.force_band=\"z\\'\"\n",
    "pt[r\"$m$\"] = np.round(table_link.magnitude,1)\n",
    "pt[r\"band\"] =r\"$\\textrm{\"+str(table_link.band)+\"}$\"\n",
    "\n",
    "\n",
    "\n",
    "pt.write(\"precise_pointing_table.tex\",format=\"latex\",overwrite=True)\n",
    "print(contrast(table_link))\n",
    "pt.show_in_notebook()\n",
    "\n",
    "pt_1st =pt[0]\n",
    "\n"
   ]
  },
  {
   "cell_type": "code",
   "execution_count": 19,
   "metadata": {},
   "outputs": [
    {
     "name": "stdout",
     "output_type": "stream",
     "text": [
      "initing\n",
      "wavelength (980.0 nm) has no specified filter\n",
      "unknown band\n",
      "wavelength (980.0 nm) has no specified filter\n",
      "wavelength (980.0 nm) has no specified filter\n",
      "wavelength (980.0 nm) has no specified filter\n",
      "wavelength (980.0 nm) has no specified filter\n",
      "wavelength (980.0 nm) has no specified filter\n",
      "'NoneType' object has no attribute 'round'\n",
      "z'\n",
      "Tx power: 0.005 W\n",
      "1000.0 Hz\n",
      "WFE per pixel: 6977.0 pm\n",
      "mean error per segment: 124.953 pm\n",
      "5.350538296653872e-08\n"
     ]
    },
    {
     "data": {
      "text/html": [
       "<i>QTable length=2</i>\n",
       "<table id=\"table112409096600-52600\" class=\"table-striped table-bordered table-condensed\">\n",
       "<thead><tr><th>idx</th><th>name</th><th>tx_laser_power</th><th>tx_wavel</th><th>tx_rx_separation</th><th>rx_throughput</th><th>tx_divergence</th><th>tx jitter</th><th>$m$</th><th>band</th></tr></thead>\n",
       "<thead><tr><th></th><th></th><th>W</th><th>nm</th><th>km</th><th></th><th>arcsec</th><th>arcsec</th><th></th><th></th></tr></thead>\n",
       "<tr><td>0</td><td>mean</td><td>0.005</td><td>980.0</td><td>43184.0</td><td>0.37</td><td>3.861</td><td>0.015000000000000001</td><td>0.4</td><td>$\\textrm{z&apos;}$</td></tr>\n",
       "<tr><td>1</td><td>stdev</td><td>0.0</td><td>0.0</td><td>0.0</td><td>0.0</td><td>0.0</td><td>0.015000000000000001</td><td>0.4</td><td>$\\textrm{z&apos;}$</td></tr>\n",
       "</table><style>table.dataTable {clear: both; width: auto !important; margin: 0 !important;}\n",
       ".dataTables_info, .dataTables_length, .dataTables_filter, .dataTables_paginate{\n",
       "display: inline-block; margin-right: 1em; }\n",
       ".paginate_button { margin-right: 5px; }\n",
       "</style>\n",
       "<script>\n",
       "\n",
       "var astropy_sort_num = function(a, b) {\n",
       "    var a_num = parseFloat(a);\n",
       "    var b_num = parseFloat(b);\n",
       "\n",
       "    if (isNaN(a_num) && isNaN(b_num))\n",
       "        return ((a < b) ? -1 : ((a > b) ? 1 : 0));\n",
       "    else if (!isNaN(a_num) && !isNaN(b_num))\n",
       "        return ((a_num < b_num) ? -1 : ((a_num > b_num) ? 1 : 0));\n",
       "    else\n",
       "        return isNaN(a_num) ? -1 : 1;\n",
       "}\n",
       "\n",
       "require.config({paths: {\n",
       "    datatables: 'https://cdn.datatables.net/1.10.12/js/jquery.dataTables.min'\n",
       "}});\n",
       "require([\"datatables\"], function(){\n",
       "    console.log(\"$('#table112409096600-52600').dataTable()\");\n",
       "    \n",
       "jQuery.extend( jQuery.fn.dataTableExt.oSort, {\n",
       "    \"optionalnum-asc\": astropy_sort_num,\n",
       "    \"optionalnum-desc\": function (a,b) { return -astropy_sort_num(a, b); }\n",
       "});\n",
       "\n",
       "    $('#table112409096600-52600').dataTable({\n",
       "        order: [],\n",
       "        pageLength: 50,\n",
       "        lengthMenu: [[10, 25, 50, 100, 500, 1000, -1], [10, 25, 50, 100, 500, 1000, 'All']],\n",
       "        pagingType: \"full_numbers\",\n",
       "        columnDefs: [{targets: [0, 2, 3, 4, 5, 6, 7, 8], type: \"optionalnum\"}]\n",
       "    });\n",
       "});\n",
       "</script>\n"
      ],
      "text/plain": [
       "<IPython.core.display.HTML object>"
      ]
     },
     "execution_count": 19,
     "metadata": {},
     "output_type": "execute_result"
    }
   ],
   "source": [
    "\n",
    "pt=tabl.QTable()\n",
    "pt[\"name\"]=[\"mean\",\"stdev\"]\n",
    "pt[\"tx_laser_power\"]=[0.005,0]*u.watt\n",
    "pt[\"tx_wavel\"]=[link.tx_wavel.to(u.nm).value,0]*u.nm\n",
    "wl = pt[\"tx_wavel\"][0]\n",
    "#pt[\"rx_radius\"]=[16.8/2,0]*u.nm\n",
    "\n",
    "pt[\"tx_rx_separation\"]=(np.array([tx_rx_separation.to(u.km).value,0])*tx_rx_separation.unit).to(u.km)\n",
    "#pt[\"tx_jitter\"]=[10,5]*u.arcsec\n",
    "pt[\"rx_throughput\"]=[efficiency,0] \n",
    "pt[\"tx_divergence\"]=np.round([sigma.to(u.arcsec).value,0]*u.arcsec,3)\n",
    "\n",
    "\n",
    "\n",
    "#print(parse_table(pt,n=1))\n",
    "table_link=lgs.link(**parse_table(pt,n=1))\n",
    "\n",
    "try:\n",
    "    print(\"V=\"+str(table_link.magnitude.round(3))+\" mag\")\n",
    "except Exception as err:\n",
    "    print(err)\n",
    "pt[\"tx jitter\"] = x_0.to(u.arcsecond)\n",
    "#pt[\"t_exp\"] = .01*u.second\n",
    "#pt[\"$\\lambda/D$ Contrast\"] = np.round(contrast(table_link,sample_freq=1/(pt[\"t_exp\"])),11)\n",
    "table_link.force_band=\"z\\'\"\n",
    "pt[r\"$m$\"] = np.round(table_link.magnitude,1)\n",
    "pt[r\"band\"] =r\"$\\textrm{\"+str(table_link.band)+\"}$\"\n",
    "\n",
    "\n",
    "\n",
    "pt.write(\"precise_pointing_table.tex\",format=\"latex\",overwrite=True)\n",
    "print(contrast(table_link))\n",
    "pt.show_in_notebook()\n",
    "\n",
    "\n"
   ]
  },
  {
   "cell_type": "code",
   "execution_count": 20,
   "metadata": {},
   "outputs": [
    {
     "data": {
      "text/html": [
       "<i>Table length=2</i>\n",
       "<table id=\"table112409090760\" class=\"table-striped table-bordered table-condensed\">\n",
       "<thead><tr><th>name</th><th>tx_laser_power</th><th>tx_wavel</th><th>tx_rx_separation</th><th>rx_throughput</th><th>tx_divergence</th><th>tx jitter</th><th>$m$</th><th>band</th></tr></thead>\n",
       "<thead><tr><th></th><th>W</th><th>nm</th><th>km</th><th></th><th>arcsec</th><th>arcsec</th><th></th><th></th></tr></thead>\n",
       "<thead><tr><th>str5</th><th>float64</th><th>float64</th><th>float64</th><th>float64</th><th>float64</th><th>float64</th><th>float64</th><th>str13</th></tr></thead>\n",
       "<tr><td>mean</td><td>5.0</td><td>980.0</td><td>43184.0</td><td>0.37</td><td>3.861</td><td>0.015000000000000001</td><td>-7.1</td><td>$\\textrm{z&apos;}$</td></tr>\n",
       "<tr><td>mean</td><td>0.005</td><td>980.0</td><td>43184.0</td><td>0.37</td><td>3.861</td><td>0.015000000000000001</td><td>0.4</td><td>$\\textrm{z&apos;}$</td></tr>\n",
       "</table>"
      ],
      "text/plain": [
       "<Table length=2>\n",
       "name tx_laser_power tx_wavel ...      tx jitter         $m$        band    \n",
       "           W           nm    ...        arcsec                             \n",
       "str5    float64     float64  ...       float64        float64     str13    \n",
       "---- -------------- -------- ... -------------------- ------- -------------\n",
       "mean            5.0    980.0 ... 0.015000000000000001    -7.1 $\\textrm{z'}$\n",
       "mean          0.005    980.0 ... 0.015000000000000001     0.4 $\\textrm{z'}$"
      ]
     },
     "execution_count": 20,
     "metadata": {},
     "output_type": "execute_result"
    }
   ],
   "source": [
    "from astropy.table import vstack\n",
    "pt_master= vstack([pt_1st,pt[0]])\n",
    "pt_master"
   ]
  },
  {
   "cell_type": "code",
   "execution_count": 21,
   "metadata": {},
   "outputs": [
    {
     "name": "stdout",
     "output_type": "stream",
     "text": [
      "initing\n",
      "V\n",
      "V=-4.853 mag\n",
      "V\n"
     ]
    },
    {
     "data": {
      "text/html": [
       "<i>Table length=3</i>\n",
       "<table id=\"table112409079592\" class=\"table-striped table-bordered table-condensed\">\n",
       "<thead><tr><th>name</th><th>tx_laser_power</th><th>tx_wavel</th><th>tx_rx_separation</th><th>rx_throughput</th><th>tx_divergence</th><th>tx jitter</th><th>$m$</th><th>band</th></tr></thead>\n",
       "<thead><tr><th></th><th>W</th><th>nm</th><th>km</th><th></th><th>arcsec</th><th>arcsec</th><th></th><th></th></tr></thead>\n",
       "<thead><tr><th>str5</th><th>float64</th><th>float64</th><th>float64</th><th>float64</th><th>float64</th><th>float64</th><th>float64</th><th>str13</th></tr></thead>\n",
       "<tr><td>mean</td><td>5.0</td><td>980.0</td><td>43184.0</td><td>0.37</td><td>3.861</td><td>0.015000000000000001</td><td>-7.1</td><td>$\\textrm{z&apos;}$</td></tr>\n",
       "<tr><td>mean</td><td>0.005</td><td>980.0</td><td>43184.0</td><td>0.37</td><td>3.861</td><td>0.015000000000000001</td><td>0.4</td><td>$\\textrm{z&apos;}$</td></tr>\n",
       "<tr><td>mean</td><td>5.0</td><td>532.0</td><td>79549.0</td><td>0.37</td><td>3.861</td><td>0.015000000000000001</td><td>-4.9</td><td>$\\textrm{V}$</td></tr>\n",
       "</table>"
      ],
      "text/plain": [
       "<Table length=3>\n",
       "name tx_laser_power tx_wavel ...      tx jitter         $m$        band    \n",
       "           W           nm    ...        arcsec                             \n",
       "str5    float64     float64  ...       float64        float64     str13    \n",
       "---- -------------- -------- ... -------------------- ------- -------------\n",
       "mean            5.0    980.0 ... 0.015000000000000001    -7.1 $\\textrm{z'}$\n",
       "mean          0.005    980.0 ... 0.015000000000000001     0.4 $\\textrm{z'}$\n",
       "mean            5.0    532.0 ... 0.015000000000000001    -4.9  $\\textrm{V}$"
      ]
     },
     "execution_count": 21,
     "metadata": {},
     "output_type": "execute_result"
    }
   ],
   "source": [
    "\n",
    "pt=tabl.QTable()\n",
    "pt[\"name\"]=[\"mean\",\"stdev\"]\n",
    "pt[\"tx_laser_power\"]=[5,0]*u.watt\n",
    "\n",
    "\n",
    "pt[\"tx_wavel\"]=[532,0]*u.nm\n",
    "wl = pt[\"tx_wavel\"][0]\n",
    "tx_rx_separation=2*(D_t/2)**2/wl\n",
    "\n",
    "#pt[\"rx_radius\"]=[16.8/2,0]*u.nm\n",
    "\n",
    "pt[\"tx_rx_separation\"]=np.round((np.array([tx_rx_separation.value,0])*tx_rx_separation.unit).to(u.km))\n",
    "#pt[\"tx_jitter\"]=[10,5]*u.arcsec\n",
    "pt[\"rx_throughput\"]=[efficiency,0] \n",
    "pt[\"tx_divergence\"]=np.round([sigma.to(u.arcsec).value,0]*u.arcsec,3)\n",
    "\n",
    "\n",
    "\n",
    "#print(parse_table(pt,n=1))\n",
    "table_link=lgs.link(**parse_table(pt,n=1))\n",
    "\n",
    "try:\n",
    "    print(\"V=\"+str(table_link.magnitude.round(3))+\" mag\")\n",
    "except Exception as err:\n",
    "    print(err)\n",
    "pt[\"tx jitter\"] = x_0.to(u.arcsecond)\n",
    "#pt[\"t_exp\"] = [90,0]*u.second\n",
    "#pt[\"$\\lambda/D$ Contrast\"] = np.round(contrast(table_link,sample_freq=1/(pt[\"t_exp\"])),12)\n",
    "#table_link.force_band=\"z\\'\"\n",
    "pt[r\"$m$\"] = np.round(table_link.magnitude,1)\n",
    "pt[r\"band\"] =r\"$\\textrm{\"+str(table_link.band)+\"}$\"\n",
    "\n",
    "pt.write(\"normalspeed532nm_table.tex\",format=\"latex\",overwrite=True)\n",
    "pt.show_in_notebook()\n",
    "\n",
    "\n",
    "pt_master= vstack([pt_master,pt[0]])\n",
    "pt_master\n"
   ]
  },
  {
   "cell_type": "code",
   "execution_count": 22,
   "metadata": {},
   "outputs": [
    {
     "data": {
      "text/plain": [
       "257.4"
      ]
     },
     "execution_count": 22,
     "metadata": {},
     "output_type": "execute_result"
    }
   ],
   "source": [
    "(pt_master[\"tx_divergence\"][0]/pt_master[\"tx jitter\"][0])#.decompose()"
   ]
  },
  {
   "cell_type": "code",
   "execution_count": 23,
   "metadata": {},
   "outputs": [
    {
     "data": {
      "text/latex": [
       "$43183673 \\; \\mathrm{m}$"
      ],
      "text/plain": [
       "<Quantity 43183673.46938775 m>"
      ]
     },
     "execution_count": 23,
     "metadata": {},
     "output_type": "execute_result"
    }
   ],
   "source": [
    "(2*(D_t/2)**2/(980*u.nm)).decompose()"
   ]
  },
  {
   "cell_type": "code",
   "execution_count": 24,
   "metadata": {},
   "outputs": [
    {
     "name": "stdout",
     "output_type": "stream",
     "text": [
      "initing\n",
      "V\n",
      "V=2.647 mag\n",
      "V\n"
     ]
    },
    {
     "data": {
      "text/html": [
       "<i>Table length=4</i>\n",
       "<table id=\"table112369760912\" class=\"table-striped table-bordered table-condensed\">\n",
       "<thead><tr><th>name</th><th>tx_laser_power</th><th>tx_wavel</th><th>tx_rx_separation</th><th>rx_throughput</th><th>tx_divergence</th><th>tx jitter</th><th>$m$</th><th>band</th></tr></thead>\n",
       "<thead><tr><th></th><th>W</th><th>nm</th><th>km</th><th></th><th>arcsec</th><th>arcsec</th><th></th><th></th></tr></thead>\n",
       "<thead><tr><th>str5</th><th>float64</th><th>float64</th><th>float64</th><th>float64</th><th>float64</th><th>float64</th><th>float64</th><th>str13</th></tr></thead>\n",
       "<tr><td>mean</td><td>5.0</td><td>980.0</td><td>43184.0</td><td>0.37</td><td>3.861</td><td>0.015000000000000001</td><td>-7.1</td><td>$\\textrm{z&apos;}$</td></tr>\n",
       "<tr><td>mean</td><td>0.005</td><td>980.0</td><td>43184.0</td><td>0.37</td><td>3.861</td><td>0.015000000000000001</td><td>0.4</td><td>$\\textrm{z&apos;}$</td></tr>\n",
       "<tr><td>mean</td><td>5.0</td><td>532.0</td><td>79549.0</td><td>0.37</td><td>3.861</td><td>0.015000000000000001</td><td>-4.9</td><td>$\\textrm{V}$</td></tr>\n",
       "<tr><td>mean</td><td>0.005</td><td>532.0</td><td>79549.0</td><td>0.37</td><td>3.861</td><td>0.015000000000000001</td><td>2.6</td><td>$\\textrm{V}$</td></tr>\n",
       "</table>"
      ],
      "text/plain": [
       "<Table length=4>\n",
       "name tx_laser_power tx_wavel ...      tx jitter         $m$        band    \n",
       "           W           nm    ...        arcsec                             \n",
       "str5    float64     float64  ...       float64        float64     str13    \n",
       "---- -------------- -------- ... -------------------- ------- -------------\n",
       "mean            5.0    980.0 ... 0.015000000000000001    -7.1 $\\textrm{z'}$\n",
       "mean          0.005    980.0 ... 0.015000000000000001     0.4 $\\textrm{z'}$\n",
       "mean            5.0    532.0 ... 0.015000000000000001    -4.9  $\\textrm{V}$\n",
       "mean          0.005    532.0 ... 0.015000000000000001     2.6  $\\textrm{V}$"
      ]
     },
     "execution_count": 24,
     "metadata": {},
     "output_type": "execute_result"
    }
   ],
   "source": [
    "\n",
    "pt=tabl.QTable()\n",
    "pt[\"name\"]=[\"mean\",\"stdev\"]\n",
    "pt[\"tx_laser_power\"]=[0.005,0]*u.watt\n",
    "\n",
    "\n",
    "pt[\"tx_wavel\"]=[532,0]*u.nm\n",
    "wl = pt[\"tx_wavel\"][0]\n",
    "tx_rx_separation=2*(D_t/2)**2/pt[\"tx_wavel\"][0]\n",
    "\n",
    "#pt[\"rx_radius\"]=[16.8/2,0]*u.nm\n",
    "\n",
    "pt[\"tx_rx_separation\"]=np.round((np.array([tx_rx_separation.value,0])*tx_rx_separation.unit).to(u.km))\n",
    "#pt[\"tx_jitter\"]=[10,5]*u.arcsec\n",
    "pt[\"rx_throughput\"]=[efficiency,0] \n",
    "pt[\"tx_divergence\"]=np.round([sigma.to(u.arcsec).value,0]*u.arcsec,3)\n",
    "\n",
    "\n",
    "\n",
    "#print(parse_table(pt,n=1))\n",
    "table_link=lgs.link(**parse_table(pt,n=1))\n",
    "\n",
    "try:\n",
    "    print(\"V=\"+str(table_link.magnitude.round(3))+\" mag\")\n",
    "except Exception as err:\n",
    "    print(err)\n",
    "pt[\"tx jitter\"] = x_0.to(u.arcsecond)\n",
    "#pt[\"t_exp\"] = [90,0]*u.second\n",
    "#pt[\"$\\lambda/D$ Contrast\"] = np.round(contrast(table_link,sample_freq=1/(pt[\"t_exp\"])),12)\n",
    "#table_link.force_band=\"z\\'\"\n",
    "pt[r\"$m$\"] = np.round(table_link.magnitude,1)\n",
    "pt[r\"band\"] =r\"$\\textrm{\"+str(table_link.band)+\"}$\"\n",
    "\n",
    "pt.write(\"normalspeed532nm_table.tex\",format=\"latex\",overwrite=True)\n",
    "pt.show_in_notebook()\n",
    "\n",
    "\n",
    "\n",
    "pt_master= vstack([pt_master,pt[0]])\n",
    "pt_master\n",
    "\n",
    "\n",
    "\n"
   ]
  },
  {
   "cell_type": "code",
   "execution_count": 25,
   "metadata": {
    "collapsed": true
   },
   "outputs": [],
   "source": [
    "more normalspeed532nm_table.tex"
   ]
  },
  {
   "cell_type": "code",
   "execution_count": 26,
   "metadata": {},
   "outputs": [
    {
     "name": "stdout",
     "output_type": "stream",
     "text": [
      "12.4888688130694 arcsec\n",
      "12.4888688130694 arcsec\n",
      "initing\n",
      "wavelength (980.0 nm) has no specified filter\n",
      "unknown band\n",
      "wavelength (980.0 nm) has no specified filter\n",
      "wavelength (980.0 nm) has no specified filter\n",
      "wavelength (980.0 nm) has no specified filter\n",
      "wavelength (980.0 nm) has no specified filter\n",
      "wavelength (980.0 nm) has no specified filter\n",
      "'NoneType' object has no attribute 'round'\n",
      "z'\n"
     ]
    },
    {
     "data": {
      "text/html": [
       "<i>Table length=5</i>\n",
       "<table id=\"table112409144792\" class=\"table-striped table-bordered table-condensed\">\n",
       "<thead><tr><th>name</th><th>tx_laser_power</th><th>tx_wavel</th><th>tx_rx_separation</th><th>rx_throughput</th><th>tx_divergence</th><th>tx jitter</th><th>$m$</th><th>band</th></tr></thead>\n",
       "<thead><tr><th></th><th>W</th><th>nm</th><th>km</th><th></th><th>arcsec</th><th>arcsec</th><th></th><th></th></tr></thead>\n",
       "<thead><tr><th>str5</th><th>float64</th><th>float64</th><th>float64</th><th>float64</th><th>float64</th><th>float64</th><th>float64</th><th>str13</th></tr></thead>\n",
       "<tr><td>mean</td><td>5.0</td><td>980.0</td><td>43184.0</td><td>0.37</td><td>3.861</td><td>0.015000000000000001</td><td>-7.1</td><td>$\\textrm{z&apos;}$</td></tr>\n",
       "<tr><td>mean</td><td>0.005</td><td>980.0</td><td>43184.0</td><td>0.37</td><td>3.861</td><td>0.015000000000000001</td><td>0.4</td><td>$\\textrm{z&apos;}$</td></tr>\n",
       "<tr><td>mean</td><td>5.0</td><td>532.0</td><td>79549.0</td><td>0.37</td><td>3.861</td><td>0.015000000000000001</td><td>-4.9</td><td>$\\textrm{V}$</td></tr>\n",
       "<tr><td>mean</td><td>0.005</td><td>532.0</td><td>79549.0</td><td>0.37</td><td>3.861</td><td>0.015000000000000001</td><td>2.6</td><td>$\\textrm{V}$</td></tr>\n",
       "<tr><td>mean</td><td>5.0</td><td>980.0</td><td>43184.0</td><td>0.37</td><td>12.49</td><td>0.1</td><td>-4.5</td><td>$\\textrm{z&apos;}$</td></tr>\n",
       "</table>"
      ],
      "text/plain": [
       "<Table length=5>\n",
       "name tx_laser_power tx_wavel ...      tx jitter         $m$        band    \n",
       "           W           nm    ...        arcsec                             \n",
       "str5    float64     float64  ...       float64        float64     str13    \n",
       "---- -------------- -------- ... -------------------- ------- -------------\n",
       "mean            5.0    980.0 ... 0.015000000000000001    -7.1 $\\textrm{z'}$\n",
       "mean          0.005    980.0 ... 0.015000000000000001     0.4 $\\textrm{z'}$\n",
       "mean            5.0    532.0 ... 0.015000000000000001    -4.9  $\\textrm{V}$\n",
       "mean          0.005    532.0 ... 0.015000000000000001     2.6  $\\textrm{V}$\n",
       "mean            5.0    980.0 ...                  0.1    -4.5 $\\textrm{z'}$"
      ]
     },
     "execution_count": 26,
     "metadata": {},
     "output_type": "execute_result"
    }
   ],
   "source": [
    "\n",
    "x_0=(100*u.milliarcsecond).to(u.radian)\n",
    "sigma=(np.sqrt(2*x_0**2/(dphi))).decompose()\n",
    "print(sigma.to(u.arcsec))\n",
    "if sigma <min_divergence:\n",
    "    sigma=min_divergence\n",
    "print(sigma.to(u.arcsec))\n",
    "pt=tabl.QTable()\n",
    "pt[\"name\"]=[\"mean\",\"stdev\"]\n",
    "pt[\"tx_laser_power\"]=[5,0]*u.watt\n",
    "\n",
    "\n",
    "pt[\"tx_wavel\"]=[980,0]*u.nm\n",
    "wl = pt[\"tx_wavel\"][0]\n",
    "tx_rx_separation=2*(D_t/2)**2/pt[\"tx_wavel\"][0]\n",
    "\n",
    "#pt[\"rx_radius\"]=[16.8/2,0]*u.nm\n",
    "\n",
    "pt[\"tx_rx_separation\"]=np.round((np.array([tx_rx_separation.value,0])*tx_rx_separation.unit).to(u.km))\n",
    "#pt[\"tx_jitter\"]=[10,5]*u.arcsec\n",
    "pt[\"rx_throughput\"]=[efficiency,0] \n",
    "pt[\"tx_divergence\"]=np.round([sigma.to(u.arcsec).value,0]*u.arcsec,2)\n",
    "\n",
    "\n",
    "\n",
    "#print(parse_table(pt,n=1))\n",
    "table_link=lgs.link(**parse_table(pt,n=1))\n",
    "\n",
    "try:\n",
    "    print(\"V=\"+str(table_link.magnitude.round(3))+\" mag\")\n",
    "except Exception as err:\n",
    "    print(err)\n",
    "pt[\"tx jitter\"] = np.round(x_0.to(u.arcsecond),4)\n",
    "#pt[\"t_exp\"] = [90,0]*u.second\n",
    "#pt[\"$\\lambda/D$ Contrast\"] = np.round(contrast(table_link,sample_freq=1/(pt[\"t_exp\"])),12)\n",
    "table_link.force_band=\"z\\'\"\n",
    "pt[r\"$m$\"] = np.round(table_link.magnitude,1)\n",
    "pt[r\"band\"] =r\"$\\textrm{\"+str(table_link.band)+\"}$\"\n",
    "\n",
    "pt.write(\"moderate_pointing_980nm_table.tex\",format=\"latex\",overwrite=True)\n",
    "pt.show_in_notebook()\n",
    "\n",
    "\n",
    "\n",
    "\n",
    "pt_master= vstack([pt_master,pt[0]])\n",
    "pt_master\n",
    "\n",
    "\n"
   ]
  },
  {
   "cell_type": "code",
   "execution_count": 27,
   "metadata": {},
   "outputs": [
    {
     "name": "stdout",
     "output_type": "stream",
     "text": [
      "12.4888688130694 arcsec\n",
      "12.4888688130694 arcsec\n",
      "initing\n",
      "V\n",
      "V=-2.304 mag\n",
      "V\n"
     ]
    },
    {
     "data": {
      "text/html": [
       "<i>Table length=6</i>\n",
       "<table id=\"table112409144176\" class=\"table-striped table-bordered table-condensed\">\n",
       "<thead><tr><th>name</th><th>tx_laser_power</th><th>tx_wavel</th><th>tx_rx_separation</th><th>rx_throughput</th><th>tx_divergence</th><th>tx jitter</th><th>$m$</th><th>band</th></tr></thead>\n",
       "<thead><tr><th></th><th>W</th><th>nm</th><th>km</th><th></th><th>arcsec</th><th>arcsec</th><th></th><th></th></tr></thead>\n",
       "<thead><tr><th>str5</th><th>float64</th><th>float64</th><th>float64</th><th>float64</th><th>float64</th><th>float64</th><th>float64</th><th>str13</th></tr></thead>\n",
       "<tr><td>mean</td><td>5.0</td><td>980.0</td><td>43184.0</td><td>0.37</td><td>3.861</td><td>0.015000000000000001</td><td>-7.1</td><td>$\\textrm{z&apos;}$</td></tr>\n",
       "<tr><td>mean</td><td>0.005</td><td>980.0</td><td>43184.0</td><td>0.37</td><td>3.861</td><td>0.015000000000000001</td><td>0.4</td><td>$\\textrm{z&apos;}$</td></tr>\n",
       "<tr><td>mean</td><td>5.0</td><td>532.0</td><td>79549.0</td><td>0.37</td><td>3.861</td><td>0.015000000000000001</td><td>-4.9</td><td>$\\textrm{V}$</td></tr>\n",
       "<tr><td>mean</td><td>0.005</td><td>532.0</td><td>79549.0</td><td>0.37</td><td>3.861</td><td>0.015000000000000001</td><td>2.6</td><td>$\\textrm{V}$</td></tr>\n",
       "<tr><td>mean</td><td>5.0</td><td>980.0</td><td>43184.0</td><td>0.37</td><td>12.49</td><td>0.1</td><td>-4.5</td><td>$\\textrm{z&apos;}$</td></tr>\n",
       "<tr><td>mean</td><td>5.0</td><td>532.0</td><td>79549.0</td><td>0.37</td><td>12.49</td><td>0.1</td><td>-2.3</td><td>$\\textrm{V}$</td></tr>\n",
       "</table>"
      ],
      "text/plain": [
       "<Table length=6>\n",
       "name tx_laser_power tx_wavel ...      tx jitter         $m$        band    \n",
       "           W           nm    ...        arcsec                             \n",
       "str5    float64     float64  ...       float64        float64     str13    \n",
       "---- -------------- -------- ... -------------------- ------- -------------\n",
       "mean            5.0    980.0 ... 0.015000000000000001    -7.1 $\\textrm{z'}$\n",
       "mean          0.005    980.0 ... 0.015000000000000001     0.4 $\\textrm{z'}$\n",
       "mean            5.0    532.0 ... 0.015000000000000001    -4.9  $\\textrm{V}$\n",
       "mean          0.005    532.0 ... 0.015000000000000001     2.6  $\\textrm{V}$\n",
       "mean            5.0    980.0 ...                  0.1    -4.5 $\\textrm{z'}$\n",
       "mean            5.0    532.0 ...                  0.1    -2.3  $\\textrm{V}$"
      ]
     },
     "execution_count": 27,
     "metadata": {},
     "output_type": "execute_result"
    }
   ],
   "source": [
    "\n",
    "x_0=(100*u.milliarcsecond).to(u.radian)\n",
    "sigma=(np.sqrt(2*x_0**2/(dphi))).decompose()\n",
    "print(sigma.to(u.arcsec))\n",
    "if sigma <min_divergence:\n",
    "    sigma=min_divergence\n",
    "print(sigma.to(u.arcsec))\n",
    "pt=tabl.QTable()\n",
    "pt[\"name\"]=[\"mean\",\"stdev\"]\n",
    "pt[\"tx_laser_power\"]=[5,0]*u.watt\n",
    "\n",
    "\n",
    "pt[\"tx_wavel\"]=[532,0]*u.nm\n",
    "wl = pt[\"tx_wavel\"][0]\n",
    "tx_rx_separation=2*(D_t/2)**2/pt[\"tx_wavel\"][0]\n",
    "\n",
    "#pt[\"rx_radius\"]=[16.8/2,0]*u.nm\n",
    "\n",
    "pt[\"tx_rx_separation\"]=np.round((np.array([tx_rx_separation.value,0])*tx_rx_separation.unit).to(u.km))\n",
    "#pt[\"tx_jitter\"]=[10,5]*u.arcsec\n",
    "pt[\"rx_throughput\"]=[efficiency,0] \n",
    "pt[\"tx_divergence\"]=np.round([sigma.to(u.arcsec).value,0]*u.arcsec,2)\n",
    "\n",
    "\n",
    "\n",
    "#print(parse_table(pt,n=1))\n",
    "table_link=lgs.link(**parse_table(pt,n=1))\n",
    "\n",
    "try:\n",
    "    print(\"V=\"+str(table_link.magnitude.round(3))+\" mag\")\n",
    "except Exception as err:\n",
    "    print(err)\n",
    "pt[\"tx jitter\"] = np.round(x_0.to(u.arcsecond),4)\n",
    "#pt[\"t_exp\"] = [90,0]*u.second\n",
    "#pt[\"$\\lambda/D$ Contrast\"] = np.round(contrast(table_link,sample_freq=1/(pt[\"t_exp\"])),12)\n",
    "#table_link.force_band=\"z\\'\"\n",
    "pt[r\"$m$\"] = np.round(table_link.magnitude,1)\n",
    "pt[r\"band\"] =r\"$\\textrm{\"+str(table_link.band)+\"}$\"\n",
    "\n",
    "pt.write(\"moderate_pointing_980nm_table.tex\",format=\"latex\",overwrite=True)\n",
    "pt.show_in_notebook()\n",
    "\n",
    "\n",
    "\n",
    "\n",
    "pt_master= vstack([pt_master,pt[0]])\n",
    "pt_master\n",
    "\n",
    "\n"
   ]
  },
  {
   "cell_type": "code",
   "execution_count": 28,
   "metadata": {
    "collapsed": true
   },
   "outputs": [],
   "source": [
    "# write table to tex\n",
    "pt_master.write(\"compiled_master_table.tex\",format=\"latex\",overwrite=True)\n",
    "\n"
   ]
  },
  {
   "cell_type": "code",
   "execution_count": 29,
   "metadata": {
    "collapsed": true
   },
   "outputs": [],
   "source": [
    "more compiled_master_table.tex"
   ]
  },
  {
   "cell_type": "code",
   "execution_count": 30,
   "metadata": {},
   "outputs": [
    {
     "name": "stdout",
     "output_type": "stream",
     "text": [
      "1248.8868813069398 arcsec\n",
      "1248.8868813069398 arcsec\n",
      "initing\n",
      "wavelength (980.0 nm) has no specified filter\n",
      "unknown band\n",
      "wavelength (980.0 nm) has no specified filter\n",
      "wavelength (980.0 nm) has no specified filter\n",
      "wavelength (980.0 nm) has no specified filter\n",
      "wavelength (980.0 nm) has no specified filter\n",
      "wavelength (980.0 nm) has no specified filter\n",
      "'NoneType' object has no attribute 'round'\n",
      "z'\n"
     ]
    }
   ],
   "source": [
    "\n",
    "x_0=(10*u.arcsecond).to(u.radian)\n",
    "sigma=(np.sqrt(2*x_0**2/(dphi))).decompose()\n",
    "print(sigma.to(u.arcsec))\n",
    "if sigma <min_divergence:\n",
    "    sigma=min_divergence\n",
    "print(sigma.to(u.arcsec))\n",
    "pt=tabl.QTable()\n",
    "pt[\"name\"]=[\"mean\",\"stdev\"]\n",
    "pt[\"tx_laser_power\"]=[1000,0]*u.watt\n",
    "\n",
    "\n",
    "pt[\"tx_wavel\"]=[980,0]*u.nm\n",
    "wl = pt[\"tx_wavel\"][0]\n",
    "tx_rx_separation=2*(D_t/2)**2/pt[\"tx_wavel\"][0]\n",
    "\n",
    "#pt[\"rx_radius\"]=[16.8/2,0]*u.nm\n",
    "\n",
    "pt[\"tx_rx_separation\"]=np.round((np.array([tx_rx_separation.value,0])*tx_rx_separation.unit).to(u.km))\n",
    "#pt[\"tx_jitter\"]=[10,5]*u.arcsec\n",
    "pt[\"rx_throughput\"]=[efficiency,0] \n",
    "pt[\"tx_divergence\"]=np.round([sigma.to(u.arcsec).value,0]*u.arcsec,2)\n",
    "\n",
    "\n",
    "\n",
    "#print(parse_table(pt,n=1))\n",
    "table_link=lgs.link(**parse_table(pt,n=1))\n",
    "\n",
    "try:\n",
    "    print(\"V=\"+str(table_link.magnitude.round(3))+\" mag\")\n",
    "except Exception as err:\n",
    "    print(err)\n",
    "pt[\"tx jitter\"] = np.round(x_0.to(u.arcsecond),4)\n",
    "#pt[\"t_exp\"] = [90,0]*u.second\n",
    "#pt[\"$\\lambda/D$ Contrast\"] = np.round(contrast(table_link,sample_freq=1/(pt[\"t_exp\"])),12)\n",
    "table_link.force_band=\"z\\'\"\n",
    "pt[r\"$m$\"] = np.round(table_link.magnitude,1)\n",
    "pt[r\"band\"] =r\"$\\textrm{\"+str(table_link.band)+\"}$\"\n",
    "\n",
    "pt.write(\"moderate_pointing_980nm_table.tex\",format=\"latex\",overwrite=True)\n",
    "\n"
   ]
  },
  {
   "cell_type": "code",
   "execution_count": null,
   "metadata": {
    "collapsed": true
   },
   "outputs": [],
   "source": []
  },
  {
   "cell_type": "code",
   "execution_count": 31,
   "metadata": {},
   "outputs": [
    {
     "name": "stdout",
     "output_type": "stream",
     "text": [
      "0.62444344065347 arcsec\n",
      "3.860580267613811 arcsec\n",
      "initing\n",
      "wavelength (980.0 nm) has no specified filter\n",
      "unknown band\n",
      "wavelength (980.0 nm) has no specified filter\n",
      "wavelength (980.0 nm) has no specified filter\n",
      "wavelength (980.0 nm) has no specified filter\n",
      "wavelength (980.0 nm) has no specified filter\n",
      "wavelength (980.0 nm) has no specified filter\n",
      "'NoneType' object has no attribute 'round'\n",
      "z'\n",
      "Tx power: 10.0 W\n",
      "1000.0 Hz\n",
      "WFE per pixel: 156.0 pm\n",
      "mean error per segment: 2.794 pm\n",
      "2.675269148326937e-11\n"
     ]
    },
    {
     "data": {
      "text/html": [
       "<i>QTable length=2</i>\n",
       "<table id=\"table112409139408-295357\" class=\"table-striped table-bordered table-condensed\">\n",
       "<thead><tr><th>idx</th><th>name</th><th>tx_laser_power</th><th>tx_wavel</th><th>tx_rx_separation</th><th>rx_throughput</th><th>tx_divergence</th><th>tx jitter</th><th>$m$</th><th>band</th></tr></thead>\n",
       "<thead><tr><th></th><th></th><th>W</th><th>nm</th><th>km</th><th></th><th>arcsec</th><th>arcsec</th><th></th><th></th></tr></thead>\n",
       "<tr><td>0</td><td>mean</td><td>10.0</td><td>980.0</td><td>43184.0</td><td>0.37</td><td>3.861</td><td>0.005</td><td>-7.8</td><td>$\\textrm{z&apos;}$</td></tr>\n",
       "<tr><td>1</td><td>stdev</td><td>0.0</td><td>0.0</td><td>0.0</td><td>0.0</td><td>0.0</td><td>0.005</td><td>-7.8</td><td>$\\textrm{z&apos;}$</td></tr>\n",
       "</table><style>table.dataTable {clear: both; width: auto !important; margin: 0 !important;}\n",
       ".dataTables_info, .dataTables_length, .dataTables_filter, .dataTables_paginate{\n",
       "display: inline-block; margin-right: 1em; }\n",
       ".paginate_button { margin-right: 5px; }\n",
       "</style>\n",
       "<script>\n",
       "\n",
       "var astropy_sort_num = function(a, b) {\n",
       "    var a_num = parseFloat(a);\n",
       "    var b_num = parseFloat(b);\n",
       "\n",
       "    if (isNaN(a_num) && isNaN(b_num))\n",
       "        return ((a < b) ? -1 : ((a > b) ? 1 : 0));\n",
       "    else if (!isNaN(a_num) && !isNaN(b_num))\n",
       "        return ((a_num < b_num) ? -1 : ((a_num > b_num) ? 1 : 0));\n",
       "    else\n",
       "        return isNaN(a_num) ? -1 : 1;\n",
       "}\n",
       "\n",
       "require.config({paths: {\n",
       "    datatables: 'https://cdn.datatables.net/1.10.12/js/jquery.dataTables.min'\n",
       "}});\n",
       "require([\"datatables\"], function(){\n",
       "    console.log(\"$('#table112409139408-295357').dataTable()\");\n",
       "    \n",
       "jQuery.extend( jQuery.fn.dataTableExt.oSort, {\n",
       "    \"optionalnum-asc\": astropy_sort_num,\n",
       "    \"optionalnum-desc\": function (a,b) { return -astropy_sort_num(a, b); }\n",
       "});\n",
       "\n",
       "    $('#table112409139408-295357').dataTable({\n",
       "        order: [],\n",
       "        pageLength: 50,\n",
       "        lengthMenu: [[10, 25, 50, 100, 500, 1000, -1], [10, 25, 50, 100, 500, 1000, 'All']],\n",
       "        pagingType: \"full_numbers\",\n",
       "        columnDefs: [{targets: [0, 2, 3, 4, 5, 6, 7, 8], type: \"optionalnum\"}]\n",
       "    });\n",
       "});\n",
       "</script>\n"
      ],
      "text/plain": [
       "<IPython.core.display.HTML object>"
      ]
     },
     "execution_count": 31,
     "metadata": {},
     "output_type": "execute_result"
    }
   ],
   "source": [
    "#reload(lgs)\n",
    "x_0=(5*u.milliarcsecond).to(u.radian)\n",
    "sigma=(np.sqrt(2*x_0**2/(dphi))).decompose()\n",
    "print(sigma.to(u.arcsec))\n",
    "if sigma <min_divergence:\n",
    "    sigma=min_divergence\n",
    "print(sigma.to(u.arcsec))\n",
    "pt=tabl.QTable()\n",
    "pt[\"name\"]=[\"mean\",\"stdev\"]\n",
    "pt[\"tx_laser_power\"]=[10,0]*u.watt\n",
    "pt[\"tx_wavel\"]=[table_link.wavelength.to(u.nm).value,0]*u.nm\n",
    "wl = pt[\"tx_wavel\"][0]\n",
    "#pt[\"rx_radius\"]=[16.8/2,0]*u.nm\n",
    "\n",
    "pt[\"tx_rx_separation\"]=np.round((np.array([tx_rx_separation.value,0])*tx_rx_separation.unit).to(u.km))\n",
    "#pt[\"tx_jitter\"]=[10,5]*u.arcsec\n",
    "pt[\"rx_throughput\"]=[efficiency,0] \n",
    "pt[\"tx_divergence\"]=np.round([sigma.to(u.arcsec).value,0]*u.arcsec,3)\n",
    "\n",
    "\n",
    "\n",
    "#print(parse_table(pt,n=1))\n",
    "table_link=lgs.link(**parse_table(pt,n=1))\n",
    "\n",
    "try:\n",
    "    print(\"V=\"+str(table_link.magnitude.round(3))+\" mag\")\n",
    "except Exception as err:\n",
    "    print(err)\n",
    "pt[\"tx jitter\"] = x_0.to(u.arcsecond)\n",
    "#pt[\"t_exp\"] = .01*u.second\n",
    "table_link.force_band=\"z\\'\"\n",
    "\n",
    "\n",
    "#pt[\"$\\lambda/D$ Contrast\"] = np.round(contrast(table_link,sample_freq=1/(pt[\"t_exp\"])),11)\n",
    "pt[r\"$m$\"] = np.round(table_link.magnitude,1)\n",
    "pt[r\"band\"] =r\"$\\textrm{\"+str(table_link.band)+\"}$\"\n",
    "\n",
    "\n",
    "\n",
    "pt.write(\"precise_pointing532nm_table.tex\",format=\"latex\",overwrite=True)\n",
    "print(contrast(table_link))\n",
    "pt.show_in_notebook()\n",
    "\n",
    "\n",
    "\n"
   ]
  },
  {
   "cell_type": "code",
   "execution_count": 32,
   "metadata": {},
   "outputs": [
    {
     "data": {
      "text/latex": [
       "$3.218744 \\times 10^{-14} \\; \\mathrm{W}$"
      ],
      "text/plain": [
       "<Quantity 3.21874398e-14 W>"
      ]
     },
     "execution_count": 32,
     "metadata": {},
     "output_type": "execute_result"
    }
   ],
   "source": [
    "table_link.rx_power.to(u.watt)"
   ]
  },
  {
   "cell_type": "markdown",
   "metadata": {},
   "source": [
    "$\\therefore$ $\\sigma^2_p=\\frac{2}{\\bar{S_0}}$\n",
    "\n"
   ]
  },
  {
   "cell_type": "code",
   "execution_count": 33,
   "metadata": {},
   "outputs": [
    {
     "data": {
      "text/html": [
       "<i>Table length=6</i>\n",
       "<table id=\"table112409144176\" class=\"table-striped table-bordered table-condensed\">\n",
       "<thead><tr><th>name</th><th>tx_laser_power</th><th>tx_wavel</th><th>tx_rx_separation</th><th>rx_throughput</th><th>tx_divergence</th><th>tx jitter</th><th>$m$</th><th>band</th></tr></thead>\n",
       "<thead><tr><th></th><th>W</th><th>nm</th><th>km</th><th></th><th>arcsec</th><th>arcsec</th><th></th><th></th></tr></thead>\n",
       "<thead><tr><th>str5</th><th>float64</th><th>float64</th><th>float64</th><th>float64</th><th>float64</th><th>float64</th><th>float64</th><th>str13</th></tr></thead>\n",
       "<tr><td>mean</td><td>5.0</td><td>980.0</td><td>43184.0</td><td>0.37</td><td>3.861</td><td>0.015000000000000001</td><td>-7.1</td><td>$\\textrm{z&apos;}$</td></tr>\n",
       "<tr><td>mean</td><td>0.005</td><td>980.0</td><td>43184.0</td><td>0.37</td><td>3.861</td><td>0.015000000000000001</td><td>0.4</td><td>$\\textrm{z&apos;}$</td></tr>\n",
       "<tr><td>mean</td><td>5.0</td><td>532.0</td><td>79549.0</td><td>0.37</td><td>3.861</td><td>0.015000000000000001</td><td>-4.9</td><td>$\\textrm{V}$</td></tr>\n",
       "<tr><td>mean</td><td>0.005</td><td>532.0</td><td>79549.0</td><td>0.37</td><td>3.861</td><td>0.015000000000000001</td><td>2.6</td><td>$\\textrm{V}$</td></tr>\n",
       "<tr><td>mean</td><td>5.0</td><td>980.0</td><td>43184.0</td><td>0.37</td><td>12.49</td><td>0.1</td><td>-4.5</td><td>$\\textrm{z&apos;}$</td></tr>\n",
       "<tr><td>mean</td><td>5.0</td><td>532.0</td><td>79549.0</td><td>0.37</td><td>12.49</td><td>0.1</td><td>-2.3</td><td>$\\textrm{V}$</td></tr>\n",
       "</table>"
      ],
      "text/plain": [
       "<Table length=6>\n",
       "name tx_laser_power tx_wavel ...      tx jitter         $m$        band    \n",
       "           W           nm    ...        arcsec                             \n",
       "str5    float64     float64  ...       float64        float64     str13    \n",
       "---- -------------- -------- ... -------------------- ------- -------------\n",
       "mean            5.0    980.0 ... 0.015000000000000001    -7.1 $\\textrm{z'}$\n",
       "mean          0.005    980.0 ... 0.015000000000000001     0.4 $\\textrm{z'}$\n",
       "mean            5.0    532.0 ... 0.015000000000000001    -4.9  $\\textrm{V}$\n",
       "mean          0.005    532.0 ... 0.015000000000000001     2.6  $\\textrm{V}$\n",
       "mean            5.0    980.0 ...                  0.1    -4.5 $\\textrm{z'}$\n",
       "mean            5.0    532.0 ...                  0.1    -2.3  $\\textrm{V}$"
      ]
     },
     "execution_count": 33,
     "metadata": {},
     "output_type": "execute_result"
    }
   ],
   "source": [
    "pt_master"
   ]
  },
  {
   "cell_type": "code",
   "execution_count": 34,
   "metadata": {
    "collapsed": true
   },
   "outputs": [],
   "source": [
    "more precise_pointing532nm_table.tex"
   ]
  },
  {
   "cell_type": "markdown",
   "metadata": {},
   "source": [
    "## what about heating of the segments?\n",
    "\n",
    ", dissipation of heat in the coating is a localized effect and will add power to the mirrors:\n",
    "\n",
    "* Hello, Patrice, and Jean-Yves Vinet. 1990a. “Analytical Models of Thermal Aberrations in Massive Mirrors Heated by High Power Laser Beams.” Journal de Physique 51 (12):1267–1282.\n",
    "* ———. 1990b. “Analytical Models of Transient Thermoelastic Deformations of Mirrors Heated by High Power Cw Laser Beams.” Journal de Physique 51 (20):2243–2261.\n",
    "\n"
   ]
  },
  {
   "cell_type": "code",
   "execution_count": 35,
   "metadata": {},
   "outputs": [
    {
     "name": "stdout",
     "output_type": "stream",
     "text": [
      "dT bulk segment4.090001523650845e-06 K\n",
      "Expansion zerodur:0.1175875438049618 pm\n",
      "Expansion Beryllium:12.079212741634972 pm\n",
      "dT Al segment: 0.05520660492829123 K\n",
      "expansion of coating:0.6348759566753491 pm\n"
     ]
    },
    {
     "data": {
      "text/latex": [
       "$3.218744 \\times 10^{-14} \\; \\mathrm{W}$"
      ],
      "text/plain": [
       "<Quantity 3.21874398e-14 W>"
      ]
     },
     "execution_count": 35,
     "metadata": {},
     "output_type": "execute_result"
    }
   ],
   "source": [
    "#JWST areal density, https://ntrs.nasa.gov/archive/nasa/casi.ntrs.nasa.gov/20090028784.pdf\n",
    "incident = np.median(table_link.rx_phot_sec)#*efficiency\n",
    "seg_incident = incident*seg_area/table_link.rx_Area\n",
    "\n",
    "CTE_Al=23e-6/u.K\n",
    "CTE_Zerodur= 0.05e-6/u.K# https://en.wikipedia.org/wiki/Zerodur (multiple values given...)\n",
    "CTE_Be= 11.4e-6/u.K#https://en.wikipedia.org/wiki/Beryllium\n",
    "#treat segments as bulk masses:\n",
    "areal_density=20*u.kg/u.m**2\n",
    "segment_mass=seg_area*areal_density\n",
    "c_beryl=1.82*u.J/u.gram/u.K #1.82\tJ/gram/K http://hyperphysics.phy-astr.gsu.edu/hbase/pertab/be.html\n",
    "c_zerodur=0.82*u.J/u.gram/u.K#https://en.wikipedia.org/wiki/Zerodur\n",
    "#specific heats are only good at room temperature\n",
    "R=0.9 #aluminum coated mirror\n",
    "t=250*u.hour #typical exposure time\n",
    "energ=(1-R)*((t*seg_incident).to(u.photon).value*c.h*c.c/link.wavelength).to(u.J)\n",
    "dT_Z=(energ/c_zerodur/segment_mass).decompose()\n",
    "dT_Be=(energ/c_beryl/segment_mass).decompose()\n",
    "print(\"dT bulk segment\"+str(dT_Z))\n",
    "print(\"Expansion zerodur:\"+str((CTE_Zerodur*dT_Z*r).to(u.picometer)))\n",
    "print(\"Expansion Beryllium:\"+str((CTE_Be*dT_Be*r).to(u.picometer)))\n",
    "\n",
    "rho_Al=2.70*u.g/u.cm**3\n",
    "c_Al=0.900*u.J/u.gram/u.K\n",
    "\n",
    "coating_thickness=0.5*u.um #thick\n",
    "mass_coating = rho_Al * seg_area*coating_thickness\n",
    "dT_Al=(energ/c_Al/mass_coating).decompose()\n",
    "print(\"dT Al segment: \"+str(dT_Al))\n",
    "\n",
    "print(\"expansion of coating:\"+str((CTE_Al*dT_Al*coating_thickness).to(u.picometer)))\n",
    "table_link.rx_power.to(u.watt)"
   ]
  },
  {
   "cell_type": "markdown",
   "metadata": {
    "collapsed": true
   },
   "source": [
    "# Cross Track vector control "
   ]
  },
  {
   "cell_type": "code",
   "execution_count": 36,
   "metadata": {},
   "outputs": [
    {
     "data": {
      "text/latex": [
       "$2.3 \\; \\mathrm{m}$"
      ],
      "text/plain": [
       "<Quantity 2.3 m>"
      ]
     },
     "execution_count": 36,
     "metadata": {},
     "output_type": "execute_result"
    }
   ],
   "source": [
    "#hold to 0.5*lambda/D\n",
    "(0.5*wavelength/D_t*tx_rx_separation.decompose().to(u.km)).decompose()\n"
   ]
  },
  {
   "cell_type": "code",
   "execution_count": 37,
   "metadata": {},
   "outputs": [
    {
     "data": {
      "text/latex": [
       "$21.304348 \\; \\mathrm{m}$"
      ],
      "text/plain": [
       "<Quantity 21.30434783 m>"
      ]
     },
     "execution_count": 37,
     "metadata": {},
     "output_type": "execute_result"
    }
   ],
   "source": [
    "#hold to \n",
    "(wavelength/D_t*2e5*u.km).decompose()"
   ]
  },
  {
   "cell_type": "markdown",
   "metadata": {},
   "source": [
    " # Reflectivity Calculation"
   ]
  },
  {
   "cell_type": "code",
   "execution_count": 38,
   "metadata": {},
   "outputs": [
    {
     "data": {
      "text/plain": [
       "(<Quantity 19.6622396>, <Quantity 1.36491045e-08>, <Quantity 43184. km>)"
      ]
     },
     "execution_count": 38,
     "metadata": {},
     "output_type": "execute_result"
    }
   ],
   "source": [
    "L2=1*u.AU+2e6*u.km\n",
    "albedo_sc=1-.99965#=0.01#\n",
    "A_sc = (300*u.mm)**2 #9 U area\n",
    "R=pt[\"tx_rx_separation\"][0]\n",
    "A_tele=table_link.rx_Area\n",
    "p=(c.L_sun/(L2)**2*A_sc/(2*np.pi*R**2)*A_tele*albedo_sc).to(u.watt)\n",
    "zero_mag_power= zero_mag_Vband*A_tele*(c.c*c.h/(551*u.nm)/u.photon)\n",
    "mag=-2.5*np.log10(p/zero_mag_power)\n",
    "mag,(p/zero_mag_power).decompose(),pt[\"tx_rx_separation\"][0]"
   ]
  },
  {
   "cell_type": "markdown",
   "metadata": {
    "collapsed": true
   },
   "source": [
    "## ZWFS"
   ]
  },
  {
   "cell_type": "code",
   "execution_count": 39,
   "metadata": {
    "collapsed": true
   },
   "outputs": [],
   "source": [
    "import poppy\n",
    "import numpy as np\n",
    "import matplotlib.pyplot as plt\n",
    "import astropy.units as u\n",
    "from astropy.io import fits\n",
    "radius = 1*u.cm\n",
    "from importlib import reload\n",
    "from poppy import *\n",
    "from poppy.poppy_core import PlaneType\n",
    "import logging\n",
    "logging.basicConfig()\n",
    "logging.getLogger().setLevel(logging.INFO)\n",
    "from scipy.ndimage import shift\n",
    "\n",
    "from zwfs import *\n",
    "\n",
    "\n",
    "plt.rcParams[\"ps.fonttype\"]=42"
   ]
  },
  {
   "cell_type": "code",
   "execution_count": 40,
   "metadata": {},
   "outputs": [
    {
     "name": "stderr",
     "output_type": "stream",
     "text": [
      "/Users/edouglas/githubMIT/LGS/AJ_LGS_2018_PlotsAndFigs/zwfs.py:82: RuntimeWarning: invalid value encountered in arcsin\n",
      "  return (-1)*np.arcsin((I_C - P**2 - 2*b**2)/(-2*np.sqrt(2)*b*P)) + np.pi/4.\n"
     ]
    },
    {
     "data": {
      "image/png": "[encoded data removed]",
      "text/plain": [
       "<Figure size 432x288 with 1 Axes>"
      ]
     },
     "metadata": {
      "needs_background": "light"
     },
     "output_type": "display_data"
    }
   ],
   "source": [
    "#test function against N'Daiye 2013, figure 5  and recreate the figure:\n",
    "np.testing.assert_almost_equal(phi(1.5,0.5,1)/np.pi,0.25)\n",
    "np.testing.assert_almost_equal(phi(0.5,0.5,1)/np.pi,0.0)\n",
    "I_C=np.arange(-.5,np.pi,.01)\n",
    "plt.figure(figsize=[6,4])\n",
    "ax=plt.subplot(111)\n",
    "plt.plot(phi(I_C,0.5,1)/np.pi,I_C, label='Exact phase for b=0.5')\n",
    "plt.plot((I_C-0.5)/np.pi,I_C,'-.', label=\"Linear fit)\")# N'Diaye et al Eq. (11\n",
    "\n",
    "plt.xlabel(\"Phase error (in rad)\")\n",
    "plt.ylabel(\"Normalized Exit pupil intensity\")\n",
    "#plt.title(\"\")\n",
    "plt.legend()\n",
    "plt.xlim([-0.25,.8])\n",
    "ax.set_xticklabels([str(tick) +\"$\\pi$\" for tick in ax.get_xticks()])\n",
    "plt.savefig(\"figs/I_vs_phase.pdf\",bbox_inches=\"tight\")\n",
    "\n"
   ]
  },
  {
   "cell_type": "code",
   "execution_count": null,
   "metadata": {
    "collapsed": true
   },
   "outputs": [],
   "source": []
  },
  {
   "cell_type": "code",
   "execution_count": 41,
   "metadata": {},
   "outputs": [
    {
     "name": "stdout",
     "output_type": "stream",
     "text": [
      "initing\n",
      "0.6020348973342008 nm s(1/2) / min(1/2)\n"
     ]
    },
    {
     "data": {
      "image/png": "[encoded data removed]",
      "text/plain": [
       "<Figure size 288x216 with 1 Axes>"
      ]
     },
     "metadata": {
      "needs_background": "light"
     },
     "output_type": "display_data"
    }
   ],
   "source": [
    "link=lgs.link(tx_divergence=10*u.arcsec,\n",
    "                tx_laser_power=1*u.watt,\n",
    "              tx_wavel=wavelength,\n",
    "              tx_rx_separation=tx_rx_separation)\n",
    "incident = np.median(link.rx_phot_sec)\n",
    "\n",
    "mpl.rcParams['font.size'] = 14\n",
    "#just using same sampling as Jared, is this realistic?\n",
    "#phot_per_pix = seg_incident/seg_pixels\n",
    "def wfe_per_photon(photons,wavel):\n",
    "    return np.sqrt((0.5*u.photon/photons))*wavel/(2*np.pi)\n",
    "mag=np.arange(-5,10)\n",
    "wfe_mag_KHz=(wfe_per_photon(efficiency*lgs.zero_mag_Vband*seg_area/sample_freq*10**(-mag/2.5),link.tx_wavel)).to(u.pm)\n",
    "wfe_mag_0_01hz=(wfe_per_photon(efficiency*lgs.zero_mag_Vband*seg_area/(.01*u.hertz)*10**(-mag/2.5),link.tx_wavel)).to(u.pm)\n",
    "wfe_mag_sec=(wfe_per_photon(efficiency*lgs.zero_mag_Vband*seg_area/(1/u.second)*10**(-mag/2.5),link.tx_wavel)).to(u.pm)\n",
    "wfe_mag_0_0001hz=(wfe_per_photon(efficiency*lgs.zero_mag_Vband*seg_area/(.0001*u.hertz)*10**(-mag/2.5),link.tx_wavel)).to(u.pm)\n",
    "\n",
    "\n",
    "\n",
    "plt.figure(figsize=[4,3])\n",
    "plt.plot(mag,wfe_mag_KHz,label='1 KHz')\n",
    "\n",
    "plt.plot(mag,wfe_mag_sec,'-.',label='1 Hz')\n",
    "\n",
    "#plt.plot(mag,wfe_mag_0_01hz,\"--\",label='0.01Hz')\n",
    "plt.plot(mag,wfe_mag_0_0001hz,\"--\",label='0.001Hz')\n",
    "\n",
    "\n",
    "plt.fill_between(mag,np.ones(mag.size)*10,np.ones(mag.size)*2000,alpha=0.25,color=\"gray\")\n",
    "#(10,mag[0],10,mag[-1])\n",
    "\n",
    "\n",
    "plt.legend(fontsize=12)\n",
    "plt.ylabel(\"WFE per segment [\"+str(wfe_mag_KHz.unit)+\"]\")\n",
    "#plt.ylabel(mag.unit)\n",
    "#plt.ylim([10,1000])\n",
    "plt.yscale(\"log\")\n",
    "print(wfe_sigma_pix)\n",
    "plt.xlim([mag[0],mag[-1]])\n",
    "plt.ylim([1e-2,1e3])\n",
    "\n",
    "\n",
    "plt.xlabel(\"V-band mag\")\n",
    "plt.savefig(\"figs/WFE_vs_Vmag.pdf\",bbox_inches=\"tight\")"
   ]
  },
  {
   "cell_type": "markdown",
   "metadata": {},
   "source": [
    "## Earth flux ratio calculation"
   ]
  },
  {
   "cell_type": "code",
   "execution_count": 42,
   "metadata": {},
   "outputs": [
    {
     "data": {
      "text/latex": [
       "$1.1572094 \\times 10^{-10} \\; \\mathrm{}$"
      ],
      "text/plain": [
       "<Quantity 1.15720938e-10>"
      ]
     },
     "execution_count": 42,
     "metadata": {},
     "output_type": "execute_result"
    }
   ],
   "source": [
    "p=0.2/np.pi#Robinson 2014\n",
    "rp=1*u.R_earth\n",
    "a=1*u.astronomical_unit\n",
    "C_earth=p*(rp/a)**2\n",
    "C_earth.decompose()\n"
   ]
  },
  {
   "cell_type": "code",
   "execution_count": 43,
   "metadata": {
    "scrolled": true
   },
   "outputs": [
    {
     "name": "stdout",
     "output_type": "stream",
     "text": [
      "Downloading http://exoplanetarchive.ipac.caltech.edu/cgi-bin/nstedAPI/nph-nstedAPI?table=missionstars&format=votable&select=* [Done]\n"
     ]
    },
    {
     "name": "stderr",
     "output_type": "stream",
     "text": [
      "WARNING: W13: /var/folders/zv/2nj6tsrj4l53xsh73nmsn7480000gn/T/tmpoct1363b:6:0: W13: 'char' is not a valid VOTable datatype, should be 'unicodeChar' [astropy.io.votable.tree]\n",
      "WARNING:astropy:W13: /var/folders/zv/2nj6tsrj4l53xsh73nmsn7480000gn/T/tmpoct1363b:6:0: W13: 'char' is not a valid VOTable datatype, should be 'unicodeChar'\n",
      "WARNING: W13: /var/folders/zv/2nj6tsrj4l53xsh73nmsn7480000gn/T/tmpoct1363b:7:0: W13: 'char' is not a valid VOTable datatype, should be 'unicodeChar' [astropy.io.votable.tree]\n",
      "WARNING:astropy:W13: /var/folders/zv/2nj6tsrj4l53xsh73nmsn7480000gn/T/tmpoct1363b:7:0: W13: 'char' is not a valid VOTable datatype, should be 'unicodeChar'\n",
      "WARNING: W03: /var/folders/zv/2nj6tsrj4l53xsh73nmsn7480000gn/T/tmpoct1363b:8:0: W03: Implicitly generating an ID from a name 'For detailed descriptions of the columns, go to http://exoplanetarchive.ipac.caltech.edu/docs/documentation.html and choose the appropriate table guide.' -> 'For_detailed_descriptions_of_the_columns__go_to_http___exoplanetarchive.ipac.caltech.edu_docs_documentation.html_and_choose_the_appropriate_table_guide.' [astropy.io.votable.xmlutil]\n",
      "WARNING:astropy:W03: /var/folders/zv/2nj6tsrj4l53xsh73nmsn7480000gn/T/tmpoct1363b:8:0: W03: Implicitly generating an ID from a name 'For detailed descriptions of the columns, go to http://exoplanetarchive.ipac.caltech.edu/docs/documentation.html and choose the appropriate table guide.' -> 'For_detailed_descriptions_of_the_columns__go_to_http___exoplanetarchive.ipac.caltech.edu_docs_documentation.html_and_choose_the_appropriate_table_guide.'\n",
      "WARNING: W13: /var/folders/zv/2nj6tsrj4l53xsh73nmsn7480000gn/T/tmpoct1363b:8:0: W13: 'char' is not a valid VOTable datatype, should be 'unicodeChar' [astropy.io.votable.tree]\n",
      "WARNING:astropy:W13: /var/folders/zv/2nj6tsrj4l53xsh73nmsn7480000gn/T/tmpoct1363b:8:0: W13: 'char' is not a valid VOTable datatype, should be 'unicodeChar'\n",
      "WARNING: W13: /var/folders/zv/2nj6tsrj4l53xsh73nmsn7480000gn/T/tmpoct1363b:10:0: W13: 'char' is not a valid VOTable datatype, should be 'unicodeChar' [astropy.io.votable.tree]\n",
      "WARNING:astropy:W13: /var/folders/zv/2nj6tsrj4l53xsh73nmsn7480000gn/T/tmpoct1363b:10:0: W13: 'char' is not a valid VOTable datatype, should be 'unicodeChar'\n",
      "WARNING: W13: /var/folders/zv/2nj6tsrj4l53xsh73nmsn7480000gn/T/tmpoct1363b:11:0: W13: 'char' is not a valid VOTable datatype, should be 'unicodeChar' [astropy.io.votable.tree]\n",
      "WARNING:astropy:W13: /var/folders/zv/2nj6tsrj4l53xsh73nmsn7480000gn/T/tmpoct1363b:11:0: W13: 'char' is not a valid VOTable datatype, should be 'unicodeChar'\n",
      "WARNING: W13: /var/folders/zv/2nj6tsrj4l53xsh73nmsn7480000gn/T/tmpoct1363b:12:0: W13: 'char' is not a valid VOTable datatype, should be 'unicodeChar' [astropy.io.votable.tree]\n",
      "WARNING:astropy:W13: /var/folders/zv/2nj6tsrj4l53xsh73nmsn7480000gn/T/tmpoct1363b:12:0: W13: 'char' is not a valid VOTable datatype, should be 'unicodeChar'\n",
      "WARNING: W13: /var/folders/zv/2nj6tsrj4l53xsh73nmsn7480000gn/T/tmpoct1363b:13:0: W13: 'char' is not a valid VOTable datatype, should be 'unicodeChar' [astropy.io.votable.tree]\n",
      "WARNING:astropy:W13: /var/folders/zv/2nj6tsrj4l53xsh73nmsn7480000gn/T/tmpoct1363b:13:0: W13: 'char' is not a valid VOTable datatype, should be 'unicodeChar'\n",
      "WARNING: W13: /var/folders/zv/2nj6tsrj4l53xsh73nmsn7480000gn/T/tmpoct1363b:24:0: W13: 'char' is not a valid VOTable datatype, should be 'unicodeChar' [astropy.io.votable.tree]\n",
      "WARNING:astropy:W13: /var/folders/zv/2nj6tsrj4l53xsh73nmsn7480000gn/T/tmpoct1363b:24:0: W13: 'char' is not a valid VOTable datatype, should be 'unicodeChar'\n",
      "WARNING: W50: /var/folders/zv/2nj6tsrj4l53xsh73nmsn7480000gn/T/tmpoct1363b:26:0: W50: Invalid unit string 'mags' [astropy.io.votable.tree]\n",
      "WARNING:astropy:W50: /var/folders/zv/2nj6tsrj4l53xsh73nmsn7480000gn/T/tmpoct1363b:26:0: W50: Invalid unit string 'mags'\n",
      "WARNING: W50: /var/folders/zv/2nj6tsrj4l53xsh73nmsn7480000gn/T/tmpoct1363b:28:0: W50: Invalid unit string 'degrees' [astropy.io.votable.tree]\n",
      "WARNING:astropy:W50: /var/folders/zv/2nj6tsrj4l53xsh73nmsn7480000gn/T/tmpoct1363b:28:0: W50: Invalid unit string 'degrees'\n",
      "WARNING: W13: /var/folders/zv/2nj6tsrj4l53xsh73nmsn7480000gn/T/tmpoct1363b:29:0: W13: 'char' is not a valid VOTable datatype, should be 'unicodeChar' [astropy.io.votable.tree]\n",
      "WARNING:astropy:W13: /var/folders/zv/2nj6tsrj4l53xsh73nmsn7480000gn/T/tmpoct1363b:29:0: W13: 'char' is not a valid VOTable datatype, should be 'unicodeChar'\n",
      "WARNING: W50: /var/folders/zv/2nj6tsrj4l53xsh73nmsn7480000gn/T/tmpoct1363b:31:0: W50: Invalid unit string 'degrees' [astropy.io.votable.tree]\n",
      "WARNING:astropy:W50: /var/folders/zv/2nj6tsrj4l53xsh73nmsn7480000gn/T/tmpoct1363b:31:0: W50: Invalid unit string 'degrees'\n",
      "WARNING: W13: /var/folders/zv/2nj6tsrj4l53xsh73nmsn7480000gn/T/tmpoct1363b:32:0: W13: 'char' is not a valid VOTable datatype, should be 'unicodeChar' (suppressing further warnings of this type...) [astropy.io.votable.tree]\n",
      "WARNING:astropy:W13: /var/folders/zv/2nj6tsrj4l53xsh73nmsn7480000gn/T/tmpoct1363b:32:0: W13: 'char' is not a valid VOTable datatype, should be 'unicodeChar' (suppressing further warnings of this type...)\n",
      "WARNING: W50: /var/folders/zv/2nj6tsrj4l53xsh73nmsn7480000gn/T/tmpoct1363b:33:0: W50: Invalid unit string 'degrees' [astropy.io.votable.tree]\n",
      "WARNING:astropy:W50: /var/folders/zv/2nj6tsrj4l53xsh73nmsn7480000gn/T/tmpoct1363b:33:0: W50: Invalid unit string 'degrees'\n",
      "WARNING: W50: /var/folders/zv/2nj6tsrj4l53xsh73nmsn7480000gn/T/tmpoct1363b:34:0: W50: Invalid unit string 'degrees' [astropy.io.votable.tree]\n",
      "WARNING:astropy:W50: /var/folders/zv/2nj6tsrj4l53xsh73nmsn7480000gn/T/tmpoct1363b:34:0: W50: Invalid unit string 'degrees'\n",
      "WARNING: W50: /var/folders/zv/2nj6tsrj4l53xsh73nmsn7480000gn/T/tmpoct1363b:35:0: W50: Invalid unit string 'degrees' [astropy.io.votable.tree]\n",
      "WARNING:astropy:W50: /var/folders/zv/2nj6tsrj4l53xsh73nmsn7480000gn/T/tmpoct1363b:35:0: W50: Invalid unit string 'degrees'\n",
      "WARNING: W50: /var/folders/zv/2nj6tsrj4l53xsh73nmsn7480000gn/T/tmpoct1363b:36:0: W50: Invalid unit string 'degrees' [astropy.io.votable.tree]\n",
      "WARNING:astropy:W50: /var/folders/zv/2nj6tsrj4l53xsh73nmsn7480000gn/T/tmpoct1363b:36:0: W50: Invalid unit string 'degrees'\n",
      "WARNING: W50: /var/folders/zv/2nj6tsrj4l53xsh73nmsn7480000gn/T/tmpoct1363b:45:0: W50: Invalid unit string 'mags' [astropy.io.votable.tree]\n",
      "WARNING:astropy:W50: /var/folders/zv/2nj6tsrj4l53xsh73nmsn7480000gn/T/tmpoct1363b:45:0: W50: Invalid unit string 'mags'\n",
      "WARNING: W50: /var/folders/zv/2nj6tsrj4l53xsh73nmsn7480000gn/T/tmpoct1363b:46:0: W50: Invalid unit string 'mags' [astropy.io.votable.tree]\n",
      "WARNING:astropy:W50: /var/folders/zv/2nj6tsrj4l53xsh73nmsn7480000gn/T/tmpoct1363b:46:0: W50: Invalid unit string 'mags'\n",
      "WARNING: W50: /var/folders/zv/2nj6tsrj4l53xsh73nmsn7480000gn/T/tmpoct1363b:49:0: W50: Invalid unit string 'mags' (suppressing further warnings of this type...) [astropy.io.votable.tree]\n",
      "WARNING:astropy:W50: /var/folders/zv/2nj6tsrj4l53xsh73nmsn7480000gn/T/tmpoct1363b:49:0: W50: Invalid unit string 'mags' (suppressing further warnings of this type...)\n"
     ]
    }
   ],
   "source": [
    "exoarch_mission = \"http://exoplanetarchive.ipac.caltech.edu/cgi-bin/nstedAPI/nph-nstedAPI?table=missionstars&format=votable&select=*\"\n",
    "\n",
    "exoarch_missionraw = astropy.utils.data.download_file(exoarch_mission, \n",
    "                                                        cache=False,\n",
    "                                                        show_progress=True,\n",
    "                                                        timeout=10)\n",
    "exoarch_mission = votab.parse(exoarch_missionraw,datatype_mapping={\"char\": \"unicodeChar\"}).get_first_table().to_table()"
   ]
  },
  {
   "cell_type": "code",
   "execution_count": 44,
   "metadata": {
    "scrolled": true
   },
   "outputs": [
    {
     "name": "stderr",
     "output_type": "stream",
     "text": [
      "/Users/edouglas/anaconda/envs/astroconda/lib/python3.6/site-packages/astropy/table/column.py:965: RuntimeWarning: invalid value encountered in less\n",
      "  return getattr(self.data, op)(other)\n"
     ]
    },
    {
     "data": {
      "image/png": "[encoded data removed]",
      "text/plain": [
       "<Figure size 576x360 with 4 Axes>"
      ]
     },
     "metadata": {
      "needs_background": "light"
     },
     "output_type": "display_data"
    }
   ],
   "source": [
    "sel=exoarch_mission[\"st_eeidmas\"] \n",
    "\n",
    "plt.rcParams[\"font.size\"]=11\n",
    "\n",
    "Vrecon=recons2012[ 'V'][np.isfinite(recons2012[ 'V'])]\n",
    "V_exocat=exocat_stars[\"st_vmag\"][np.isfinite(exocat_stars[\"st_vmag\"])]\n",
    "V_mission=mission_stars[\"st_vmag\"][np.isfinite(mission_stars[\"st_vmag\"])]\n",
    "\n",
    "#grid=plt.jointplot(exoarch_mission[\"st_vmag\"][sel],exoarch_mission[\"st_eeidmas\"][sel],alpha=.3)#,linewidth=3)\n",
    "#ax=grid.ax_joint\n",
    "a=exocat_stars[\"st_eeidmas\"]*exocat_stars[\"st_dist\"]/(206265*1000)*(1.0*u.parsec).to(u.astronomical_unit)\n",
    "C=p*(rp.to(u.astronomical_unit).value/a)**2\n",
    "a_mision=exoarch_mission[\"st_eeidmas\"]*exoarch_mission[\"st_dist\"]/(206265*1000)*(1.0*u.parsec).to(u.astronomical_unit)\n",
    "C_mission=p*(rp.to(u.astronomical_unit).value/a_mision)**2\n",
    "\n",
    "plt.figure(figsize=[8,5])\n",
    "ax=plt.subplot(121)\n",
    "\n",
    "sel=exocat_stars[\"st_teff\"]<10000\n",
    "sel_exomission=exoarch_mission[\"st_teff\"]<10000\n",
    "\n",
    "\n",
    "scat=ax.scatter(C[sel],exocat_stars[\"st_vmag\"][:][sel],c=np.array(exocat_stars[\"st_teff\"])[sel],\n",
    "                cmap=plt.cm.plasma,\n",
    "                alpha=0.7,\n",
    "                s=3,\n",
    "          label=\" Stars' Earth-Equivalent Insolation\")#,linewidth=3)\n",
    "          #,linewidth=3)\n",
    "scat_mission=ax.scatter(C_mission[sel_exomission],exoarch_mission[\"st_vmag\"][:][sel_exomission],\n",
    "                     #   c=np.array(exoarch_mission[\"st_teff\"])[sel_exomission],\n",
    "                cmap=plt.cm.plasma,\n",
    "                alpha=0.6,\n",
    "                s=10,\n",
    "                marker=\"o\",\n",
    "                        facecolors='none', \n",
    "                         edgecolors='black',\n",
    "          label=\" Stars' Earth-Equivalent Insolation\")#,linewidth=3)\n",
    "          #,linewidth=3)\n",
    "ax.set_xlabel(r\"$\\zeta_\\oplus$\")\n",
    "ax.set_xscale(\"log\")\n",
    "ax.set_xlim(1e-13,C[sel].max())\n",
    "ax.set_yticks([1,2, 3,4, 5,6,7,8,9])\n",
    "\n",
    "\n",
    "\n",
    "ax.set_ylabel(\"V-Mag\")\n",
    "ains = inset_axes(plt.gca(), width='5%', height='60%', loc=2)\n",
    "ax.set_ylim([-1,10.3])\n",
    "ax.set_ylabel(r\"$m_{\\rmV}$\")\n",
    "cb=plt.colorbar(scat,orientation=\"vertical\",cax=ains,label=r\"$T_{eff}$ [K]\")\n",
    "cb.ax.tick_params(labelsize=10)\n",
    "#cb.set_ticklabels(np.round(10**(cb.get_ticks())))\n",
    "\n",
    "ax.scatter(C_earth.decompose(),4.83,s=500,color='blue',marker='$\\oplus$')\n",
    "#plt.scatter?\n",
    "\n",
    "ax1=plt.subplot(122)\n",
    "reconshist=plt.hist(Vrecon,alpha=0.5,cumulative=True,histtype='step',\n",
    "         #bins=np.arange(1,10,1),\n",
    "                  bins=mags,align='mid',\n",
    "                    orientation=\"horizontal\",\n",
    "    linestyle=\"-.\",\n",
    "         label=\"RECONS 100 closest\")#recons2012.keys()\n",
    "#'''\n",
    "exocathist=plt.hist(V_exocat,alpha=0.8,cumulative=True,#markersize=5,\n",
    "         color='orange',\n",
    "                    histtype='step',\n",
    "                    linewidth=2,\n",
    "                    orientation=\"horizontal\",\n",
    "                    label=\"ExoCat-1\",\n",
    "                  bins=mags,align='mid',)\n",
    "exocathist_mission=plt.hist(V_mission,alpha=0.8,cumulative=True,#markersize=5,\n",
    "         color='black',\n",
    "                    histtype='step',\n",
    "                    linewidth=2,\n",
    "                    orientation=\"horizontal\",\n",
    "                    label=\"Mission Targets\",\n",
    "                  bins=mags,align='mid',)\n",
    "\n",
    "\n",
    "\n",
    "xy = (0.2, 0.2)\n",
    "from matplotlib.patches import ConnectionPatch\n",
    "\n",
    "\n",
    "ax1.set_xlim([0,ax1.get_yticks()[-1]])\n",
    "ax1.set_ylim(ax.get_ylim())\n",
    "ax1.set_yticks([])\n",
    "ax1.set_xticks([0,500, 1000, 1500])\n",
    "\n",
    "\n",
    "\n",
    "ax1.set_xlabel(\"Cumulative Stars\")\n",
    "ax1_twin=ax1.twinx()\n",
    "\n",
    "\n",
    "ax1_twin.set_frame_on(False)\n",
    "#ax1_twin_top.set_frame_on(False)\n",
    "\n",
    "\n",
    "ax1_twin.set_ylim(ax.get_ylim())\n",
    "#ax1_twin.set_yticks(ax.et_yticks())\n",
    "plt.draw()\n",
    "ax1_twin.set_yticks(ax.get_yticks())\n",
    "#ax1_twin_top.set_xticks()\n",
    "\n",
    "ax1_twin.set_yticklabels(ax.get_yticklabels(which='both'))\n",
    "\n",
    "\n",
    "ax1.set_xlim([-10,exocathist[0][np.where(exocathist[1]==10)]])\n",
    "ax1.set_yticklabels(\"\")\n",
    "ax1_twin.set_ylabel(r\"$m_{\\rmV}$\")\n",
    "\n",
    "\n",
    "\n",
    "#ax1_twin_top=ax1.twiny()\n",
    "ax1.set_xticks([exocathist[0][np.where(exocathist[1]==2)], #1000,\n",
    "                exocathist[0][np.where(exocathist[1]==4)], #1000,\n",
    "\n",
    "                exocathist[0][np.where(exocathist[1]==5)], #1000,\n",
    "\n",
    "                exocathist[0][np.where(exocathist[1]==7)], #1000,\n",
    "                exocathist[0][np.where(exocathist[1]==10)]])\n",
    "#ax1_twin_top.grid()\n",
    "ax1_twin.grid()\n",
    "ax1.grid()\n",
    "#ax1.grid?\n",
    "ax.grid(axis=\"y\")\n",
    "\n",
    "plt.subplots_adjust(wspace=0, hspace=0)\n",
    "\n",
    "#plt.tight_layout()\n",
    "\n",
    "turn_off_axes=[\"top\",\"bottom\",\"right\",]\n",
    "for spine in turn_off_axes:\n",
    "    ax1.spines[spine].set_visible(False)\n",
    "    ax.spines[spine].set_visible(False)\n",
    "    ax1_twin.spines[spine].set_visible(False)\n",
    "    #ax1_twin_top.spines[spine].set_visible(False)\n",
    "\n",
    "\n",
    "ax1.legend(loc=\"lower right\",fontsize=9)\n",
    "plt.savefig(\"figs/vmag_vs_V_cumulative.pdf\",bbox_inches=\"tight\")"
   ]
  },
  {
   "cell_type": "code",
   "execution_count": 45,
   "metadata": {
    "scrolled": false
   },
   "outputs": [
    {
     "data": {
      "text/html": [
       "<i>Table masked=True length=7</i>\n",
       "<table id=\"table112427116920\" class=\"table-striped table-bordered table-condensed\">\n",
       "<thead><tr><th>hip_name</th><th>hd_name</th><th>gj_name</th><th>tm_name</th><th>st_exocatflag</th><th>st_coronagflag</th><th>st_starshadeflag</th><th>st_wfirstflag</th><th>st_rvflag</th><th>st_lbtiflag</th><th>st_probeflag</th><th>st_k2flag</th><th>st_k2campaign</th><th>st_ppnum</th><th>wds_designation</th><th>wds_sep</th><th>wds_deltamag</th><th>ra</th><th>raerr</th><th>rastr</th><th>dec</th><th>decerr</th><th>decstr</th><th>st_glon</th><th>st_glonerr</th><th>st_glat</th><th>st_glaterr</th><th>st_fracplxunc</th><th>st_dist</th><th>st_disterr1</th><th>st_disterr2</th><th>st_pmra</th><th>st_pmraerr</th><th>st_pmdec</th><th>st_pmdecerr</th><th>st_vmag</th><th>st_vmagerr</th><th>st_vmagsrc</th><th>st_kmagsrc</th><th>st_bmv</th><th>st_bmverr</th><th>st_bmvsrc</th><th>st_vmk</th><th>st_vmkerr</th><th>st_vmksrc</th><th>st_spttype</th><th>st_lumclass</th><th>st_spttag</th><th>st_mbol</th><th>st_mbolerr</th><th>st_mbolsrc</th><th>st_mbolflag</th><th>st_lbol</th><th>st_lbolerr</th><th>st_lbolsrc</th><th>st_teff</th><th>st_tefferr</th><th>st_teffsrc</th><th>st_logg</th><th>st_loggerr</th><th>st_loggsrc</th><th>st_metfe</th><th>st_metfeerr</th><th>st_metfesrc</th><th>st_metratio</th><th>st_rad</th><th>st_raderr</th><th>st_radsrc</th><th>st_mass</th><th>st_masserr</th><th>st_masssrc</th><th>st_age</th><th>st_ageerr</th><th>st_agesrc</th><th>st_actclass</th><th>st_eeidau</th><th>st_eeidauerr</th><th>st_eeidmas</th><th>st_eeidmaserr</th><th>st_fpbearth</th><th>st_fpbeartherr</th><th>st_vmagearth</th><th>st_vmageartherr</th><th>st_nts</th><th>st_nplc</th><th>st_nglc</th><th>st_nrvc</th><th>st_naxa</th><th>st_nimg</th><th>st_nspec</th><th>st_j2m</th><th>st_j2merr</th><th>st_j2mlim</th><th>st_h2m</th><th>st_h2merr</th><th>st_h2mlim</th><th>st_ks2m</th><th>st_ks2merr</th><th>st_ks2mlim</th><th>st_wise1</th><th>st_wise1err</th><th>st_wise1lim</th><th>st_wise2</th><th>st_wise2err</th><th>st_wise2lim</th><th>st_wise3</th><th>st_wise3err</th><th>st_wise3lim</th><th>st_wise4</th><th>st_wise4err</th><th>st_wise4lim</th><th>star_name</th><th>id</th></tr></thead>\n",
       "<thead><tr><th></th><th></th><th></th><th></th><th></th><th></th><th></th><th></th><th></th><th></th><th></th><th></th><th></th><th></th><th></th><th>arcs</th><th>mags</th><th>deg</th><th>degrees</th><th></th><th>deg</th><th>degrees</th><th></th><th>degrees</th><th>degrees</th><th>degrees</th><th>degrees</th><th></th><th>pc</th><th>pc</th><th>pc</th><th>mas / yr</th><th>mas / yr</th><th>mas / yr</th><th>mas / yr</th><th>mags</th><th>mags</th><th></th><th></th><th>mags</th><th>mags</th><th></th><th>mags</th><th>mags</th><th></th><th></th><th></th><th></th><th>mags</th><th>mags</th><th></th><th></th><th>Lsun</th><th>Lsun</th><th></th><th>K</th><th>K</th><th></th><th>cm/s**2</th><th>cm/s**2</th><th></th><th>dex</th><th>dex</th><th></th><th></th><th>Rsun</th><th>Rsun</th><th></th><th>Msun</th><th>Msun</th><th></th><th>Gyr</th><th>Gyr</th><th></th><th></th><th>AU</th><th>AU</th><th>mas</th><th>mas</th><th></th><th></th><th>mag</th><th>mag</th><th></th><th></th><th></th><th></th><th></th><th></th><th></th><th>mags</th><th>mags</th><th></th><th>mags</th><th>mags</th><th></th><th>mags</th><th>mags</th><th></th><th>mags</th><th>mags</th><th></th><th>mags</th><th>mags</th><th></th><th>mags</th><th>mags</th><th></th><th>mags</th><th>mags</th><th></th><th></th><th></th></tr></thead>\n",
       "<thead><tr><th>object</th><th>object</th><th>object</th><th>object</th><th>int32</th><th>int32</th><th>int32</th><th>int32</th><th>int32</th><th>int32</th><th>int32</th><th>int32</th><th>int32</th><th>int32</th><th>object</th><th>float64</th><th>float64</th><th>float64</th><th>float64</th><th>object</th><th>float64</th><th>float64</th><th>object</th><th>float64</th><th>float64</th><th>float64</th><th>float64</th><th>float64</th><th>float64</th><th>float64</th><th>float64</th><th>float64</th><th>float64</th><th>float64</th><th>float64</th><th>float64</th><th>float64</th><th>object</th><th>object</th><th>float64</th><th>float64</th><th>object</th><th>float64</th><th>float64</th><th>object</th><th>object</th><th>object</th><th>object</th><th>float64</th><th>float64</th><th>object</th><th>int32</th><th>float64</th><th>float64</th><th>object</th><th>float64</th><th>float64</th><th>object</th><th>float64</th><th>float64</th><th>object</th><th>float64</th><th>float64</th><th>object</th><th>object</th><th>float64</th><th>float64</th><th>object</th><th>float64</th><th>float64</th><th>object</th><th>float64</th><th>float64</th><th>object</th><th>object</th><th>float64</th><th>float64</th><th>float64</th><th>float64</th><th>float64</th><th>float64</th><th>float64</th><th>float64</th><th>object</th><th>object</th><th>object</th><th>object</th><th>object</th><th>object</th><th>object</th><th>float64</th><th>float64</th><th>int32</th><th>float64</th><th>float64</th><th>int32</th><th>float64</th><th>float64</th><th>int32</th><th>float64</th><th>float64</th><th>int32</th><th>float64</th><th>float64</th><th>int32</th><th>float64</th><th>float64</th><th>int32</th><th>float64</th><th>float64</th><th>int32</th><th>object</th><th>object</th></tr></thead>\n",
       "<tr><td>HIP 32349</td><td>HD 48915</td><td>GJ 244 A</td><td>2MASS J06450887-1642566 A</td><td>1</td><td>1</td><td>1</td><td>0</td><td>0</td><td>0</td><td>1</td><td>0</td><td>--</td><td>0</td><td>06451-1643</td><td>--</td><td>--</td><td>101.289</td><td>--</td><td>06h45m09.25s</td><td>-16.713</td><td>--</td><td>-16d42m47.3s</td><td>227.228206</td><td>--</td><td>-8.887735</td><td>--</td><td>0.0</td><td>2.63</td><td>--</td><td>--</td><td>-546.0</td><td>--</td><td>-1223.1</td><td>--</td><td>-1.44</td><td>0.0</td><td>G</td><td>Koornneef</td><td>0.01</td><td>0.01</td><td>G</td><td>-0.05</td><td>0.05</td><td></td><td>A1.0V</td><td>MAINSEQ</td><td>A</td><td>1.46</td><td>0.01</td><td></td><td>0</td><td>30.48</td><td>0.05</td><td>V-K</td><td>9580.0</td><td>--</td><td>Gray</td><td>4.2</td><td>--</td><td>Gray</td><td>--</td><td>--</td><td></td><td></td><td>2.0</td><td>--</td><td>Turnbull</td><td>2.4</td><td>--</td><td>Turnbull</td><td>--</td><td>--</td><td></td><td></td><td>5.52</td><td>--</td><td>2098.14</td><td>--</td><td>0.0</td><td>--</td><td>27.11</td><td>--</td><td>1</td><td>0</td><td>1</td><td>0</td><td>0</td><td>2</td><td>0</td><td>-1.391</td><td>0.109</td><td>0</td><td>-1.391</td><td>0.184</td><td>0</td><td>-1.39</td><td>0.214</td><td>0</td><td>--</td><td>--</td><td>--</td><td>--</td><td>--</td><td>--</td><td>--</td><td>--</td><td>--</td><td>--</td><td>--</td><td>--</td><td>HIP 32349</td><td>663</td></tr>\n",
       "<tr><td>HIP 54035</td><td>HD 95735</td><td>GJ 411</td><td>2MASS J11032027+3558203</td><td>1</td><td>0</td><td>0</td><td>0</td><td>0</td><td>0</td><td>0</td><td>0</td><td>--</td><td>0</td><td></td><td>--</td><td>--</td><td>165.836</td><td>--</td><td>11h03m20.61s</td><td>35.981</td><td>--</td><td>+35d58m53.3s</td><td>185.090646</td><td>--</td><td>65.430293</td><td>--</td><td>0.0</td><td>2.54</td><td>--</td><td>--</td><td>-580.2</td><td>--</td><td>-4767.1</td><td>--</td><td>7.49</td><td>0.01</td><td>G</td><td></td><td>1.5</td><td>0.01</td><td>G</td><td>--</td><td>--</td><td></td><td>M2.0V</td><td>MAINSEQ</td><td>M</td><td>10.46</td><td>0.02</td><td></td><td>0</td><td>0.02</td><td>0.1</td><td>B-V</td><td>3611.0</td><td>--</td><td>B-V</td><td>--</td><td>--</td><td></td><td>--</td><td>--</td><td></td><td></td><td>0.4</td><td>--</td><td>Turnbull</td><td>0.39</td><td>--</td><td>Turnbull</td><td>--</td><td>--</td><td></td><td></td><td>0.16</td><td>--</td><td>61.72</td><td>--</td><td>0.0</td><td>--</td><td>28.31</td><td>--</td><td>1</td><td>0</td><td>1</td><td>0</td><td>0</td><td>3</td><td>11</td><td>4.32</td><td>0.282</td><td>0</td><td>3.722</td><td>0.224</td><td>0</td><td>3.501</td><td>0.352</td><td>0</td><td>--</td><td>--</td><td>--</td><td>--</td><td>--</td><td>--</td><td>--</td><td>--</td><td>--</td><td>--</td><td>--</td><td>--</td><td>HIP 54035</td><td>1044</td></tr>\n",
       "<tr><td>HIP 70890</td><td></td><td>GJ 551</td><td>2MASS J14294291-6240465</td><td>1</td><td>0</td><td>0</td><td>0</td><td>0</td><td>0</td><td>0</td><td>0</td><td>--</td><td>0</td><td></td><td>--</td><td>--</td><td>217.449</td><td>--</td><td>14h29m47.75s</td><td>-62.681</td><td>--</td><td>-62d40m52.9s</td><td>313.947714</td><td>--</td><td>-1.932215</td><td>--</td><td>0.0</td><td>1.3</td><td>--</td><td>--</td><td>-3775.6</td><td>--</td><td>768.2</td><td>--</td><td>11.01</td><td>0.01</td><td>G</td><td></td><td>1.81</td><td>0.02</td><td>G</td><td>--</td><td>--</td><td></td><td>M5.0V</td><td>MAINSEQ</td><td>M</td><td>15.44</td><td>0.02</td><td></td><td>0</td><td>0.0</td><td>0.1</td><td>B-V</td><td>--</td><td>--</td><td></td><td>--</td><td>--</td><td></td><td>--</td><td>--</td><td></td><td></td><td>--</td><td>--</td><td></td><td>0.16</td><td>--</td><td>Turnbull</td><td>--</td><td>--</td><td></td><td></td><td>0.03</td><td>--</td><td>22.5</td><td>--</td><td>0.0</td><td>--</td><td>28.18</td><td>--</td><td>1</td><td>0</td><td>1</td><td>0</td><td>0</td><td>2</td><td>0</td><td>5.357</td><td>0.023</td><td>0</td><td>4.835</td><td>0.057</td><td>0</td><td>4.384</td><td>0.033</td><td>0</td><td>--</td><td>--</td><td>--</td><td>--</td><td>--</td><td>--</td><td>--</td><td>--</td><td>--</td><td>--</td><td>--</td><td>--</td><td>HIP 70890</td><td>1393</td></tr>\n",
       "<tr><td>HIP 71681</td><td>HD 128621</td><td>GJ 559 B</td><td>2MASS J14393592-6050069 B</td><td>1</td><td>1</td><td>1</td><td>1</td><td>0</td><td>0</td><td>1</td><td>0</td><td>--</td><td>1</td><td>14396-6050</td><td>5.0</td><td>1.1</td><td>219.914</td><td>--</td><td>14h39m39.39s</td><td>-60.839</td><td>--</td><td>-60d50m22.1s</td><td>315.737332</td><td>--</td><td>-0.686979</td><td>--</td><td>0.0</td><td>1.34</td><td>--</td><td>--</td><td>-3600.3</td><td>--</td><td>952.1</td><td>--</td><td>1.35</td><td>0.01</td><td>G</td><td>Koornneef</td><td>0.9</td><td>0.02</td><td>G</td><td>1.98</td><td>0.05</td><td></td><td>K0V</td><td>MAINSEQ</td><td>K</td><td>5.72</td><td>0.02</td><td></td><td>0</td><td>0.52</td><td>0.05</td><td>V-K</td><td>5178.0</td><td>--</td><td>2005ApJS..159..141V</td><td>4.52</td><td>--</td><td>2007ApJS..168..297T</td><td>0.23</td><td>--</td><td></td><td>[Fe/H]</td><td>0.88</td><td>--</td><td>2007ApJS..168..297T</td><td>0.88</td><td>--</td><td>2007ApJS..168..297T</td><td>8.0</td><td>--</td><td>2005ApJS..159..141V</td><td></td><td>0.72</td><td>--</td><td>541.3</td><td>--</td><td>0.0</td><td>--</td><td>25.49</td><td>--</td><td>1</td><td>0</td><td>1</td><td>0</td><td>0</td><td>2</td><td>0</td><td>-1.454</td><td>0.133</td><td>0</td><td>-1.886</td><td>0.22</td><td>0</td><td>-2.008</td><td>0.26</td><td>0</td><td>0.443</td><td>--</td><td>-1</td><td>0.095</td><td>--</td><td>-1</td><td>-1.484</td><td>0.392</td><td>0</td><td>-1.794</td><td>0.002</td><td>0</td><td>alf Cen B</td><td>1408</td></tr>\n",
       "<tr><td>HIP 71683</td><td>HD 128620</td><td>GJ 559 A</td><td>2MASS J14393592-6050069 A</td><td>1</td><td>1</td><td>1</td><td>1</td><td>0</td><td>0</td><td>1</td><td>0</td><td>--</td><td>0</td><td>14396-6050</td><td>5.0</td><td>1.1</td><td>219.920</td><td>--</td><td>14h39m40.90s</td><td>-60.835</td><td>--</td><td>-60d50m06.5s</td><td>315.741882</td><td>--</td><td>-0.684264</td><td>--</td><td>0.0</td><td>1.34</td><td>--</td><td>--</td><td>-3678.2</td><td>--</td><td>481.8</td><td>--</td><td>-0.01</td><td>0.03</td><td>G</td><td>1981A&amp;AS...45....5E</td><td>0.71</td><td>0.04</td><td>G</td><td>1.47</td><td>0.06</td><td></td><td>G2.0V</td><td>MAINSEQ</td><td>G</td><td>4.36</td><td>0.03</td><td></td><td>0</td><td>1.61</td><td>0.07</td><td>V-K</td><td>5801.0</td><td>--</td><td>2005ApJS..159..141V</td><td>4.3</td><td>--</td><td>2007ApJS..168..297T</td><td>0.21</td><td>--</td><td></td><td>[Fe/H]</td><td>1.25</td><td>--</td><td>2007ApJS..168..297T</td><td>1.06</td><td>--</td><td>2007ApJS..168..297T</td><td>7.84</td><td>--</td><td>2007ApJS..168..297T</td><td>I</td><td>1.27</td><td>--</td><td>948.35</td><td>--</td><td>0.0</td><td>--</td><td>25.35</td><td>--</td><td>1</td><td>0</td><td>1</td><td>0</td><td>0</td><td>2</td><td>0</td><td>-1.454</td><td>0.133</td><td>0</td><td>-1.886</td><td>0.22</td><td>0</td><td>-2.008</td><td>0.26</td><td>0</td><td>--</td><td>--</td><td>--</td><td>--</td><td>--</td><td>--</td><td>--</td><td>--</td><td>--</td><td>--</td><td>--</td><td>--</td><td>HIP 71683</td><td>1409</td></tr>\n",
       "<tr><td>HIP 87937</td><td></td><td>GJ 699</td><td>2MASS J17574849+0441405</td><td>1</td><td>0</td><td>0</td><td>0</td><td>0</td><td>0</td><td>0</td><td>0</td><td>--</td><td>0</td><td></td><td>--</td><td>--</td><td>269.454</td><td>--</td><td>17h57m48.97s</td><td>4.668</td><td>--</td><td>+04d40m05.8s</td><td>30.986481</td><td>--</td><td>14.049693</td><td>--</td><td>0.0</td><td>1.83</td><td>--</td><td>--</td><td>-797.8</td><td>--</td><td>10326.9</td><td>--</td><td>9.51</td><td>0.01</td><td>Koen</td><td>2MASS</td><td>1.73</td><td>0.01</td><td>Koen</td><td>5.02</td><td>0.02</td><td></td><td>M3.5V</td><td>MAINSEQ</td><td>M</td><td>13.2</td><td>0.02</td><td></td><td>0</td><td>0.0</td><td>0.09</td><td>V-K</td><td>3271.0</td><td>--</td><td>V-K</td><td>--</td><td>--</td><td></td><td>--</td><td>--</td><td></td><td></td><td>0.19</td><td>--</td><td>Turnbull</td><td>0.24</td><td>--</td><td>Turnbull</td><td>--</td><td>--</td><td></td><td></td><td>0.06</td><td>--</td><td>33.14</td><td>--</td><td>0.0</td><td>--</td><td>28.27</td><td>--</td><td>1</td><td>0</td><td>1</td><td>0</td><td>0</td><td>3</td><td>6</td><td>5.244</td><td>0.02</td><td>0</td><td>4.834</td><td>0.034</td><td>0</td><td>4.524</td><td>0.02</td><td>0</td><td>--</td><td>--</td><td>--</td><td>--</td><td>--</td><td>--</td><td>--</td><td>--</td><td>--</td><td>--</td><td>--</td><td>--</td><td>HIP 87937</td><td>1751</td></tr>\n",
       "<tr><td>HIP 92403</td><td></td><td>GJ 729</td><td>2MASS J18494929-2350101</td><td>1</td><td>0</td><td>0</td><td>0</td><td>0</td><td>0</td><td>0</td><td>0</td><td>--</td><td>0</td><td></td><td>--</td><td>--</td><td>282.454</td><td>--</td><td>18h49m48.96s</td><td>-23.836</td><td>--</td><td>-23d50m08.8s</td><td>11.306903</td><td>--</td><td>-10.282852</td><td>--</td><td>0.0</td><td>2.97</td><td>--</td><td>--</td><td>637.5</td><td>--</td><td>-192.5</td><td>--</td><td>10.5</td><td>0.01</td><td>Koen</td><td>2MASS</td><td>1.74</td><td>0.01</td><td>Koen</td><td>5.24</td><td>0.36</td><td></td><td>M3.5 V</td><td>MAINSEQ</td><td>M</td><td>13.13</td><td>0.02</td><td></td><td>0</td><td>0.0</td><td>0.36</td><td>V-K</td><td>3199.0</td><td>--</td><td>V-K</td><td>--</td><td>--</td><td></td><td>--</td><td>--</td><td></td><td></td><td>0.22</td><td>--</td><td>Turnbull</td><td>0.25</td><td>--</td><td>Turnbull</td><td>--</td><td>--</td><td></td><td></td><td>0.07</td><td>--</td><td>22.48</td><td>--</td><td>0.0</td><td>--</td><td>29.46</td><td>--</td><td>1</td><td>0</td><td>1</td><td>0</td><td>0</td><td>2</td><td>0</td><td>6.222</td><td>0.018</td><td>0</td><td>5.655</td><td>0.034</td><td>0</td><td>5.37</td><td>0.016</td><td>0</td><td>--</td><td>--</td><td>--</td><td>--</td><td>--</td><td>--</td><td>--</td><td>--</td><td>--</td><td>--</td><td>--</td><td>--</td><td>HIP 92403</td><td>1825</td></tr>\n",
       "</table>"
      ],
      "text/plain": [
       "<Table masked=True length=7>\n",
       " hip_name  hd_name  gj_name  ... st_wise4lim star_name   id  \n",
       "                             ...                             \n",
       "  object    object   object  ...    int32      object  object\n",
       "--------- --------- -------- ... ----------- --------- ------\n",
       "HIP 32349  HD 48915 GJ 244 A ...          -- HIP 32349    663\n",
       "HIP 54035  HD 95735   GJ 411 ...          -- HIP 54035   1044\n",
       "HIP 70890             GJ 551 ...          -- HIP 70890   1393\n",
       "HIP 71681 HD 128621 GJ 559 B ...           0 alf Cen B   1408\n",
       "HIP 71683 HD 128620 GJ 559 A ...          -- HIP 71683   1409\n",
       "HIP 87937             GJ 699 ...          -- HIP 87937   1751\n",
       "HIP 92403             GJ 729 ...          -- HIP 92403   1825"
      ]
     },
     "execution_count": 45,
     "metadata": {},
     "output_type": "execute_result"
    }
   ],
   "source": [
    "#exoarch_mission[\"st_\"][:][sel_exomission]\n",
    "near=exocat_stars[\"st_dist\"]<3\n",
    "exocat_stars[:][near]"
   ]
  },
  {
   "cell_type": "code",
   "execution_count": null,
   "metadata": {
    "collapsed": true,
    "scrolled": false
   },
   "outputs": [],
   "source": []
  },
  {
   "cell_type": "code",
   "execution_count": null,
   "metadata": {
    "collapsed": true
   },
   "outputs": [],
   "source": []
  },
  {
   "cell_type": "code",
   "execution_count": 46,
   "metadata": {},
   "outputs": [
    {
     "data": {
      "image/png": "[encoded data removed]",
      "text/plain": [
       "<Figure size 1080x288 with 5 Axes>"
      ]
     },
     "metadata": {
      "needs_background": "light"
     },
     "output_type": "display_data"
    }
   ],
   "source": [
    "#jwst_pupil_RevW_npix1024.fits\n",
    "import poppy\n",
    "import astropy.io.fits as fits\n",
    "from zwfs import *\n",
    "\n",
    "\n",
    "wl=532*u.nm\n",
    "beam_r=9.8/2*u.m#16.8/2*u.m\n",
    "f=2\n",
    "#1.06lmabda/D|\n",
    "#mask_radius=0.01e-4*u.m\n",
    "oversample=8\n",
    "wl=980*u.nm\n",
    "npix=256\n",
    "w=beam_r*2\n",
    "mask_radius=0.5*1.06*wl/(beam_r*2)*beam_r*f #N'Diaye et al 2013 optimal radius\n",
    "\n",
    "\n",
    "wf = poppy.FresnelWavefront(beam_radius=beam_r,oversample=oversample,npix=npix,wavelength=wl)\n",
    "#wf*=poppy.ZernikeWFE(radius=beam_r.to(u.m).value,coefficients=[0,0,0,0,0,1e-7])\n",
    "#for now, do everything on a circular basis to make the optimum phase mask size is right\n",
    "wf *= poppy.CircularAperture(radius=beam_r)\n",
    "#wf *= poppy.GaussianAperture(w=w,)\n",
    "\n",
    "\n",
    "plt.figure(figsize=[15,4])\n",
    "ax1=plt.subplot(131)\n",
    "input_intensity=get_intensity(wf.copy())\n",
    "plt.imshow(input_intensity,interpolation='nearest')\n",
    "plt.title(\"input intensity\")\n",
    "plt.colorbar( format='%.0e',label=\"intensity\")\n",
    "input_wf=wf.copy()\n",
    "\n",
    "ax2=plt.subplot(132)\n",
    "phase=poppy.utils.removePadding(wf.copy().phase,oversample=wf.oversample)\n",
    "plt.imshow(phase,interpolation='nearest')\n",
    "plt.title(\"input phase\")\n",
    "plt.colorbar( format='%.0e',label=\"rad\")\n",
    "wf *= poppy.QuadraticLens(f_lens=np.float_((beam_r*f).value))\n",
    "wf.propagate_fresnel(beam_r*f)\n",
    "#tune the shift and the size of the mask here:\n",
    "mask_radius=0.5*1.06*wf.wavelength/(beam_r*2)*beam_r*f #N'Diaye et al 2013 optimal radius\n",
    "wf *= CircularPhaseShift(radius=mask_radius,shift=1.25)\n",
    "#plt.figure()\n",
    "#wf.display(what=\"both\")\n",
    "\n",
    "\n",
    "wf.propagate_fresnel(beam_r*2)\n",
    "\n",
    "ql2=poppy.QuadraticLens(f_lens=(beam_r*f).value+1e-32)\n",
    "wf *= ql2\n",
    "ax3=plt.subplot(133)\n",
    "plt.title(\"output\")\n",
    "\n",
    "\n",
    "no_abb_wf=wf.copy()\n",
    "no_abberation_phi=phi(get_intensity(no_abb_wf))#,np.sqrt(get_intensity(no_abb_wf)))\n",
    "\n",
    "\n"
   ]
  },
  {
   "cell_type": "code",
   "execution_count": 47,
   "metadata": {},
   "outputs": [
    {
     "name": "stderr",
     "output_type": "stream",
     "text": [
      "INFO:poppy:OPD from supplied fits.HDUList object: Loaded OPD from supplied fits.HDUList object\n",
      "INFO:poppy:No info supplied on amplitude transmission; assuming uniform throughput = 1\n",
      "/Users/edouglas/anaconda/envs/astroconda/lib/python3.6/site-packages/scipy/ndimage/interpolation.py:616: UserWarning: From scipy 0.13.0, the output shape of zoom() is calculated with round() instead of int() - for these inputs the size of the returned array has changed.\n",
      "  \"the returned array has changed.\", UserWarning)\n",
      "WARNING:poppy:Optic(333, 333) is smaller than input wavefront[2048, 2048], will attempt to zero-pad the rescaled array\n"
     ]
    },
    {
     "data": {
      "image/png": "[encoded data removed]",
      "text/plain": [
       "<Figure size 1080x288 with 6 Axes>"
      ]
     },
     "metadata": {
      "needs_background": "light"
     },
     "output_type": "display_data"
    }
   ],
   "source": [
    "wfe_file=\"data/segment_jitter/PSD_x1.fits\"\n",
    "lgsa=fits.open(wfe_file)\n",
    "lgsa[0].data=lgsa[0].data*wl.to(u.nm).value/(2*np.pi)\n",
    "wf = poppy.FresnelWavefront(beam_radius=beam_r,\n",
    "                            oversample=oversample,\n",
    "                            npix=npix,\n",
    "                            wavelength=wl)\n",
    "#wf*=poppy.ZernikeWFE(radius=beam_r.to(u.m).value,coefficients=[0,0,0,0,0,1e-7])\n",
    "lgsa[0].header[\"PUPLSCAL\"]=beam_r.to(u.m).value/160\n",
    "ga=poppy.GaussianAperture(w=w*500)\n",
    "wf *= ga#,shift_x=shift_x)\n",
    "wf *= poppy.FITSOpticalElement(opd=lgsa,opdunits=\"nm\")\n",
    "wf *= poppy.CircularAperture(radius=beam_r)\n",
    "#input_wf_abb_tilted=wf.copy()\n",
    "\n",
    "phase=np.ma.masked_array(poppy.utils.removePadding(wf.copy().phase,\n",
    "                                                   oversample=wf.oversample),\n",
    "                        )\n",
    "phase.mask= phase ==0\n",
    "\n",
    "\n",
    "plt.figure(figsize=[15,4])\n",
    "ax1=plt.subplot(131)\n",
    "inp_inten=np.ma.masked_array(get_intensity(wf),mask=phase.mask)-1\n",
    "plt.imshow(inp_inten,interpolation='nearest')\n",
    "\n",
    "plt.title(\"Input \")\n",
    "cm=plt.colorbar( format='1%2.1e',orientation=\"horizontal\",label=\"Normalized Intensity\")\n",
    "cm.set_ticks([inp_inten.min(), inp_inten.mean(),inp_inten.max()])\n",
    "\n",
    "\n",
    "\n",
    "\n",
    "ax2=plt.subplot(132)\n",
    "\n",
    "\n",
    "plt.title(\"Input Phase\")# [rad]\")\n",
    "plt.imshow(phase,interpolation=\"nearest\")#,vmax=1e-6,vmin=-1e-6)\n",
    "cm=plt.colorbar( format='%2.1e',orientation=\"horizontal\",label=\"Radians\")\n",
    "\n",
    "cm.set_ticks([np.nanmin(phase), phase.mean(),phase.max()])\n",
    "#,label=\"rad\")\n",
    "\n",
    "\n",
    "\n",
    "\n",
    "\n",
    "wf *= poppy.QuadraticLens(f_lens=beam_r*f)\n",
    "wf.propagate_fresnel(beam_r*f)\n",
    "#tune the shift and the size of the mask here:\n",
    "wf *= CircularPhaseShift(radius=mask_radius,shift=0.25)\n",
    "\n",
    "wf.propagate_fresnel(beam_r*2)\n",
    "wf *= poppy.QuadraticLens(f_lens=beam_r*f)\n",
    "\n",
    "ax3=plt.subplot(133)\n",
    "plt.title(\"Output\")# [rad]\")\n",
    "out=np.ma.masked_array(np.fliplr(np.flipud(phi(get_intensity(wf))-no_abberation_phi+0.5),),mask=phase.mask)-.5\n",
    "\n",
    "plt.imshow(out,interpolation='nearest',vmin=np.nanmin(phase), vmax=phase.max())\n",
    "                      # vmax=1e-6,vmin=-1e-6)\n",
    "\n",
    "\n",
    "cm=plt.colorbar( format='%2.1e',orientation=\"horizontal\",label=\"Radians\")\n",
    "cm.set_ticks([np.nanmin(phase), phase.mean(),phase.max()])\n",
    "\n",
    "\n",
    "\n",
    "\n",
    "\n",
    "'''ax3=plt.subplot(133)\n",
    "plt.title(\"Corrected Output\")\n",
    "\n",
    "zout=np.ma.masked_array(-np.fliplr(np.flipud(get_intensity(wf))),\n",
    "                        mask=phase ==0,vmax=3e-6,vmin=-3e-6)\n",
    "\n",
    "\n",
    "\n",
    "plt.imshow(zout,interpolation='nearest')\n",
    "plt.colorbar( format='%.0e',label=\"rad\")\n",
    "\n",
    "'''\n",
    "for ax in [ax1,ax2,ax3]:\n",
    "    ax.set_yticklabels(\"\")\n",
    "    ax.set_xticklabels(\"\")\n",
    "    ax.set_xticks([])\n",
    "    ax.set_yticks([])\n",
    "    ax.axis('off')\n",
    "\n",
    "    #make boarder thickness 0?\n",
    "\n",
    "plt.tight_layout()\n",
    "plt.savefig(\"figs/ZWFS_gaussian_illum_segmented.pdf\",bbox_inches=\"tight\")\n",
    "\n"
   ]
  },
  {
   "cell_type": "markdown",
   "metadata": {},
   "source": [
    "# Misc. Calculations"
   ]
  },
  {
   "cell_type": "code",
   "execution_count": 48,
   "metadata": {},
   "outputs": [
    {
     "data": {
      "text/latex": [
       "$5.3002275 \\times 10^{-20} \\; \\mathrm{m}$"
      ],
      "text/plain": [
       "<Quantity 5.30022753e-20 m>"
      ]
     },
     "execution_count": 48,
     "metadata": {},
     "output_type": "execute_result"
    }
   ],
   "source": [
    "z=47e4*u.km\n",
    "f=1\n",
    "w0=100*u.mm#4*wavelength/np.pi*5\n",
    "wl=wavelength\n",
    "dR=z*(1+(16*wl*f**2/np.pi/z)**2)*(16*wl/np.pi/z)**2*f**3\n",
    "dR.decompose()"
   ]
  },
  {
   "cell_type": "code",
   "execution_count": 49,
   "metadata": {},
   "outputs": [
    {
     "data": {
      "text/latex": [
       "$2.2510638 \\times 10^{-8} \\; \\mathrm{m}$"
      ],
      "text/plain": [
       "<Quantity 2.25106383e-08 m>"
      ]
     },
     "execution_count": 49,
     "metadata": {},
     "output_type": "execute_result"
    }
   ],
   "source": [
    "R_T=D_t/2\n",
    "(R_T**2/(2*z)).decompose()"
   ]
  },
  {
   "cell_type": "code",
   "execution_count": 50,
   "metadata": {
    "collapsed": true
   },
   "outputs": [],
   "source": [
    "z*(1+(np.pi*w0**2/wl/z)**2)\n",
    "e=50*u.m"
   ]
  },
  {
   "cell_type": "code",
   "execution_count": 51,
   "metadata": {},
   "outputs": [
    {
     "data": {
      "text/latex": [
       "$-8.7427907 \\times 10^{-5} \\; \\mathrm{m}$"
      ],
      "text/plain": [
       "<Quantity -8.74279067e-05 m>"
      ]
     },
     "execution_count": 51,
     "metadata": {},
     "output_type": "execute_result"
    }
   ],
   "source": [
    "(z*(1+(np.pi*w0**2/wl/z)**2)-(z*(1+(np.pi*(w0+1*u.um)**2/wl/z)**2))).decompose()"
   ]
  },
  {
   "cell_type": "raw",
   "metadata": {
    "collapsed": true
   },
   "source": [
    "Fractional radius"
   ]
  },
  {
   "cell_type": "code",
   "execution_count": 52,
   "metadata": {},
   "outputs": [
    {
     "data": {
      "text/latex": [
       "$0.0056891558 \\; \\mathrm{}$"
      ],
      "text/plain": [
       "<Quantity 0.00568916>"
      ]
     },
     "execution_count": 52,
     "metadata": {},
     "output_type": "execute_result"
    }
   ],
   "source": [
    "(D_t/2/((3.862*u.arcsecond).to(u.radian).value*43184.0*u.km)).decompose()"
   ]
  },
  {
   "cell_type": "markdown",
   "metadata": {},
   "source": [
    "PV curvature:"
   ]
  },
  {
   "cell_type": "code",
   "execution_count": 53,
   "metadata": {},
   "outputs": [
    {
     "data": {
      "text/latex": [
       "$8.3696016 \\times 10^{-5} \\; \\mathrm{}$"
      ],
      "text/plain": [
       "<Quantity 8.36960161e-05>"
      ]
     },
     "execution_count": 53,
     "metadata": {},
     "output_type": "execute_result"
    }
   ],
   "source": [
    "w_incident=(3.862*u.arcsecond).to(u.radian).value*43184.0*u.km\n",
    "(z-np.sqrt(z**2-(D_t/2)**2))/(z-np.sqrt(z**2-w_incident**2))"
   ]
  },
  {
   "cell_type": "code",
   "execution_count": 54,
   "metadata": {},
   "outputs": [
    {
     "data": {
      "text/latex": [
       "$20.626481 \\; \\mathrm{marcsec}$"
      ],
      "text/plain": [
       "<Quantity 20.62648062 marcsec>"
      ]
     },
     "execution_count": 54,
     "metadata": {},
     "output_type": "execute_result"
    }
   ],
   "source": [
    "IWA=(400*u.nm*3.75/(15*u.m)*u.radian).to(u.milliarcsecond) #pueyo 2017\n",
    "IWA"
   ]
  },
  {
   "cell_type": "code",
   "execution_count": null,
   "metadata": {
    "collapsed": true
   },
   "outputs": [],
   "source": []
  },
  {
   "cell_type": "code",
   "execution_count": 55,
   "metadata": {},
   "outputs": [
    {
     "data": {
      "text/latex": [
       "$176.61928 \\; \\mathrm{}$"
      ],
      "text/plain": [
       "<Quantity 176.61927654>"
      ]
     },
     "execution_count": 55,
     "metadata": {},
     "output_type": "execute_result"
    }
   ],
   "source": [
    "# divergence vs pointing jitter, Eq.10\n",
    "dI=10*u.pm*(2*np.pi/(wavelength)) #phase error ~ intensity error\n",
    "x0=15*u.milliarcsecond #angular LGS pointing error\n",
    "w=np.sqrt((2*x0**2/dI)).decompose()#angular beam width\n",
    "(w/x0).decompose()"
   ]
  },
  {
   "cell_type": "code",
   "execution_count": null,
   "metadata": {
    "collapsed": true
   },
   "outputs": [],
   "source": []
  }
 ],
 "metadata": {
  "kernelspec": {
   "display_name": "Python [conda env:astroconda]",
   "language": "python",
   "name": "conda-env-astroconda-py"
  },
  "language_info": {
   "codemirror_mode": {
    "name": "ipython",
    "version": 3
   },
   "file_extension": ".py",
   "mimetype": "text/x-python",
   "name": "python",
   "nbconvert_exporter": "python",
   "pygments_lexer": "ipython3",
   "version": "3.6.6"
  }
 },
 "nbformat": 4,
 "nbformat_minor": 2
}
